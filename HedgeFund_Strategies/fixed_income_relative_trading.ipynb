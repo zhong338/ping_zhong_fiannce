{
 "cells": [
  {
   "cell_type": "code",
   "execution_count": 1,
   "metadata": {},
   "outputs": [],
   "source": [
    "# ! pip install statsmodels"
   ]
  },
  {
   "cell_type": "code",
   "execution_count": 2,
   "metadata": {
    "ExecuteTime": {
     "end_time": "2022-02-23T15:33:45.535057Z",
     "start_time": "2022-02-23T15:33:43.717103Z"
    }
   },
   "outputs": [
    {
     "name": "stderr",
     "output_type": "stream",
     "text": [
      "C:\\Users\\zhong\\AppData\\Local\\Temp\\ipykernel_11460\\200167091.py:3: DeprecationWarning: \n",
      "Pyarrow will become a required dependency of pandas in the next major release of pandas (pandas 3.0),\n",
      "(to allow more performant data types, such as the Arrow string type, and better interoperability with other libraries)\n",
      "but was not found to be installed on your system.\n",
      "If this would cause problems for you,\n",
      "please provide us feedback at https://github.com/pandas-dev/pandas/issues/54466\n",
      "        \n",
      "  import pandas as pd\n"
     ]
    }
   ],
   "source": [
    "import numpy as np\n",
    "import QuantLib as ql\n",
    "import pandas as pd\n",
    "import statsmodels.api as sm"
   ]
  },
  {
   "cell_type": "markdown",
   "metadata": {},
   "source": [
    "## Step 1. Construct 4 'Butterfly' portfolios"
   ]
  },
  {
   "cell_type": "markdown",
   "metadata": {},
   "source": [
    "#### Read the data"
   ]
  },
  {
   "cell_type": "code",
   "execution_count": 3,
   "metadata": {},
   "outputs": [
    {
     "data": {
      "text/html": [
       "<div>\n",
       "<style scoped>\n",
       "    .dataframe tbody tr th:only-of-type {\n",
       "        vertical-align: middle;\n",
       "    }\n",
       "\n",
       "    .dataframe tbody tr th {\n",
       "        vertical-align: top;\n",
       "    }\n",
       "\n",
       "    .dataframe thead th {\n",
       "        text-align: right;\n",
       "    }\n",
       "</style>\n",
       "<table border=\"1\" class=\"dataframe\">\n",
       "  <thead>\n",
       "    <tr style=\"text-align: right;\">\n",
       "      <th></th>\n",
       "      <th>Date</th>\n",
       "      <th>USGG3M Index</th>\n",
       "      <th>USGG6M Index</th>\n",
       "      <th>USGG12M Index</th>\n",
       "      <th>USGG2YR Index</th>\n",
       "      <th>USGG3YR Index</th>\n",
       "      <th>USGG5YR Index</th>\n",
       "      <th>USGG7YR Index</th>\n",
       "      <th>USGG10YR Index</th>\n",
       "      <th>USGG30YR Index</th>\n",
       "    </tr>\n",
       "  </thead>\n",
       "  <tbody>\n",
       "    <tr>\n",
       "      <th>0</th>\n",
       "      <td>2018-02-15</td>\n",
       "      <td>1.5879</td>\n",
       "      <td>1.8159</td>\n",
       "      <td>1.9769</td>\n",
       "      <td>2.1844</td>\n",
       "      <td>2.4076</td>\n",
       "      <td>2.6508</td>\n",
       "      <td>2.8362</td>\n",
       "      <td>2.9095</td>\n",
       "      <td>3.1637</td>\n",
       "    </tr>\n",
       "    <tr>\n",
       "      <th>1</th>\n",
       "      <td>2018-02-16</td>\n",
       "      <td>1.5901</td>\n",
       "      <td>1.8207</td>\n",
       "      <td>1.9714</td>\n",
       "      <td>2.1895</td>\n",
       "      <td>2.3835</td>\n",
       "      <td>2.6291</td>\n",
       "      <td>2.8039</td>\n",
       "      <td>2.8749</td>\n",
       "      <td>3.1316</td>\n",
       "    </tr>\n",
       "    <tr>\n",
       "      <th>2</th>\n",
       "      <td>2018-02-20</td>\n",
       "      <td>1.5952</td>\n",
       "      <td>1.8206</td>\n",
       "      <td>1.9869</td>\n",
       "      <td>2.2187</td>\n",
       "      <td>2.4055</td>\n",
       "      <td>2.6446</td>\n",
       "      <td>2.8140</td>\n",
       "      <td>2.8896</td>\n",
       "      <td>3.1530</td>\n",
       "    </tr>\n",
       "    <tr>\n",
       "      <th>3</th>\n",
       "      <td>2018-02-21</td>\n",
       "      <td>1.6390</td>\n",
       "      <td>1.8469</td>\n",
       "      <td>2.0025</td>\n",
       "      <td>2.2661</td>\n",
       "      <td>2.4358</td>\n",
       "      <td>2.6858</td>\n",
       "      <td>2.8672</td>\n",
       "      <td>2.9500</td>\n",
       "      <td>3.2204</td>\n",
       "    </tr>\n",
       "    <tr>\n",
       "      <th>4</th>\n",
       "      <td>2018-02-22</td>\n",
       "      <td>1.6338</td>\n",
       "      <td>1.8417</td>\n",
       "      <td>1.9998</td>\n",
       "      <td>2.2460</td>\n",
       "      <td>2.4085</td>\n",
       "      <td>2.6552</td>\n",
       "      <td>2.8345</td>\n",
       "      <td>2.9207</td>\n",
       "      <td>3.2062</td>\n",
       "    </tr>\n",
       "    <tr>\n",
       "      <th>...</th>\n",
       "      <td>...</td>\n",
       "      <td>...</td>\n",
       "      <td>...</td>\n",
       "      <td>...</td>\n",
       "      <td>...</td>\n",
       "      <td>...</td>\n",
       "      <td>...</td>\n",
       "      <td>...</td>\n",
       "      <td>...</td>\n",
       "      <td>...</td>\n",
       "    </tr>\n",
       "    <tr>\n",
       "      <th>1245</th>\n",
       "      <td>2023-02-09</td>\n",
       "      <td>4.7259</td>\n",
       "      <td>4.9019</td>\n",
       "      <td>4.8505</td>\n",
       "      <td>4.4820</td>\n",
       "      <td>4.1482</td>\n",
       "      <td>3.8586</td>\n",
       "      <td>3.7774</td>\n",
       "      <td>3.6579</td>\n",
       "      <td>3.7264</td>\n",
       "    </tr>\n",
       "    <tr>\n",
       "      <th>1246</th>\n",
       "      <td>2023-02-10</td>\n",
       "      <td>4.7345</td>\n",
       "      <td>4.8999</td>\n",
       "      <td>4.8680</td>\n",
       "      <td>4.5170</td>\n",
       "      <td>4.2015</td>\n",
       "      <td>3.9226</td>\n",
       "      <td>3.8480</td>\n",
       "      <td>3.7320</td>\n",
       "      <td>3.8158</td>\n",
       "    </tr>\n",
       "    <tr>\n",
       "      <th>1247</th>\n",
       "      <td>2023-02-13</td>\n",
       "      <td>4.7468</td>\n",
       "      <td>4.9232</td>\n",
       "      <td>4.8839</td>\n",
       "      <td>4.5175</td>\n",
       "      <td>4.2015</td>\n",
       "      <td>3.9104</td>\n",
       "      <td>3.8168</td>\n",
       "      <td>3.7016</td>\n",
       "      <td>3.7728</td>\n",
       "    </tr>\n",
       "    <tr>\n",
       "      <th>1248</th>\n",
       "      <td>2023-02-14</td>\n",
       "      <td>4.7142</td>\n",
       "      <td>4.9957</td>\n",
       "      <td>4.9513</td>\n",
       "      <td>4.6154</td>\n",
       "      <td>4.3169</td>\n",
       "      <td>4.0010</td>\n",
       "      <td>3.8848</td>\n",
       "      <td>3.7435</td>\n",
       "      <td>3.7746</td>\n",
       "    </tr>\n",
       "    <tr>\n",
       "      <th>1249</th>\n",
       "      <td>2023-02-15</td>\n",
       "      <td>4.7142</td>\n",
       "      <td>4.9584</td>\n",
       "      <td>4.9078</td>\n",
       "      <td>4.6090</td>\n",
       "      <td>4.3056</td>\n",
       "      <td>3.9868</td>\n",
       "      <td>3.8796</td>\n",
       "      <td>3.7378</td>\n",
       "      <td>3.7737</td>\n",
       "    </tr>\n",
       "  </tbody>\n",
       "</table>\n",
       "<p>1250 rows × 10 columns</p>\n",
       "</div>"
      ],
      "text/plain": [
       "           Date  USGG3M Index  USGG6M Index  USGG12M Index  USGG2YR Index  \\\n",
       "0    2018-02-15        1.5879        1.8159         1.9769         2.1844   \n",
       "1    2018-02-16        1.5901        1.8207         1.9714         2.1895   \n",
       "2    2018-02-20        1.5952        1.8206         1.9869         2.2187   \n",
       "3    2018-02-21        1.6390        1.8469         2.0025         2.2661   \n",
       "4    2018-02-22        1.6338        1.8417         1.9998         2.2460   \n",
       "...         ...           ...           ...            ...            ...   \n",
       "1245 2023-02-09        4.7259        4.9019         4.8505         4.4820   \n",
       "1246 2023-02-10        4.7345        4.8999         4.8680         4.5170   \n",
       "1247 2023-02-13        4.7468        4.9232         4.8839         4.5175   \n",
       "1248 2023-02-14        4.7142        4.9957         4.9513         4.6154   \n",
       "1249 2023-02-15        4.7142        4.9584         4.9078         4.6090   \n",
       "\n",
       "      USGG3YR Index  USGG5YR Index  USGG7YR Index  USGG10YR Index  \\\n",
       "0            2.4076         2.6508         2.8362          2.9095   \n",
       "1            2.3835         2.6291         2.8039          2.8749   \n",
       "2            2.4055         2.6446         2.8140          2.8896   \n",
       "3            2.4358         2.6858         2.8672          2.9500   \n",
       "4            2.4085         2.6552         2.8345          2.9207   \n",
       "...             ...            ...            ...             ...   \n",
       "1245         4.1482         3.8586         3.7774          3.6579   \n",
       "1246         4.2015         3.9226         3.8480          3.7320   \n",
       "1247         4.2015         3.9104         3.8168          3.7016   \n",
       "1248         4.3169         4.0010         3.8848          3.7435   \n",
       "1249         4.3056         3.9868         3.8796          3.7378   \n",
       "\n",
       "      USGG30YR Index  \n",
       "0             3.1637  \n",
       "1             3.1316  \n",
       "2             3.1530  \n",
       "3             3.2204  \n",
       "4             3.2062  \n",
       "...              ...  \n",
       "1245          3.7264  \n",
       "1246          3.8158  \n",
       "1247          3.7728  \n",
       "1248          3.7746  \n",
       "1249          3.7737  \n",
       "\n",
       "[1250 rows x 10 columns]"
      ]
     },
     "execution_count": 3,
     "metadata": {},
     "output_type": "execute_result"
    }
   ],
   "source": [
    "data = pd.read_excel(\"Treasury Curve Data.xlsx\")\n",
    "data"
   ]
  },
  {
   "cell_type": "markdown",
   "metadata": {},
   "source": [
    "#### Use the Feb-15-2023 yield curve to price the bonds"
   ]
  },
  {
   "cell_type": "markdown",
   "metadata": {},
   "source": [
    "#### Use the QuantLib `ZeroCurve` function to bootstrap the yield curve. \n"
   ]
  },
  {
   "cell_type": "code",
   "execution_count": 4,
   "metadata": {
    "ExecuteTime": {
     "end_time": "2022-02-23T15:33:45.970891Z",
     "start_time": "2022-02-23T15:33:45.957898Z"
    }
   },
   "outputs": [],
   "source": [
    "# old code\n",
    "todaysDate = ql.Date(31, 1, 2022)\n",
    "ql.Settings.instance().evaluationDate = todaysDate\n",
    "Dates = [ql.Date(31, 1, 2022), ql.Date(30, 4, 2022), ql.Date(31, 7, 2022), ql.Date(31, 1, 2023), ql.Date(31, 1, 2024),ql.Date(31, 1, 2025), ql.Date(31, 1, 2027),ql.Date(31, 1, 2029), ql.Date(31, 1, 2032),ql.Date(31, 1, 2052)]\n",
    "yields = [4.1207,4.7142,4.9584,4.9078,4.609,4.3056,3.9868,3.8796,3.7378,3.7737]\n",
    "yields = [x/100 for x in yields]\n",
    "\n",
    "dayCount = ql.Thirty360(ql.Thirty360.USA)\n",
    "calendar = ql.UnitedStates(ql.UnitedStates.FederalReserve)\n",
    "interpolation = ql.Linear()\n",
    "compounding = ql.Compounded\n",
    "compoundingFrequency = ql.Annual\n",
    "spotCurve = ql.ZeroCurve(Dates, yields, dayCount, calendar, interpolation,\n",
    "                        compounding, compoundingFrequency)\n",
    "spotCurveHandle = ql.YieldTermStructureHandle(spotCurve)"
   ]
  },
  {
   "cell_type": "code",
   "execution_count": 5,
   "metadata": {},
   "outputs": [],
   "source": [
    "todaysDate = ql.Date(15, 2, 2023)\n",
    "ql.Settings.instance().evaluationDate = todaysDate\n",
    "Dates = [ql.Date(15,2,2023),ql.Date(15, 5, 2023), ql.Date(15, 8, 2023), ql.Date(15, 2, 2024), ql.Date(15, 2, 2025),ql.Date(15, 2, 2026), ql.Date(15, 2, 2028),ql.Date(15, 2, 2030), ql.Date(15, 2, 2033),ql.Date(15, 2, 2053)]\n",
    "yields = [4.1207, 4.7142,4.9584,4.9078,4.609,4.3056,3.9868,3.8796,3.7378,3.7737]\n",
    "yields = [x/100 for x in yields]\n",
    "\n",
    "dayCount = ql.Thirty360(ql.Thirty360.USA)\n",
    "calendar = ql.UnitedStates(ql.UnitedStates.FederalReserve)\n",
    "interpolation = ql.Linear()\n",
    "compounding = ql.Compounded\n",
    "compoundingFrequency = ql.Annual\n",
    "spotCurve = ql.ZeroCurve(Dates, yields, dayCount, calendar, interpolation,\n",
    "                        compounding, compoundingFrequency)\n",
    "spotCurveHandle = ql.YieldTermStructureHandle(spotCurve)"
   ]
  },
  {
   "cell_type": "markdown",
   "metadata": {},
   "source": [
    "### 2Y bond price and dollar duration"
   ]
  },
  {
   "cell_type": "markdown",
   "metadata": {},
   "source": [
    "#### set up the variables to price the 2Y bond. "
   ]
  },
  {
   "cell_type": "code",
   "execution_count": 6,
   "metadata": {
    "ExecuteTime": {
     "end_time": "2022-02-23T15:33:45.986848Z",
     "start_time": "2022-02-23T15:33:45.972857Z"
    }
   },
   "outputs": [
    {
     "data": {
      "text/plain": [
       "[Date(15,2,2023),\n",
       " Date(15,8,2023),\n",
       " Date(15,2,2024),\n",
       " Date(15,8,2024),\n",
       " Date(15,2,2025)]"
      ]
     },
     "execution_count": 6,
     "metadata": {},
     "output_type": "execute_result"
    }
   ],
   "source": [
    "issueDate = ql.Date(15, 2, 2023)\n",
    "maturityDate = ql.Date(15, 2, 2025)\n",
    "tenor = ql.Period(ql.Semiannual)\n",
    "calendar = ql.UnitedStates(ql.UnitedStates.FederalReserve)\n",
    "bussinessConvention = ql.Unadjusted\n",
    "dateGeneration = ql.DateGeneration.Backward\n",
    "monthEnd = False\n",
    "schedule = ql.Schedule (issueDate, maturityDate, tenor, calendar, bussinessConvention,\n",
    "                        bussinessConvention , dateGeneration, monthEnd)\n",
    "list(schedule)"
   ]
  },
  {
   "cell_type": "code",
   "execution_count": 7,
   "metadata": {
    "ExecuteTime": {
     "end_time": "2022-02-23T15:33:46.002777Z",
     "start_time": "2022-02-23T15:33:45.989838Z"
    }
   },
   "outputs": [
    {
     "data": {
      "text/plain": [
       "100.052993889883"
      ]
     },
     "execution_count": 7,
     "metadata": {},
     "output_type": "execute_result"
    }
   ],
   "source": [
    "# Now lets build the coupon\n",
    "dayCount = ql.Thirty360(ql.Thirty360.USA)\n",
    "couponRate = 4.609/100\n",
    "coupons = [couponRate]\n",
    "\n",
    "# Now lets construct the FixedRateBond\n",
    "settlementDays = 0\n",
    "faceValue = 100\n",
    "fixedRateBond = ql.FixedRateBond(settlementDays, faceValue, schedule, coupons, dayCount)\n",
    "\n",
    "# create a bond engine with the term structure as input;\n",
    "# set the bond to use this bond engine\n",
    "bondEngine = ql.DiscountingBondEngine(spotCurveHandle)\n",
    "fixedRateBond.setPricingEngine(bondEngine)\n",
    "\n",
    "# Finally the price\n",
    "fixedRateBond.NPV()"
   ]
  },
  {
   "cell_type": "code",
   "execution_count": 8,
   "metadata": {
    "ExecuteTime": {
     "end_time": "2022-02-23T15:33:46.032726Z",
     "start_time": "2022-02-23T15:33:46.018734Z"
    }
   },
   "outputs": [],
   "source": [
    "P_2y = fixedRateBond.NPV()"
   ]
  },
  {
   "cell_type": "code",
   "execution_count": 9,
   "metadata": {},
   "outputs": [
    {
     "data": {
      "text/plain": [
       "0.018566825572730785"
      ]
     },
     "execution_count": 9,
     "metadata": {},
     "output_type": "execute_result"
    }
   ],
   "source": [
    "# Calculate duration\n",
    "duration_2y = ql.BondFunctions.duration(fixedRateBond, ql.InterestRate(couponRate, dayCount, compounding, compoundingFrequency), ql.Duration.Modified)\n",
    "\n",
    "# Assume a small change in yield (e.g., 1 basis point)\n",
    "delta_y = 0.0001\n",
    "\n",
    "# Calculate dollar duration\n",
    "dollar_duration_2y = P_2y * duration_2y* delta_y\n",
    "dollar_duration_2y"
   ]
  },
  {
   "cell_type": "markdown",
   "metadata": {},
   "source": [
    "### Calcualte 5Y Bond Price and dollar duration"
   ]
  },
  {
   "cell_type": "code",
   "execution_count": 10,
   "metadata": {},
   "outputs": [
    {
     "name": "stdout",
     "output_type": "stream",
     "text": [
      "[Date(15,2,2023), Date(15,8,2023), Date(15,2,2024), Date(15,8,2024), Date(15,2,2025), Date(15,8,2025), Date(15,2,2026), Date(15,8,2026), Date(15,2,2027), Date(15,8,2027), Date(15,2,2028)]\n"
     ]
    },
    {
     "data": {
      "text/plain": [
       "100.03856800016044"
      ]
     },
     "execution_count": 10,
     "metadata": {},
     "output_type": "execute_result"
    }
   ],
   "source": [
    "issueDate = ql.Date(15, 2, 2023)\n",
    "maturityDate = ql.Date(15, 2, 2028)\n",
    "tenor = ql.Period(ql.Semiannual)\n",
    "calendar = ql.UnitedStates(ql.UnitedStates.FederalReserve)\n",
    "bussinessConvention = ql.Unadjusted\n",
    "dateGeneration = ql.DateGeneration.Backward\n",
    "monthEnd = False\n",
    "schedule = ql.Schedule (issueDate, maturityDate, tenor, calendar, bussinessConvention,\n",
    "                        bussinessConvention , dateGeneration, monthEnd)\n",
    "print(list(schedule))\n",
    "\n",
    "dayCount = ql.Thirty360(ql.Thirty360.USA)\n",
    "couponRate = 3.9868/100\n",
    "coupons = [couponRate]\n",
    "\n",
    "settlementDays = 0\n",
    "faceValue = 100\n",
    "fixedRateBond = ql.FixedRateBond(settlementDays, faceValue, schedule, coupons, dayCount)\n",
    "bondEngine = ql.DiscountingBondEngine(spotCurveHandle)\n",
    "fixedRateBond.setPricingEngine(bondEngine)\n",
    "\n",
    "# Finally the price\n",
    "fixedRateBond.NPV()"
   ]
  },
  {
   "cell_type": "code",
   "execution_count": 11,
   "metadata": {},
   "outputs": [],
   "source": [
    "P_5y = fixedRateBond.NPV()"
   ]
  },
  {
   "cell_type": "code",
   "execution_count": 12,
   "metadata": {},
   "outputs": [
    {
     "data": {
      "text/plain": [
       "0.04409296492448416"
      ]
     },
     "execution_count": 12,
     "metadata": {},
     "output_type": "execute_result"
    }
   ],
   "source": [
    "# Calculate duration\n",
    "duration_5y = ql.BondFunctions.duration(fixedRateBond, ql.InterestRate(couponRate, dayCount, compounding, compoundingFrequency), ql.Duration.Modified)\n",
    "\n",
    "# Assume a small change in yield (e.g., 1 basis point)\n",
    "delta_y = 0.0001\n",
    "\n",
    "# Calculate dollar duration\n",
    "dollar_duration_5y = P_5y * duration_5y* delta_y\n",
    "dollar_duration_5y"
   ]
  },
  {
   "cell_type": "markdown",
   "metadata": {},
   "source": [
    "### Calculate 10Y Bond Price and dollar duration"
   ]
  },
  {
   "cell_type": "code",
   "execution_count": 13,
   "metadata": {},
   "outputs": [
    {
     "name": "stdout",
     "output_type": "stream",
     "text": [
      "[Date(15,2,2023), Date(15,8,2023), Date(15,2,2024), Date(15,8,2024), Date(15,2,2025), Date(15,8,2025), Date(15,2,2026), Date(15,8,2026), Date(15,2,2027), Date(15,8,2027), Date(15,2,2028), Date(15,8,2028), Date(15,2,2029), Date(15,8,2029), Date(15,2,2030), Date(15,8,2030), Date(15,2,2031), Date(15,8,2031), Date(15,2,2032), Date(15,8,2032), Date(15,2,2033)]\n"
     ]
    },
    {
     "data": {
      "text/plain": [
       "99.94512401871533"
      ]
     },
     "execution_count": 13,
     "metadata": {},
     "output_type": "execute_result"
    }
   ],
   "source": [
    "issueDate = ql.Date(15, 2, 2023)\n",
    "maturityDate = ql.Date(15, 2, 2033)\n",
    "tenor = ql.Period(ql.Semiannual)\n",
    "calendar = ql.UnitedStates(ql.UnitedStates.FederalReserve)\n",
    "bussinessConvention = ql.Unadjusted\n",
    "dateGeneration = ql.DateGeneration.Backward\n",
    "monthEnd = False\n",
    "schedule = ql.Schedule (issueDate, maturityDate, tenor, calendar, bussinessConvention,\n",
    "                        bussinessConvention , dateGeneration, monthEnd)\n",
    "print(list(schedule))\n",
    "\n",
    "dayCount = ql.Thirty360(ql.Thirty360.USA)\n",
    "couponRate = 3.7378/100\n",
    "coupons = [couponRate]\n",
    "\n",
    "settlementDays = 0\n",
    "faceValue = 100\n",
    "fixedRateBond = ql.FixedRateBond(settlementDays, faceValue, schedule, coupons, dayCount)\n",
    "bondEngine = ql.DiscountingBondEngine(spotCurveHandle)\n",
    "fixedRateBond.setPricingEngine(bondEngine)\n",
    "\n",
    "# Finally the price\n",
    "fixedRateBond.NPV()"
   ]
  },
  {
   "cell_type": "code",
   "execution_count": 14,
   "metadata": {},
   "outputs": [],
   "source": [
    "P_10y = fixedRateBond.NPV()"
   ]
  },
  {
   "cell_type": "code",
   "execution_count": 15,
   "metadata": {},
   "outputs": [
    {
     "data": {
      "text/plain": [
       "0.08129766971114967"
      ]
     },
     "execution_count": 15,
     "metadata": {},
     "output_type": "execute_result"
    }
   ],
   "source": [
    "# Calculate duration\n",
    "duration_10y = ql.BondFunctions.duration(fixedRateBond, ql.InterestRate(couponRate, dayCount, compounding, compoundingFrequency), ql.Duration.Modified)\n",
    "\n",
    "# Assume a small change in yield (e.g., 1 basis point)\n",
    "delta_y = 0.0001\n",
    "\n",
    "# Calculate dollar duration\n",
    "dollar_duration_10y = P_10y * duration_10y* delta_y\n",
    "dollar_duration_10y"
   ]
  },
  {
   "cell_type": "markdown",
   "metadata": {},
   "source": [
    "\n",
    "### Now, we have calcuated the dollar duration and duration of each bond and use them to construct the butterflies.\n"
   ]
  },
  {
   "cell_type": "markdown",
   "metadata": {},
   "source": [
    "####  But, first we need to calculate the beta in strategy 3."
   ]
  },
  {
   "cell_type": "code",
   "execution_count": 16,
   "metadata": {
    "ExecuteTime": {
     "end_time": "2022-02-23T15:33:46.345859Z",
     "start_time": "2022-02-23T15:33:46.331929Z"
    }
   },
   "outputs": [],
   "source": [
    "Y_10 = data.iloc[:,-2]\n",
    "Y_5 = data.iloc[:,-4]\n",
    "Y_2 = data.iloc[:,4]\n",
    "Y10_5 = Y_10 - Y_5\n",
    "Y5_2 = Y_5 - Y_2"
   ]
  },
  {
   "cell_type": "markdown",
   "metadata": {},
   "source": [
    "Getting the changes on two sides"
   ]
  },
  {
   "cell_type": "code",
   "execution_count": 17,
   "metadata": {
    "ExecuteTime": {
     "end_time": "2022-02-23T15:33:46.361818Z",
     "start_time": "2022-02-23T15:33:46.347855Z"
    }
   },
   "outputs": [],
   "source": [
    "# x = Y10_5.diff().dropna()#[-65:] if 3 month\n",
    "y = Y10_5.diff().dropna()#[-65:] if 3 month"
   ]
  },
  {
   "cell_type": "code",
   "execution_count": 18,
   "metadata": {
    "ExecuteTime": {
     "end_time": "2022-02-23T15:33:46.376776Z",
     "start_time": "2022-02-23T15:33:46.362814Z"
    }
   },
   "outputs": [],
   "source": [
    "# y = Y5_2.diff().dropna()#[-65:]\n",
    "x = Y5_2.diff().dropna()#[-65:]"
   ]
  },
  {
   "cell_type": "markdown",
   "metadata": {},
   "source": [
    "Fitting regression"
   ]
  },
  {
   "cell_type": "code",
   "execution_count": 19,
   "metadata": {
    "ExecuteTime": {
     "end_time": "2022-02-23T15:33:46.408723Z",
     "start_time": "2022-02-23T15:33:46.378771Z"
    }
   },
   "outputs": [
    {
     "data": {
      "text/html": [
       "<table class=\"simpletable\">\n",
       "<caption>OLS Regression Results</caption>\n",
       "<tr>\n",
       "  <th>Dep. Variable:</th>            <td>y</td>        <th>  R-squared:         </th> <td>   0.150</td>\n",
       "</tr>\n",
       "<tr>\n",
       "  <th>Model:</th>                   <td>OLS</td>       <th>  Adj. R-squared:    </th> <td>   0.149</td>\n",
       "</tr>\n",
       "<tr>\n",
       "  <th>Method:</th>             <td>Least Squares</td>  <th>  F-statistic:       </th> <td>   219.5</td>\n",
       "</tr>\n",
       "<tr>\n",
       "  <th>Date:</th>             <td>Wed, 21 Feb 2024</td> <th>  Prob (F-statistic):</th> <td>7.11e-46</td>\n",
       "</tr>\n",
       "<tr>\n",
       "  <th>Time:</th>                 <td>15:14:24</td>     <th>  Log-Likelihood:    </th> <td>  3273.0</td>\n",
       "</tr>\n",
       "<tr>\n",
       "  <th>No. Observations:</th>      <td>  1249</td>      <th>  AIC:               </th> <td>  -6542.</td>\n",
       "</tr>\n",
       "<tr>\n",
       "  <th>Df Residuals:</th>          <td>  1247</td>      <th>  BIC:               </th> <td>  -6532.</td>\n",
       "</tr>\n",
       "<tr>\n",
       "  <th>Df Model:</th>              <td>     1</td>      <th>                     </th>     <td> </td>   \n",
       "</tr>\n",
       "<tr>\n",
       "  <th>Covariance Type:</th>      <td>nonrobust</td>    <th>                     </th>     <td> </td>   \n",
       "</tr>\n",
       "</table>\n",
       "<table class=\"simpletable\">\n",
       "<tr>\n",
       "    <td></td>       <th>coef</th>     <th>std err</th>      <th>t</th>      <th>P>|t|</th>  <th>[0.025</th>    <th>0.975]</th>  \n",
       "</tr>\n",
       "<tr>\n",
       "  <th>const</th> <td>   -0.0001</td> <td>    0.000</td> <td>   -0.268</td> <td> 0.788</td> <td>   -0.001</td> <td>    0.001</td>\n",
       "</tr>\n",
       "<tr>\n",
       "  <th>0</th>     <td>    0.3127</td> <td>    0.021</td> <td>   14.817</td> <td> 0.000</td> <td>    0.271</td> <td>    0.354</td>\n",
       "</tr>\n",
       "</table>\n",
       "<table class=\"simpletable\">\n",
       "<tr>\n",
       "  <th>Omnibus:</th>       <td>167.108</td> <th>  Durbin-Watson:     </th> <td>   1.884</td> \n",
       "</tr>\n",
       "<tr>\n",
       "  <th>Prob(Omnibus):</th> <td> 0.000</td>  <th>  Jarque-Bera (JB):  </th> <td>1261.636</td> \n",
       "</tr>\n",
       "<tr>\n",
       "  <th>Skew:</th>          <td>-0.357</td>  <th>  Prob(JB):          </th> <td>1.09e-274</td>\n",
       "</tr>\n",
       "<tr>\n",
       "  <th>Kurtosis:</th>      <td> 7.872</td>  <th>  Cond. No.          </th> <td>    42.3</td> \n",
       "</tr>\n",
       "</table><br/><br/>Notes:<br/>[1] Standard Errors assume that the covariance matrix of the errors is correctly specified."
      ],
      "text/latex": [
       "\\begin{center}\n",
       "\\begin{tabular}{lclc}\n",
       "\\toprule\n",
       "\\textbf{Dep. Variable:}    &        y         & \\textbf{  R-squared:         } &     0.150   \\\\\n",
       "\\textbf{Model:}            &       OLS        & \\textbf{  Adj. R-squared:    } &     0.149   \\\\\n",
       "\\textbf{Method:}           &  Least Squares   & \\textbf{  F-statistic:       } &     219.5   \\\\\n",
       "\\textbf{Date:}             & Wed, 21 Feb 2024 & \\textbf{  Prob (F-statistic):} &  7.11e-46   \\\\\n",
       "\\textbf{Time:}             &     15:14:24     & \\textbf{  Log-Likelihood:    } &    3273.0   \\\\\n",
       "\\textbf{No. Observations:} &        1249      & \\textbf{  AIC:               } &    -6542.   \\\\\n",
       "\\textbf{Df Residuals:}     &        1247      & \\textbf{  BIC:               } &    -6532.   \\\\\n",
       "\\textbf{Df Model:}         &           1      & \\textbf{                     } &             \\\\\n",
       "\\textbf{Covariance Type:}  &    nonrobust     & \\textbf{                     } &             \\\\\n",
       "\\bottomrule\n",
       "\\end{tabular}\n",
       "\\begin{tabular}{lcccccc}\n",
       "               & \\textbf{coef} & \\textbf{std err} & \\textbf{t} & \\textbf{P$> |$t$|$} & \\textbf{[0.025} & \\textbf{0.975]}  \\\\\n",
       "\\midrule\n",
       "\\textbf{const} &      -0.0001  &        0.000     &    -0.268  &         0.788        &       -0.001    &        0.001     \\\\\n",
       "\\textbf{0}     &       0.3127  &        0.021     &    14.817  &         0.000        &        0.271    &        0.354     \\\\\n",
       "\\bottomrule\n",
       "\\end{tabular}\n",
       "\\begin{tabular}{lclc}\n",
       "\\textbf{Omnibus:}       & 167.108 & \\textbf{  Durbin-Watson:     } &     1.884  \\\\\n",
       "\\textbf{Prob(Omnibus):} &   0.000 & \\textbf{  Jarque-Bera (JB):  } &  1261.636  \\\\\n",
       "\\textbf{Skew:}          &  -0.357 & \\textbf{  Prob(JB):          } & 1.09e-274  \\\\\n",
       "\\textbf{Kurtosis:}      &   7.872 & \\textbf{  Cond. No.          } &      42.3  \\\\\n",
       "\\bottomrule\n",
       "\\end{tabular}\n",
       "%\\caption{OLS Regression Results}\n",
       "\\end{center}\n",
       "\n",
       "Notes: \\newline\n",
       " [1] Standard Errors assume that the covariance matrix of the errors is correctly specified."
      ],
      "text/plain": [
       "<class 'statsmodels.iolib.summary.Summary'>\n",
       "\"\"\"\n",
       "                            OLS Regression Results                            \n",
       "==============================================================================\n",
       "Dep. Variable:                      y   R-squared:                       0.150\n",
       "Model:                            OLS   Adj. R-squared:                  0.149\n",
       "Method:                 Least Squares   F-statistic:                     219.5\n",
       "Date:                Wed, 21 Feb 2024   Prob (F-statistic):           7.11e-46\n",
       "Time:                        15:14:24   Log-Likelihood:                 3273.0\n",
       "No. Observations:                1249   AIC:                            -6542.\n",
       "Df Residuals:                    1247   BIC:                            -6532.\n",
       "Df Model:                           1                                         \n",
       "Covariance Type:            nonrobust                                         \n",
       "==============================================================================\n",
       "                 coef    std err          t      P>|t|      [0.025      0.975]\n",
       "------------------------------------------------------------------------------\n",
       "const         -0.0001      0.000     -0.268      0.788      -0.001       0.001\n",
       "0              0.3127      0.021     14.817      0.000       0.271       0.354\n",
       "==============================================================================\n",
       "Omnibus:                      167.108   Durbin-Watson:                   1.884\n",
       "Prob(Omnibus):                  0.000   Jarque-Bera (JB):             1261.636\n",
       "Skew:                          -0.357   Prob(JB):                    1.09e-274\n",
       "Kurtosis:                       7.872   Cond. No.                         42.3\n",
       "==============================================================================\n",
       "\n",
       "Notes:\n",
       "[1] Standard Errors assume that the covariance matrix of the errors is correctly specified.\n",
       "\"\"\""
      ]
     },
     "execution_count": 19,
     "metadata": {},
     "output_type": "execute_result"
    }
   ],
   "source": [
    "x = sm.add_constant(x)\n",
    "lm = sm.OLS(y,x).fit()\n",
    "lm.summary()"
   ]
  },
  {
   "cell_type": "code",
   "execution_count": 20,
   "metadata": {},
   "outputs": [
    {
     "data": {
      "text/plain": [
       "0.3127072051955262"
      ]
     },
     "execution_count": 20,
     "metadata": {},
     "output_type": "execute_result"
    }
   ],
   "source": [
    "coefficients = lm.params\n",
    "beta = coefficients[0]\n",
    "beta"
   ]
  },
  {
   "cell_type": "markdown",
   "metadata": {},
   "source": [
    "<br>\n",
    "\n",
    "\n",
    "### Constructing 4 butterflies portfolio"
   ]
  },
  {
   "cell_type": "markdown",
   "metadata": {},
   "source": [
    "#### The cash-and $duration neutral weighting butterfly\n"
   ]
  },
  {
   "cell_type": "code",
   "execution_count": 21,
   "metadata": {},
   "outputs": [
    {
     "name": "stdout",
     "output_type": "stream",
     "text": [
      "Quantity of 2Y Treasury (Q_2Y): -59.34662888111818\n",
      "Quantity of 10Y Treasury (Q_10Y): -40.682814125349246\n"
     ]
    }
   ],
   "source": [
    "# Matrix A1 represents the coefficients in the left-hand side of the equations\n",
    "A1 = np.array([\n",
    "    [dollar_duration_2y, dollar_duration_10y],\n",
    "    [P_2y, P_10y]\n",
    "])\n",
    "\n",
    "# Vector b represents the right-hand side of the equations\n",
    "b1 = np.array([\n",
    "    -100 * dollar_duration_5y,  # For dollar duration neutrality\n",
    "    -100 * P_5y   # For cash neutrality\n",
    "])\n",
    "\n",
    "# Solve the linear system A * x = b for vector x\n",
    "x1 = np.linalg.lstsq(A1, b1, rcond=None)[0]\n",
    "\n",
    "print(f\"Quantity of 2Y Treasury (Q_2Y): {x1[0]}\")\n",
    "print(f\"Quantity of 10Y Treasury (Q_10Y): {x1[1]}\")"
   ]
  },
  {
   "cell_type": "markdown",
   "metadata": {},
   "source": [
    "#### The fifty-fifty weighting regression"
   ]
  },
  {
   "cell_type": "code",
   "execution_count": 22,
   "metadata": {},
   "outputs": [
    {
     "name": "stdout",
     "output_type": "stream",
     "text": [
      "Quantity of 2Y Treasury (Q_2Y): -118.74125911228404\n",
      "Quantity of 10Y Treasury (Q_10Y): -27.118221888244953\n"
     ]
    }
   ],
   "source": [
    "# Solve for Q_10Y (x)\n",
    "Q_10Y = (- 100 * dollar_duration_5y) / (dollar_duration_10y + dollar_duration_10y)\n",
    "\n",
    "# Then calculate Q_2Y using the fifty-fifty duration ratio\n",
    "Q_2Y = (dollar_duration_10y / dollar_duration_2y) * Q_10Y\n",
    "\n",
    "print(f\"Quantity of 2Y Treasury (Q_2Y): {Q_2Y}\")\n",
    "print(f\"Quantity of 10Y Treasury (Q_10Y): {Q_10Y}\")"
   ]
  },
  {
   "cell_type": "markdown",
   "metadata": {},
   "source": [
    "#### Regression Weighting Butterfly"
   ]
  },
  {
   "cell_type": "code",
   "execution_count": 23,
   "metadata": {},
   "outputs": [
    {
     "name": "stdout",
     "output_type": "stream",
     "text": [
      "Quantity of 2-year bond (Q2y): -56.57201717403462\n",
      "Quantity of 10-year bond (Q10y): -41.316482123225214\n"
     ]
    }
   ],
   "source": [
    "# Calculate Q2y\n",
    "Q2y = -100 * dollar_duration_5y / (dollar_duration_2y * (1 + 1/beta))\n",
    "\n",
    "# Calculate Q10y using Q2y\n",
    "Q10y = (Q2y * dollar_duration_2y) / (dollar_duration_10y * beta)\n",
    "\n",
    "print(f\"Quantity of 2-year bond (Q2y): {Q2y}\")\n",
    "print(f\"Quantity of 10-year bond (Q10y): {Q10y}\")"
   ]
  },
  {
   "cell_type": "code",
   "execution_count": 24,
   "metadata": {},
   "outputs": [],
   "source": [
    "# beta = 1/beta\n",
    "# # Calculate Q2y\n",
    "# Q2y = -100 * dollar_duration_5y / (dollar_duration_2y * (1 + 1/beta))\n",
    "\n",
    "# # Calculate Q10y using Q2y\n",
    "# Q10y = (Q2y * dollar_duration_2y) / (dollar_duration_10y * beta)\n",
    "\n",
    "# print(f\"Quantity of 2-year bond (Q2y): {Q2y}\")\n",
    "# print(f\"Quantity of 10-year bond (Q10y): {Q10y}\")"
   ]
  },
  {
   "cell_type": "markdown",
   "metadata": {},
   "source": [
    "#### Maturity-Weighting Butterfly"
   ]
  },
  {
   "cell_type": "code",
   "execution_count": 25,
   "metadata": {},
   "outputs": [
    {
     "name": "stdout",
     "output_type": "stream",
     "text": [
      "Quantity of 2-year bond (Q2y): -89.05594433421305\n",
      "Quantity of 10-year bond (Q10y): -33.8977773603062\n"
     ]
    }
   ],
   "source": [
    "Q2y = (-75 * dollar_duration_5y) / (2 * dollar_duration_2y)\n",
    "Q10y = (-125 * dollar_duration_5y) / (2 * dollar_duration_10y)\n",
    "\n",
    "print(f\"Quantity of 2-year bond (Q2y): {Q2y}\")\n",
    "print(f\"Quantity of 10-year bond (Q10y): {Q10y}\")"
   ]
  },
  {
   "cell_type": "markdown",
   "metadata": {},
   "source": [
    "<br>\n",
    "\n",
    "\n",
    "## Step 2. PCA curves"
   ]
  },
  {
   "cell_type": "markdown",
   "metadata": {},
   "source": [
    "Calculate daily treasury shifts and standardize data"
   ]
  },
  {
   "cell_type": "code",
   "execution_count": 26,
   "metadata": {},
   "outputs": [
    {
     "data": {
      "text/plain": [
       "array([[1.        , 0.66553498, 0.49571306, 0.38247303, 0.33597213,\n",
       "        0.27970791, 0.24674973, 0.2265334 , 0.16711807],\n",
       "       [0.66553498, 1.        , 0.71819365, 0.60324449, 0.54616478,\n",
       "        0.4757455 , 0.42270933, 0.38025207, 0.28539135],\n",
       "       [0.49571306, 0.71819365, 1.        , 0.7855207 , 0.73476908,\n",
       "        0.65968051, 0.60106893, 0.54571962, 0.40662843],\n",
       "       [0.38247303, 0.60324449, 0.7855207 , 1.        , 0.97067462,\n",
       "        0.90311991, 0.83923056, 0.77011324, 0.58921292],\n",
       "       [0.33597213, 0.54616478, 0.73476908, 0.97067462, 1.        ,\n",
       "        0.9610309 , 0.9110838 , 0.84876369, 0.66735857],\n",
       "       [0.27970791, 0.4757455 , 0.65968051, 0.90311991, 0.9610309 ,\n",
       "        1.        , 0.98068918, 0.93999601, 0.78108127],\n",
       "       [0.24674973, 0.42270933, 0.60106893, 0.83923056, 0.9110838 ,\n",
       "        0.98068918, 1.        , 0.98203655, 0.86071605],\n",
       "       [0.2265334 , 0.38025207, 0.54571962, 0.77011324, 0.84876369,\n",
       "        0.93999601, 0.98203655, 1.        , 0.92941058],\n",
       "       [0.16711807, 0.28539135, 0.40662843, 0.58921292, 0.66735857,\n",
       "        0.78108127, 0.86071605, 0.92941058, 1.        ]])"
      ]
     },
     "execution_count": 26,
     "metadata": {},
     "output_type": "execute_result"
    }
   ],
   "source": [
    "diff = data.diff().dropna().iloc[:,1:]\n",
    "diff = (diff - diff.mean()) / diff.std()\n",
    "covs = np.cov(np.array(np.array(diff)).T)\n",
    "covs"
   ]
  },
  {
   "cell_type": "code",
   "execution_count": 27,
   "metadata": {},
   "outputs": [
    {
     "data": {
      "text/plain": [
       "array([6.29967604e+00, 1.52639628e+00, 5.66764450e-01, 2.97666408e-01,\n",
       "       2.12614593e-01, 7.09340708e-02, 1.49255046e-02, 7.33742844e-03,\n",
       "       3.68522896e-03])"
      ]
     },
     "execution_count": 27,
     "metadata": {},
     "output_type": "execute_result"
    }
   ],
   "source": [
    "eigs, eigvecs = np.linalg.eig(covs)\n",
    "eigs"
   ]
  },
  {
   "cell_type": "code",
   "execution_count": 28,
   "metadata": {},
   "outputs": [
    {
     "data": {
      "text/plain": [
       "array([[-0.17548157, -0.58965003, -0.58750384,  0.49626573, -0.17301166,\n",
       "        -0.0046569 ,  0.00450188,  0.00929525, -0.00415184],\n",
       "       [-0.25376447, -0.52919131, -0.04047994, -0.56601801,  0.57549516,\n",
       "        -0.04659178,  0.00391185, -0.01278774,  0.00091158],\n",
       "       [-0.31140161, -0.32851626,  0.37517521, -0.31326071, -0.73237374,\n",
       "        -0.13745989,  0.0306408 ,  0.00314687, -0.00145602],\n",
       "       [-0.37128411, -0.06218633,  0.35716095,  0.26864765,  0.1217693 ,\n",
       "         0.58567592, -0.5388091 ,  0.10160695,  0.00788672],\n",
       "       [-0.3815586 ,  0.03591343,  0.26931473,  0.2854635 ,  0.1624173 ,\n",
       "         0.14383093,  0.69500572, -0.40795732, -0.05074037],\n",
       "       [-0.38464918,  0.1552955 ,  0.0811861 ,  0.17721871,  0.13760971,\n",
       "        -0.36688007,  0.15991686,  0.70764504,  0.33175042],\n",
       "       [-0.37831174,  0.22612582, -0.07593677,  0.06066915,  0.06295956,\n",
       "        -0.41356487, -0.24750083, -0.08383751, -0.74364978],\n",
       "       [-0.36636818,  0.27320959, -0.23265179, -0.07522209, -0.02875511,\n",
       "        -0.21917787, -0.30497827, -0.51825505,  0.56646254],\n",
       "       [-0.31480087,  0.3306002 , -0.49584813, -0.37524007, -0.1938212 ,\n",
       "         0.51140282,  0.21409244,  0.21589   , -0.11571463]])"
      ]
     },
     "execution_count": 28,
     "metadata": {},
     "output_type": "execute_result"
    }
   ],
   "source": [
    "eigvecs"
   ]
  },
  {
   "cell_type": "code",
   "execution_count": 29,
   "metadata": {},
   "outputs": [],
   "source": [
    "bp = 0.005 # 5 basis points\n",
    "\n",
    "# Level: Scale PC1 such that the 10Y changes by +5bp\n",
    "pc1 = eigvecs[:, 0]  # First principal component for level\n",
    "scaling_factor_level = bp / pc1[-2]\n",
    "level_shift = pc1 * scaling_factor_level\n",
    "\n",
    "# Slope: Scale PC2 such that (10Y - 2Y) changes by +5bp\n",
    "pc2 = eigvecs[:, 1]  # Second principal component for slope\n",
    "scaling_factor_slope = bp / (pc2[-2] - pc2[4])\n",
    "slope_shift = pc2 * scaling_factor_slope\n",
    "\n",
    "# Curvature: Scale PC3 such that (2*5Y - (2Y + 10Y)) changes by +5bp\n",
    "pc3 = eigvecs[:, 2]  # Third principal component for curvature\n",
    "curvature_change_before_scaling = 2 * pc3[-4] - (pc3[4] + pc3[-2])\n",
    "scaling_factor_curvature = bp / curvature_change_before_scaling  # Adjust indices as needed\n",
    "curvature_shift = pc3 * scaling_factor_curvature"
   ]
  },
  {
   "cell_type": "code",
   "execution_count": 30,
   "metadata": {},
   "outputs": [
    {
     "data": {
      "text/plain": [
       "array([0.00239488, 0.00346324, 0.00424985, 0.00506709, 0.00520731,\n",
       "       0.00524949, 0.005163  , 0.005     , 0.00429624])"
      ]
     },
     "execution_count": 30,
     "metadata": {},
     "output_type": "execute_result"
    }
   ],
   "source": [
    "level_shift"
   ]
  },
  {
   "cell_type": "code",
   "execution_count": 31,
   "metadata": {},
   "outputs": [],
   "source": [
    "current_curve = [4.7142,4.9584,4.9078,4.609,4.3056,3.9868,3.8796,3.7378,3.7737]\n",
    "current_curve = [x/100 for x in current_curve]"
   ]
  },
  {
   "cell_type": "code",
   "execution_count": 32,
   "metadata": {},
   "outputs": [
    {
     "name": "stdout",
     "output_type": "stream",
     "text": [
      "new curve level: \n",
      " [0.04953688 0.05304724 0.05332785 0.05115709 0.04826331 0.04511749\n",
      " 0.043959   0.042378   0.04203324]\n",
      "\n",
      "\n",
      "new_curve_slope: \n",
      " [0.03471765 0.03843356 0.04215593 0.04477969 0.04381272 0.04314019\n",
      " 0.04356063 0.04313472 0.04470298]\n",
      "\n",
      "\n",
      "new_curve_curvature: \n",
      " [0.02377444 0.04797394 0.06400034 0.06029583 0.05376781 0.04309712\n",
      " 0.03577567 0.02812443 0.01801498]\n",
      "\n",
      "\n"
     ]
    }
   ],
   "source": [
    "# Apply the shifts to the current curve to get the new scenarios\n",
    "new_curve_level = current_curve + level_shift\n",
    "print(\"new curve level: \\n\",new_curve_level)\n",
    "print(\"\\n\")\n",
    "new_curve_slope = current_curve + slope_shift\n",
    "print(\"new_curve_slope: \\n\", new_curve_slope)\n",
    "print(\"\\n\")\n",
    "new_curve_curvature = current_curve + curvature_shift\n",
    "print(\"new_curve_curvature: \\n\",new_curve_curvature)\n",
    "print(\"\\n\")"
   ]
  },
  {
   "cell_type": "markdown",
   "metadata": {},
   "source": [
    "## Step 4 Calculate individual bonds Prices under the 3 scenarios"
   ]
  },
  {
   "cell_type": "code",
   "execution_count": 46,
   "metadata": {},
   "outputs": [
    {
     "data": {
      "text/plain": [
       "(101.00952937988589, 99.80564126383811, 102.73468704314217)"
      ]
     },
     "execution_count": 46,
     "metadata": {},
     "output_type": "execute_result"
    }
   ],
   "source": [
    "# 2Y bond price\n",
    "issueDate = ql.Date(15, 2, 2023)\n",
    "maturityDate = ql.Date(15, 2, 2025)\n",
    "tenor = ql.Period(ql.Semiannual)\n",
    "calendar = ql.UnitedStates(ql.UnitedStates.FederalReserve)\n",
    "bussinessConvention = ql.Unadjusted\n",
    "dateGeneration = ql.DateGeneration.Backward\n",
    "monthEnd = False\n",
    "schedule = ql.Schedule (issueDate, maturityDate, tenor, calendar, bussinessConvention,\n",
    "                        bussinessConvention , dateGeneration, monthEnd)\n",
    "# Now lets build the coupon\n",
    "dayCount = ql.Thirty360(ql.Thirty360.USA)\n",
    "\n",
    "couponRate_pc1 = 0.05115709\n",
    "coupons_pc1 = [couponRate_pc1]\n",
    "\n",
    "couponRate_pc2 = 0.04477969\n",
    "coupons_pc2 = [couponRate_pc2]\n",
    "\n",
    "couponRate_pc3 = 0.06029583\n",
    "coupons_pc3 = [couponRate_pc3]\n",
    "\n",
    "# Now lets construct the FixedRateBond\n",
    "settlementDays = 0\n",
    "faceValue = 100\n",
    "# fixedRateBond = ql.FixedRateBond(settlementDays, faceValue, schedule, coupons, dayCount)\n",
    "fixedRateBond_pc1 = ql.FixedRateBond(settlementDays, faceValue, schedule, coupons_pc1, dayCount)\n",
    "fixedRateBond_pc2 = ql.FixedRateBond(settlementDays, faceValue, schedule, coupons_pc2, dayCount)\n",
    "fixedRateBond_pc3 = ql.FixedRateBond(settlementDays, faceValue, schedule, coupons_pc3, dayCount)\n",
    "\n",
    "# create a bond engine with the term structure as input;\n",
    "# set the bond to use this bond engine\n",
    "bondEngine = ql.DiscountingBondEngine(spotCurveHandle)\n",
    "fixedRateBond_pc1.setPricingEngine(bondEngine)\n",
    "# Finally the price\n",
    "p_2y_pc1 = fixedRateBond_pc1.NPV()\n",
    "\n",
    "bondEngine = ql.DiscountingBondEngine(spotCurveHandle)\n",
    "fixedRateBond_pc2.setPricingEngine(bondEngine)\n",
    "# Finally the price\n",
    "p_2y_pc2 = fixedRateBond_pc2.NPV()\n",
    "\n",
    "bondEngine = ql.DiscountingBondEngine(spotCurveHandle)\n",
    "fixedRateBond_pc3.setPricingEngine(bondEngine)\n",
    "# Finally the price\n",
    "p_2y_pc3 = fixedRateBond_pc3.NPV()\n",
    "\n",
    "p_2y_pc1, p_2y_pc2, p_2y_pc3"
   ]
  },
  {
   "cell_type": "code",
   "execution_count": 47,
   "metadata": {},
   "outputs": [],
   "source": [
    "# 2Y bond dollar duration\n",
    "duration_2y_pc1 = ql.BondFunctions.duration(fixedRateBond_pc1, ql.InterestRate(couponRate, dayCount, compounding, compoundingFrequency), ql.Duration.Modified)\n",
    "dollar_duration_2y_pc1 = p_2y_pc1 * duration_2y_pc1* delta_y\n",
    "\n",
    "duration_2y_pc2 = ql.BondFunctions.duration(fixedRateBond_pc2, ql.InterestRate(couponRate, dayCount, compounding, compoundingFrequency), ql.Duration.Modified)\n",
    "dollar_duration_2y_pc2 = p_2y_pc2 * duration_2y_pc2* delta_y\n",
    "\n",
    "duration_2y_pc3 = ql.BondFunctions.duration(fixedRateBond_pc3, ql.InterestRate(couponRate, dayCount, compounding, compoundingFrequency), ql.Duration.Modified)\n",
    "dollar_duration_2y_pc3 = p_2y_pc3 * duration_2y_pc3* delta_y"
   ]
  },
  {
   "cell_type": "code",
   "execution_count": 48,
   "metadata": {},
   "outputs": [
    {
     "data": {
      "text/plain": [
       "(102.38149284945446, 101.49899468210695, 101.47977190555939)"
      ]
     },
     "execution_count": 48,
     "metadata": {},
     "output_type": "execute_result"
    }
   ],
   "source": [
    "# 5Y bond price\n",
    "issueDate = ql.Date(15, 2, 2023)\n",
    "maturityDate = ql.Date(15, 2, 2028)\n",
    "tenor = ql.Period(ql.Semiannual)\n",
    "calendar = ql.UnitedStates(ql.UnitedStates.FederalReserve)\n",
    "bussinessConvention = ql.Unadjusted\n",
    "dateGeneration = ql.DateGeneration.Backward\n",
    "monthEnd = False\n",
    "schedule = ql.Schedule (issueDate, maturityDate, tenor, calendar, bussinessConvention,\n",
    "                        bussinessConvention , dateGeneration, monthEnd)\n",
    "# Now lets build the coupon\n",
    "dayCount = ql.Thirty360(ql.Thirty360.USA)\n",
    "\n",
    "couponRate_pc1 = 0.04511749\n",
    "coupons_pc1 = [couponRate_pc1]\n",
    "\n",
    "couponRate_pc2 = 0.04314019\n",
    "coupons_pc2 = [couponRate_pc2]\n",
    "\n",
    "couponRate_pc3 = 0.04309712\n",
    "coupons_pc3 = [couponRate_pc3]\n",
    "\n",
    "# Now lets construct the FixedRateBond\n",
    "settlementDays = 0\n",
    "faceValue = 100\n",
    "# fixedRateBond = ql.FixedRateBond(settlementDays, faceValue, schedule, coupons, dayCount)\n",
    "fixedRateBond_pc1 = ql.FixedRateBond(settlementDays, faceValue, schedule, coupons_pc1, dayCount)\n",
    "fixedRateBond_pc2 = ql.FixedRateBond(settlementDays, faceValue, schedule, coupons_pc2, dayCount)\n",
    "fixedRateBond_pc3 = ql.FixedRateBond(settlementDays, faceValue, schedule, coupons_pc3, dayCount)\n",
    "\n",
    "# create a bond engine with the term structure as input;\n",
    "# set the bond to use this bond engine\n",
    "bondEngine = ql.DiscountingBondEngine(spotCurveHandle)\n",
    "fixedRateBond_pc1.setPricingEngine(bondEngine)\n",
    "# Finally the price\n",
    "p_5y_pc1 = fixedRateBond_pc1.NPV()\n",
    "\n",
    "bondEngine = ql.DiscountingBondEngine(spotCurveHandle)\n",
    "fixedRateBond_pc2.setPricingEngine(bondEngine)\n",
    "# Finally the price\n",
    "p_5y_pc2 = fixedRateBond_pc2.NPV()\n",
    "\n",
    "bondEngine = ql.DiscountingBondEngine(spotCurveHandle)\n",
    "fixedRateBond_pc3.setPricingEngine(bondEngine)\n",
    "# Finally the price\n",
    "p_5y_pc3 = fixedRateBond_pc3.NPV()\n",
    "\n",
    "p_5y_pc1, p_5y_pc2, p_5y_pc3"
   ]
  },
  {
   "cell_type": "code",
   "execution_count": 49,
   "metadata": {},
   "outputs": [],
   "source": [
    "# 5Y bond dollar duration\n",
    "duration_5y_pc1 = ql.BondFunctions.duration(fixedRateBond_pc1, ql.InterestRate(couponRate, dayCount, compounding, compoundingFrequency), ql.Duration.Modified)\n",
    "dollar_duration_5y_pc1 = p_5y_pc1 * duration_5y_pc1* delta_y\n",
    "\n",
    "duration_5y_pc2 = ql.BondFunctions.duration(fixedRateBond_pc2, ql.InterestRate(couponRate, dayCount, compounding, compoundingFrequency), ql.Duration.Modified)\n",
    "dollar_duration_5y_pc2 = p_5y_pc2 * duration_5y_pc2* delta_y\n",
    "\n",
    "duration_5y_pc3 = ql.BondFunctions.duration(fixedRateBond_pc3, ql.InterestRate(couponRate, dayCount, compounding, compoundingFrequency), ql.Duration.Modified)\n",
    "dollar_duration_5y_pc3 = p_5y_pc3 * duration_5y_pc3* delta_y"
   ]
  },
  {
   "cell_type": "code",
   "execution_count": 50,
   "metadata": {},
   "outputs": [
    {
     "data": {
      "text/plain": [
       "(104.04668758827637, 104.66743462514806, 92.35430289863875)"
      ]
     },
     "execution_count": 50,
     "metadata": {},
     "output_type": "execute_result"
    }
   ],
   "source": [
    "# 10Y bond price\n",
    "issueDate = ql.Date(15, 2, 2023)\n",
    "maturityDate = ql.Date(15, 2, 2033)\n",
    "tenor = ql.Period(ql.Semiannual)\n",
    "calendar = ql.UnitedStates(ql.UnitedStates.FederalReserve)\n",
    "bussinessConvention = ql.Unadjusted\n",
    "dateGeneration = ql.DateGeneration.Backward\n",
    "monthEnd = False\n",
    "schedule = ql.Schedule (issueDate, maturityDate, tenor, calendar, bussinessConvention,\n",
    "                        bussinessConvention , dateGeneration, monthEnd)\n",
    "# Now lets build the coupon\n",
    "dayCount = ql.Thirty360(ql.Thirty360.USA)\n",
    "\n",
    "couponRate_pc1 = 0.042378\n",
    "coupons_pc1 = [couponRate_pc1]\n",
    "\n",
    "couponRate_pc2 = 0.04313472\n",
    "coupons_pc2 = [couponRate_pc2]\n",
    "\n",
    "couponRate_pc3 = 0.02812443\n",
    "coupons_pc3 = [couponRate_pc3]\n",
    "\n",
    "# Now lets construct the FixedRateBond\n",
    "settlementDays = 0\n",
    "faceValue = 100\n",
    "# fixedRateBond = ql.FixedRateBond(settlementDays, faceValue, schedule, coupons, dayCount)\n",
    "fixedRateBond_pc1 = ql.FixedRateBond(settlementDays, faceValue, schedule, coupons_pc1, dayCount)\n",
    "fixedRateBond_pc2 = ql.FixedRateBond(settlementDays, faceValue, schedule, coupons_pc2, dayCount)\n",
    "fixedRateBond_pc3 = ql.FixedRateBond(settlementDays, faceValue, schedule, coupons_pc3, dayCount)\n",
    "\n",
    "# create a bond engine with the term structure as input;\n",
    "# set the bond to use this bond engine\n",
    "bondEngine = ql.DiscountingBondEngine(spotCurveHandle)\n",
    "fixedRateBond_pc1.setPricingEngine(bondEngine)\n",
    "# Finally the price\n",
    "p_10y_pc1 = fixedRateBond_pc1.NPV()\n",
    "\n",
    "bondEngine = ql.DiscountingBondEngine(spotCurveHandle)\n",
    "fixedRateBond_pc2.setPricingEngine(bondEngine)\n",
    "# Finally the price\n",
    "p_10y_pc2 = fixedRateBond_pc2.NPV()\n",
    "\n",
    "bondEngine = ql.DiscountingBondEngine(spotCurveHandle)\n",
    "fixedRateBond_pc3.setPricingEngine(bondEngine)\n",
    "# Finally the price\n",
    "p_10y_pc3 = fixedRateBond_pc3.NPV()\n",
    "\n",
    "p_10y_pc1, p_10y_pc2, p_10y_pc3"
   ]
  },
  {
   "cell_type": "code",
   "execution_count": 51,
   "metadata": {},
   "outputs": [],
   "source": [
    "# 10Y bond dollar duration\n",
    "duration_10y_pc1 = ql.BondFunctions.duration(fixedRateBond_pc1, ql.InterestRate(couponRate, dayCount, compounding, compoundingFrequency), ql.Duration.Modified)\n",
    "dollar_duration_10y_pc1 = p_10y_pc1 * duration_10y_pc1* delta_y\n",
    "\n",
    "duration_10y_pc2 = ql.BondFunctions.duration(fixedRateBond_pc2, ql.InterestRate(couponRate, dayCount, compounding, compoundingFrequency), ql.Duration.Modified)\n",
    "dollar_duration_10y_pc2 = p_10y_pc2 * duration_10y_pc2* delta_y\n",
    "\n",
    "duration_10y_pc3 = ql.BondFunctions.duration(fixedRateBond_pc3, ql.InterestRate(couponRate, dayCount, compounding, compoundingFrequency), ql.Duration.Modified)\n",
    "dollar_duration_10y_pc3 = p_10y_pc3 * duration_10y_pc3* delta_y"
   ]
  },
  {
   "cell_type": "markdown",
   "metadata": {},
   "source": [
    "## Step 5 Calculate the pnl for each of the butterfly portfolios under the 3 scenarios"
   ]
  },
  {
   "cell_type": "markdown",
   "metadata": {},
   "source": [
    "The cash-and $duration neutral weighting butterfly"
   ]
  },
  {
   "cell_type": "code",
   "execution_count": 53,
   "metadata": {},
   "outputs": [
    {
     "name": "stdout",
     "output_type": "stream",
     "text": [
      "Quantity of 2Y Treasury (Q_2Y): -59.20291915189695\n",
      "Quantity of 10Y Treasury (Q_10Y): -40.92480387599278\n"
     ]
    }
   ],
   "source": [
    "# Matrix A1 represents the coefficients in the left-hand side of the equations\n",
    "A1 = np.array([\n",
    "    [duration_2y_pc1, duration_10y_pc1],\n",
    "    [p_2y_pc1, p_10y_pc1]\n",
    "])\n",
    "\n",
    "# Vector b represents the right-hand side of the equations\n",
    "b1 = np.array([\n",
    "    -100 * duration_5y_pc1,  # For dollar duration neutrality\n",
    "    -100 * p_5y_pc1   # For cash neutrality\n",
    "])\n",
    "\n",
    "# Solve the linear system A * x = b for vector x\n",
    "x1 = np.linalg.lstsq(A1, b1, rcond=None)[0]\n",
    "\n",
    "q1_2y_pc1 = x1[0]\n",
    "q1_10y_pc1 = x1[1]\n",
    "\n",
    "print(f\"Quantity of 2Y Treasury (Q_2Y): {x1[0]}\")\n",
    "print(f\"Quantity of 10Y Treasury (Q_10Y): {x1[1]}\")"
   ]
  },
  {
   "cell_type": "markdown",
   "metadata": {},
   "source": [
    "The fifty-fifty weighting regression"
   ]
  },
  {
   "cell_type": "code",
   "execution_count": 55,
   "metadata": {},
   "outputs": [
    {
     "name": "stdout",
     "output_type": "stream",
     "text": [
      "Quantity of 2Y Treasury (Q_2Y): -117.35879000194579\n",
      "Quantity of 10Y Treasury (Q_10Y): -27.364582768407942\n"
     ]
    }
   ],
   "source": [
    "# Solve for Q_10Y (x)\n",
    "Q_10Y = (- 100 * duration_5y_pc1) / (duration_10y_pc1 + duration_10y_pc1)\n",
    "\n",
    "# Then calculate Q_2Y using the fifty-fifty duration ratio\n",
    "Q_2Y = (duration_10y_pc1 / duration_2y_pc1) * Q_10Y\n",
    "\n",
    "q2_2y_pc1 = Q_2Y\n",
    "q2_10y_pc1 = Q_10Y\n",
    "\n",
    "print(f\"Quantity of 2Y Treasury (Q_2Y): {Q_2Y}\")\n",
    "print(f\"Quantity of 10Y Treasury (Q_10Y): {Q_10Y}\")"
   ]
  },
  {
   "cell_type": "markdown",
   "metadata": {},
   "source": [
    "Regression Weighting Butterfly"
   ]
  },
  {
   "cell_type": "code",
   "execution_count": 56,
   "metadata": {},
   "outputs": [
    {
     "name": "stdout",
     "output_type": "stream",
     "text": [
      "Quantity of 2-year bond (Q2y): -55.913366029206585\n",
      "Quantity of 10-year bond (Q10y): -41.69182992232\n"
     ]
    }
   ],
   "source": [
    "# Calculate Q2y\n",
    "Q2y = -100 * duration_5y_pc1 / (duration_2y_pc1 * (1 + 1/beta))\n",
    "\n",
    "# Calculate Q10y using Q2y\n",
    "Q10y = (Q2y * duration_2y_pc1) / (duration_10y_pc1 * beta)\n",
    "\n",
    "q3_2y_pc1 = Q2y\n",
    "q3_10y_pc1 = Q10y\n",
    "print(f\"Quantity of 2-year bond (Q2y): {Q2y}\")\n",
    "print(f\"Quantity of 10-year bond (Q10y): {Q10y}\")"
   ]
  },
  {
   "cell_type": "markdown",
   "metadata": {},
   "source": [
    "Maturity-Weighting Butterfly"
   ]
  },
  {
   "cell_type": "code",
   "execution_count": 57,
   "metadata": {},
   "outputs": [
    {
     "name": "stdout",
     "output_type": "stream",
     "text": [
      "Quantity of 2-year bond (Q2y): -88.01909250145933\n",
      "Quantity of 10-year bond (Q10y): -34.20572846050993\n"
     ]
    }
   ],
   "source": [
    "Q2y = (-75 * duration_5y_pc1) / (2 * duration_2y_pc1)\n",
    "Q10y = (-125 * duration_5y_pc1) / (2 * duration_10y_pc1)\n",
    "\n",
    "q4_2y_pc1 = Q2y\n",
    "q4_10y_pc1 = Q10y\n",
    "\n",
    "print(f\"Quantity of 2-year bond (Q2y): {Q2y}\")\n",
    "print(f\"Quantity of 10-year bond (Q10y): {Q10y}\")"
   ]
  },
  {
   "cell_type": "code",
   "execution_count": 59,
   "metadata": {},
   "outputs": [
    {
     "data": {
      "text/plain": [
       "-979706.1449604712"
      ]
     },
     "execution_count": 59,
     "metadata": {},
     "output_type": "execute_result"
    }
   ],
   "source": [
    "notional = 100000\n",
    "pnl_pc1_1 = (q_2y_pc1 * (P_2y - p_2y_pc1) + q_10y_pc1 * (P_10y - p_10y_pc1) + 100 * (P_5y - p_5y_pc1)) * notional\n",
    "pnl_pc1_1"
   ]
  }
 ],
 "metadata": {
  "kernelspec": {
   "display_name": "Python 3 (ipykernel)",
   "language": "python",
   "name": "python3"
  },
  "language_info": {
   "codemirror_mode": {
    "name": "ipython",
    "version": 3
   },
   "file_extension": ".py",
   "mimetype": "text/x-python",
   "name": "python",
   "nbconvert_exporter": "python",
   "pygments_lexer": "ipython3",
   "version": "3.12.0"
  }
 },
 "nbformat": 4,
 "nbformat_minor": 4
}
