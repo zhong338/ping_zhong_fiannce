{
 "cells": [
  {
   "cell_type": "markdown",
   "metadata": {},
   "source": [
    "# Convertible Bond Pricer Using QuantLib\n"
   ]
  },
  {
   "cell_type": "code",
   "execution_count": 73,
   "metadata": {},
   "outputs": [],
   "source": [
    "# !pip install QuantLib"
   ]
  },
  {
   "cell_type": "code",
   "execution_count": 74,
   "metadata": {},
   "outputs": [],
   "source": [
    "import pandas as pd"
   ]
  },
  {
   "cell_type": "code",
   "execution_count": 75,
   "metadata": {},
   "outputs": [
    {
     "name": "stdout",
     "output_type": "stream",
     "text": [
      "1.32\n"
     ]
    }
   ],
   "source": [
    "import QuantLib as ql\n",
    "print(ql.__version__)"
   ]
  },
  {
   "cell_type": "code",
   "execution_count": 76,
   "metadata": {},
   "outputs": [],
   "source": [
    "calculation_date = ql.Date(22,2,2022)\n",
    "ql.Settings.instance().evaluationDate = calculation_date"
   ]
  },
  {
   "cell_type": "code",
   "execution_count": 77,
   "metadata": {},
   "outputs": [],
   "source": [
    "Curve_Data = pd.DataFrame({\n",
    "    'Term': ['3 M', '12 M', '2 Y', '3 Y', '4 Y', '5 Y', '6 Y', '7 Y', '8 Y', '9 Y', '10 Y', '11 Y', '12 Y', '15 Y', '20 Y', '25 Y', '30 Y'],\n",
    "    'Market Rate': [4.90943, 5.62014, 5.01423, 4.61500, 4.37235, 4.21810, 4.11853, 4.04790, 3.99590, 3.96250, 3.93995, 3.92100, 3.90770, 3.87780, 3.80137, 3.67615, 3.55655]\n",
    "})\n",
    "\n",
    "# Convert 'Market Rate' from percentage to decimal\n",
    "Curve_Data['Market Rate'] = Curve_Data['Market Rate'] / 100.0\n",
    "\n",
    "# Create a list of SimpleQuotes from the rates\n",
    "rates = [ql.SimpleQuote(rate) for rate in Curve_Data['Market Rate']]\n",
    "\n",
    "# Create a list of Periods from the terms\n",
    "tenors = [ql.Period(term) for term in Curve_Data['Term']]\n",
    "\n",
    "# Other required QuantLib objects\n",
    "calendar = ql.UnitedStates(ql.UnitedStates.GovernmentBond)\n",
    "fixed_leg_frequency = ql.Annual\n",
    "fixed_leg_convention = ql.ModifiedFollowing\n",
    "fixed_leg_day_counter = ql.Thirty360(ql.Thirty360.USA)\n",
    "index = ql.USDLibor(ql.Period('3M'))\n",
    "\n",
    "# Create a list of SwapRateHelpers\n",
    "rate_helpers = [\n",
    "    ql.SwapRateHelper(ql.QuoteHandle(rate), tenor, calendar, fixed_leg_frequency, fixed_leg_convention, fixed_leg_day_counter, index)\n",
    "    for rate, tenor in zip(rates, tenors)\n",
    "]\n",
    "\n",
    "# Now we construct the yield curve\n",
    "curve = ql.PiecewiseFlatForward(0, ql.TARGET(), rate_helpers, ql.Actual360())"
   ]
  },
  {
   "cell_type": "code",
   "execution_count": 78,
   "metadata": {},
   "outputs": [],
   "source": [
    "Curve_Data_New = Curve_Data.copy()\n",
    "Curve_Data_New['Market Rate'] = Curve_Data['Market Rate'] + 0.0001\n",
    "\n",
    "# Create a list of SimpleQuotes from the rates\n",
    "rates_new = [ql.SimpleQuote(rate) for rate in Curve_Data_New['Market Rate']]\n",
    "\n",
    "# Create a list of Periods from the terms\n",
    "tenors_new = [ql.Period(term) for term in Curve_Data_New['Term']]\n",
    "\n",
    "# Create a list of SwapRateHelpers\n",
    "rate_helpers_new = [\n",
    "    ql.SwapRateHelper(ql.QuoteHandle(rate), tenor, calendar, fixed_leg_frequency, fixed_leg_convention, fixed_leg_day_counter, index)\n",
    "    for rate, tenor in zip(rates_new, tenors_new)\n",
    "]\n",
    "\n",
    "# Now we construct the yield curve\n",
    "curve_new = ql.PiecewiseFlatForward(0, ql.TARGET(), rate_helpers_new, ql.Actual360())"
   ]
  },
  {
   "cell_type": "code",
   "execution_count": 79,
   "metadata": {},
   "outputs": [],
   "source": [
    "# Convert the swap curve to a YieldTermStructureHandle\n",
    "yield_curve_handle = ql.YieldTermStructureHandle(curve)\n",
    "yield_curve_handle_new = ql.YieldTermStructureHandle(curve_new)"
   ]
  },
  {
   "cell_type": "code",
   "execution_count": 80,
   "metadata": {},
   "outputs": [],
   "source": [
    "# St. Mary Land & Exploration Company \n",
    "# Bloomberg ticker: SM 5.75 03/15/22 \n",
    "\n",
    "redemption = 100.00\n",
    "face_amount = 100.0\n",
    "spot_price = 3.02\n",
    "conversion_price = 7.068\n",
    "conversion_ratio = 14.14827\n",
    "\n",
    "issue_date = ql.Date(30,1,2013)        \n",
    "maturity_date = ql.Date(1,2,2033)\n",
    "\n",
    "settlement_days = 2\n",
    "calendar = ql.UnitedStates(ql.UnitedStates.GovernmentBond)\n",
    "coupon = 0.03\n",
    "frequency = ql.Semiannual\n",
    "tenor = ql.Period(frequency)\n",
    "\n",
    "day_count = ql.Thirty360(ql.Thirty360.BondBasis)\n",
    "accrual_convention = ql.Unadjusted\n",
    "payment_convention = ql.Unadjusted\n",
    "\n",
    "call_dates = [ql.Date(1,2,2019)]\n",
    "call_price = 100.0\n",
    "put_dates = [ql.Date(1,2,2019), ql.Date(1,2,2023), ql.Date(1,2,2028)]\n",
    "put_price = 100.0\n",
    "\n",
    "# assumptions\n",
    "dividend_yield = 0\n",
    "credit_spread_rate = 0.04\n",
    "risk_free_rate = 0.04\n",
    "\n",
    "volatility = 0.30"
   ]
  },
  {
   "cell_type": "code",
   "execution_count": 81,
   "metadata": {},
   "outputs": [],
   "source": [
    "callability_schedule = ql.CallabilitySchedule()\n",
    "\n",
    "\n",
    "for call_date in call_dates:\n",
    "   callability_price  = ql.BondPrice(call_price, \n",
    "                                            ql.BondPrice.Clean)\n",
    "   callability_schedule.append(ql.Callability(callability_price, \n",
    "                                       ql.Callability.Call,\n",
    "                                       call_date)\n",
    "                        )\n",
    "    \n",
    "for put_date in put_dates:\n",
    "    puttability_price = ql.BondPrice(put_price, \n",
    "                                            ql.BondPrice.Clean)\n",
    "    callability_schedule.append(ql.Callability(puttability_price,\n",
    "                                               ql.Callability.Put,\n",
    "                                               put_date))"
   ]
  },
  {
   "cell_type": "code",
   "execution_count": 82,
   "metadata": {},
   "outputs": [],
   "source": [
    "dividend_schedule = ql.DividendSchedule() # No dividends\n",
    "dividend_amount = dividend_yield*spot_price\n",
    "next_dividend_date = ql.Date(1,12,2004)\n",
    "dividend_amount = spot_price*dividend_yield\n",
    "for i in range(4):\n",
    "    date = calendar.advance(next_dividend_date, 1, ql.Years)\n",
    "    dividend_schedule.append(\n",
    "        ql.FixedDividend(dividend_amount, date)\n",
    "    )"
   ]
  },
  {
   "cell_type": "code",
   "execution_count": 83,
   "metadata": {},
   "outputs": [],
   "source": [
    "schedule = ql.Schedule(issue_date, maturity_date, tenor,\n",
    "                       calendar, accrual_convention, accrual_convention,\n",
    "                       ql.DateGeneration.Backward, False)\n",
    "\n",
    "credit_spread_handle = ql.QuoteHandle(ql.SimpleQuote(credit_spread_rate))\n",
    "exercise = ql.AmericanExercise(calculation_date, maturity_date)\n",
    "\n",
    "convertible_bond = ql.ConvertibleFixedCouponBond(exercise,\n",
    "                                                     conversion_ratio,\n",
    "                                                     callability_schedule, \n",
    "                                                     issue_date,\n",
    "                                                     settlement_days,\n",
    "                                                     [coupon],\n",
    "                                                     day_count,\n",
    "                                                     schedule,\n",
    "                                                     redemption)"
   ]
  },
  {
   "cell_type": "code",
   "execution_count": 84,
   "metadata": {},
   "outputs": [],
   "source": [
    "spot_price_handle = ql.QuoteHandle(ql.SimpleQuote(spot_price))\n",
    "# yield_ts_handle = ql.YieldTermStructureHandle(\n",
    "#     ql.FlatForward(calculation_date, risk_free_rate, day_count)\n",
    "# )\n",
    "dividend_ts_handle = ql.YieldTermStructureHandle(\n",
    "    ql.FlatForward(calculation_date, dividend_yield, day_count)\n",
    ")\n",
    "volatility_ts_handle = ql.BlackVolTermStructureHandle(\n",
    "    ql.BlackConstantVol(calculation_date, calendar,volatility, day_count)\n",
    ")\n",
    "\n",
    "bsm_process = ql.BlackScholesMertonProcess(spot_price_handle, \n",
    "                                           dividend_ts_handle,\n",
    "                                           yield_curve_handle, # yield_ts_handle,\n",
    "                                           volatility_ts_handle)"
   ]
  },
  {
   "cell_type": "code",
   "execution_count": 85,
   "metadata": {},
   "outputs": [],
   "source": [
    "time_steps = 1000\n",
    "engine = ql.BinomialConvertibleEngine(bsm_process, \"crr\", time_steps, credit_spread_handle, dividend_schedule)"
   ]
  },
  {
   "cell_type": "code",
   "execution_count": 86,
   "metadata": {},
   "outputs": [
    {
     "name": "stdout",
     "output_type": "stream",
     "text": [
      "NPV  96.71797007561301\n",
      "Accrued  0.19166666666665666\n"
     ]
    }
   ],
   "source": [
    "convertible_bond.setPricingEngine(engine)\n",
    "NPV = convertible_bond.NPV()\n",
    "print (\"NPV \", NPV)\n",
    "print (\"Accrued \", convertible_bond.accruedAmount())"
   ]
  },
  {
   "cell_type": "markdown",
   "metadata": {},
   "source": [
    "# Greeks Calculation"
   ]
  },
  {
   "cell_type": "code",
   "execution_count": 87,
   "metadata": {},
   "outputs": [
    {
     "name": "stdout",
     "output_type": "stream",
     "text": [
      "NPV_up  96.73872732133808\n"
     ]
    }
   ],
   "source": [
    "delta_spot_price = 0.01* spot_price\n",
    "spot_price_handle_up = ql.QuoteHandle(ql.SimpleQuote(spot_price+delta_spot_price))\n",
    "bsm_process_up = ql.BlackScholesMertonProcess(spot_price_handle_up, \n",
    "                                           dividend_ts_handle,\n",
    "                                           yield_curve_handle,\n",
    "                                           volatility_ts_handle)\n",
    "engine_up = ql.BinomialConvertibleEngine(bsm_process_up, \"crr\", time_steps, credit_spread_handle, dividend_schedule)\n",
    "convertible_bond.setPricingEngine(engine_up)\n",
    "NPV_up = convertible_bond.NPV()\n",
    "print (\"NPV_up \", NPV_up)"
   ]
  },
  {
   "cell_type": "code",
   "execution_count": 88,
   "metadata": {},
   "outputs": [
    {
     "name": "stdout",
     "output_type": "stream",
     "text": [
      "NPV_down  96.697212829888\n"
     ]
    }
   ],
   "source": [
    "spot_price_handle_down = ql.QuoteHandle(ql.SimpleQuote(spot_price-delta_spot_price))\n",
    "bsm_process_down = ql.BlackScholesMertonProcess(spot_price_handle_down, \n",
    "                                           dividend_ts_handle,\n",
    "                                           yield_curve_handle,\n",
    "                                           volatility_ts_handle)\n",
    "engine_down = ql.BinomialConvertibleEngine(bsm_process_down, \"crr\", time_steps, credit_spread_handle, dividend_schedule)\n",
    "convertible_bond.setPricingEngine(engine_down)\n",
    "NPV_down = convertible_bond.NPV()\n",
    "print (\"NPV_down \", NPV_down)"
   ]
  },
  {
   "cell_type": "code",
   "execution_count": 89,
   "metadata": {},
   "outputs": [],
   "source": [
    "parity = 42.7278"
   ]
  },
  {
   "cell_type": "code",
   "execution_count": 90,
   "metadata": {},
   "outputs": [
    {
     "data": {
      "text/plain": [
       "0.04858018836690972"
      ]
     },
     "execution_count": 90,
     "metadata": {},
     "output_type": "execute_result"
    }
   ],
   "source": [
    "delta = (NPV_up - NPV_down)/(0.02*parity)\n",
    "delta"
   ]
  },
  {
   "cell_type": "code",
   "execution_count": 91,
   "metadata": {},
   "outputs": [
    {
     "data": {
      "text/plain": [
       "0.034703103832992216"
      ]
     },
     "execution_count": 91,
     "metadata": {},
     "output_type": "execute_result"
    }
   ],
   "source": [
    "# Calculate Gamma\n",
    "\n",
    "# Re-calculate for a further 1% increase\n",
    "spot_price_handle_up2 = ql.QuoteHandle(ql.SimpleQuote(spot_price + 2*delta_spot_price))\n",
    "bsm_process_up2 = ql.BlackScholesMertonProcess(spot_price_handle_up2, dividend_ts_handle, yield_curve_handle, volatility_ts_handle)\n",
    "engine_up2 = ql.BinomialConvertibleEngine(bsm_process_up2, \"crr\", time_steps, credit_spread_handle, dividend_schedule)\n",
    "convertible_bond.setPricingEngine(engine_up2)\n",
    "NPV_up2 = convertible_bond.NPV()\n",
    "\n",
    "# Delta for the up 2% move\n",
    "delta_up = (NPV_up2 - NPV_up) / (0.01 * parity)\n",
    "\n",
    "# Calculate Gamma (change in delta for a 1% stock move)\n",
    "gamma = (delta_up - delta) / (0.01 * parity)\n",
    "gamma"
   ]
  },
  {
   "cell_type": "code",
   "execution_count": 92,
   "metadata": {},
   "outputs": [
    {
     "data": {
      "text/plain": [
       "0.007870346364647673"
      ]
     },
     "execution_count": 92,
     "metadata": {},
     "output_type": "execute_result"
    }
   ],
   "source": [
    "# Calculate Vega\n",
    "volatility_ts_handle_vup = ql.BlackVolTermStructureHandle(\n",
    "    ql.BlackConstantVol(calculation_date, calendar,volatility*1.01, day_count)\n",
    ")\n",
    "bsm_process_vup = ql.BlackScholesMertonProcess(spot_price_handle, \n",
    "                                           dividend_ts_handle,\n",
    "                                           yield_curve_handle,\n",
    "                                           volatility_ts_handle_vup)\n",
    "engine_vup = ql.BinomialConvertibleEngine(bsm_process_vup, \"crr\", time_steps, credit_spread_handle, dividend_schedule)\n",
    "convertible_bond.setPricingEngine(engine_vup)\n",
    "NPV_vup = convertible_bond.NPV()\n",
    "\n",
    "volatility_ts_handle_vdown = ql.BlackVolTermStructureHandle(\n",
    "    ql.BlackConstantVol(calculation_date, calendar,volatility*0.99, day_count)\n",
    ")\n",
    "bsm_process_vdown = ql.BlackScholesMertonProcess(spot_price_handle,\n",
    "                                             dividend_ts_handle,\n",
    "                                             yield_curve_handle,\n",
    "                                             volatility_ts_handle_vdown)\n",
    "engine_vdown = ql.BinomialConvertibleEngine(bsm_process_vdown, \"crr\", time_steps, credit_spread_handle, dividend_schedule)\n",
    "convertible_bond.setPricingEngine(engine_vdown)\n",
    "NPV_vdown = convertible_bond.NPV()\n",
    "\n",
    "vol_change = volatility*0.01\n",
    "#vega = (NPV_vup - NPV_vdown) / (2 * vol_change)\n",
    "vega1 = (NPV_vup - NPV_vdown) / 2\n",
    "vega1"
   ]
  },
  {
   "cell_type": "code",
   "execution_count": 93,
   "metadata": {},
   "outputs": [
    {
     "data": {
      "text/plain": [
       "-0.8340039436518509"
      ]
     },
     "execution_count": 93,
     "metadata": {},
     "output_type": "execute_result"
    }
   ],
   "source": [
    "# Calculate Rho\n",
    "bsm_process_yup = ql.BlackScholesMertonProcess(spot_price_handle, \n",
    "                                           dividend_ts_handle,\n",
    "                                           yield_curve_handle_new,\n",
    "                                           volatility_ts_handle)\n",
    "engine_yup = ql.BinomialConvertibleEngine(bsm_process_yup, \"crr\", time_steps, credit_spread_handle, dividend_schedule)\n",
    "convertible_bond.setPricingEngine(engine_yup)\n",
    "NPV_yup = convertible_bond.NPV()\n",
    "rho = 100*(NPV_yup - NPV)\n",
    "rho"
   ]
  },
  {
   "cell_type": "code",
   "execution_count": 94,
   "metadata": {},
   "outputs": [
    {
     "data": {
      "text/plain": [
       "24.858391384887"
      ]
     },
     "execution_count": 94,
     "metadata": {},
     "output_type": "execute_result"
    }
   ],
   "source": [
    "# Calculate Theta\n",
    "ql.Settings.instance().evaluationDate = calculation_date + 1\n",
    "\n",
    "engine = ql.BinomialConvertibleEngine(bsm_process, \"crr\", time_steps, credit_spread_handle, dividend_schedule)\n",
    "convertible_bond.setPricingEngine(engine)\n",
    "NPV_tomorrow = convertible_bond.NPV()\n",
    "theta = (NPV_tomorrow - NPV)*360\n",
    "theta"
   ]
  },
  {
   "cell_type": "code",
   "execution_count": 95,
   "metadata": {},
   "outputs": [
    {
     "data": {
      "text/html": [
       "<div>\n",
       "<style scoped>\n",
       "    .dataframe tbody tr th:only-of-type {\n",
       "        vertical-align: middle;\n",
       "    }\n",
       "\n",
       "    .dataframe tbody tr th {\n",
       "        vertical-align: top;\n",
       "    }\n",
       "\n",
       "    .dataframe thead th {\n",
       "        text-align: right;\n",
       "    }\n",
       "</style>\n",
       "<table border=\"1\" class=\"dataframe\">\n",
       "  <thead>\n",
       "    <tr style=\"text-align: right;\">\n",
       "      <th></th>\n",
       "      <th>Price</th>\n",
       "      <th>Accrued</th>\n",
       "      <th>Delta</th>\n",
       "      <th>Gamma</th>\n",
       "      <th>Vega</th>\n",
       "      <th>Rho</th>\n",
       "      <th>Theta</th>\n",
       "    </tr>\n",
       "  </thead>\n",
       "  <tbody>\n",
       "    <tr>\n",
       "      <th>0</th>\n",
       "      <td>96.71797</td>\n",
       "      <td>0.2</td>\n",
       "      <td>0.04858</td>\n",
       "      <td>0.034703</td>\n",
       "      <td>0.00787</td>\n",
       "      <td>-0.834004</td>\n",
       "      <td>24.858391</td>\n",
       "    </tr>\n",
       "  </tbody>\n",
       "</table>\n",
       "</div>"
      ],
      "text/plain": [
       "      Price  Accrued    Delta     Gamma     Vega       Rho      Theta\n",
       "0  96.71797      0.2  0.04858  0.034703  0.00787 -0.834004  24.858391"
      ]
     },
     "execution_count": 95,
     "metadata": {},
     "output_type": "execute_result"
    }
   ],
   "source": [
    "# Create a table of the prices, accrued, and the Greeks\n",
    "output = pd.DataFrame({\n",
    "    'Price': [NPV],\n",
    "    'Accrued': [convertible_bond.accruedAmount()],\n",
    "    'Delta': [delta],\n",
    "    'Gamma': [gamma],\n",
    "    'Vega': [vega1],\n",
    "    'Rho': [rho],\n",
    "    'Theta': [theta]\n",
    "})\n",
    "\n",
    "output"
   ]
  },
  {
   "cell_type": "code",
   "execution_count": 96,
   "metadata": {},
   "outputs": [],
   "source": [
    "output.to_excel(\"output.xlsx\")"
   ]
  }
 ],
 "metadata": {
  "interpreter": {
   "hash": "4341c959026c26329350e7155c22fcc07ba6d7e3b6c8669131d138e8e858f11b"
  },
  "kernelspec": {
   "display_name": "Python 3 (ipykernel)",
   "language": "python",
   "name": "python3"
  },
  "language_info": {
   "codemirror_mode": {
    "name": "ipython",
    "version": 3
   },
   "file_extension": ".py",
   "mimetype": "text/x-python",
   "name": "python",
   "nbconvert_exporter": "python",
   "pygments_lexer": "ipython3",
   "version": "3.12.0"
  }
 },
 "nbformat": 4,
 "nbformat_minor": 4
}
