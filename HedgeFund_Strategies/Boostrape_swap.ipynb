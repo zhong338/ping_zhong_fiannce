{
 "cells": [
  {
   "cell_type": "markdown",
   "metadata": {},
   "source": [
    "### Import libraries"
   ]
  },
  {
   "cell_type": "code",
   "execution_count": 1,
   "metadata": {},
   "outputs": [],
   "source": [
    "import QuantLib as ql\n",
    "import numpy as np\n",
    "import pandas as pd\n",
    "from scipy.optimize import fsolve"
   ]
  },
  {
   "cell_type": "markdown",
   "metadata": {},
   "source": [
    "### Read the given data and clean up the format"
   ]
  },
  {
   "cell_type": "code",
   "execution_count": 2,
   "metadata": {},
   "outputs": [],
   "source": [
    "data = pd.read_excel('FM5422 Project 1 Data.xlsx', skiprows=2)"
   ]
  },
  {
   "cell_type": "code",
   "execution_count": 3,
   "metadata": {},
   "outputs": [
    {
     "data": {
      "text/html": [
       "<div>\n",
       "<style scoped>\n",
       "    .dataframe tbody tr th:only-of-type {\n",
       "        vertical-align: middle;\n",
       "    }\n",
       "\n",
       "    .dataframe tbody tr th {\n",
       "        vertical-align: top;\n",
       "    }\n",
       "\n",
       "    .dataframe thead th {\n",
       "        text-align: right;\n",
       "    }\n",
       "</style>\n",
       "<table border=\"1\" class=\"dataframe\">\n",
       "  <thead>\n",
       "    <tr style=\"text-align: right;\">\n",
       "      <th></th>\n",
       "      <th>Term</th>\n",
       "      <th>Unit</th>\n",
       "      <th>Maturity Date</th>\n",
       "      <th>Mid</th>\n",
       "      <th>Rate Type</th>\n",
       "      <th>Daycount</th>\n",
       "      <th>Freq</th>\n",
       "      <th>Unnamed: 7</th>\n",
       "      <th>Maturity Date.1</th>\n",
       "      <th>Discount</th>\n",
       "    </tr>\n",
       "  </thead>\n",
       "  <tbody>\n",
       "    <tr>\n",
       "      <th>0</th>\n",
       "      <td>3</td>\n",
       "      <td>MO</td>\n",
       "      <td>2024-04-16</td>\n",
       "      <td>5.578140</td>\n",
       "      <td>Cash Rates</td>\n",
       "      <td>ACT/360</td>\n",
       "      <td>0</td>\n",
       "      <td>NaN</td>\n",
       "      <td>2024-04-16</td>\n",
       "      <td>0.985790</td>\n",
       "    </tr>\n",
       "    <tr>\n",
       "      <th>1</th>\n",
       "      <td>6</td>\n",
       "      <td>MO</td>\n",
       "      <td>2024-07-16</td>\n",
       "      <td>5.436519</td>\n",
       "      <td>Swap Rates</td>\n",
       "      <td>30I/360</td>\n",
       "      <td>2</td>\n",
       "      <td>NaN</td>\n",
       "      <td>2024-07-16</td>\n",
       "      <td>0.973225</td>\n",
       "    </tr>\n",
       "    <tr>\n",
       "      <th>2</th>\n",
       "      <td>1</td>\n",
       "      <td>YR</td>\n",
       "      <td>2025-01-16</td>\n",
       "      <td>4.925334</td>\n",
       "      <td>Swap Rates</td>\n",
       "      <td>30I/360</td>\n",
       "      <td>2</td>\n",
       "      <td>NaN</td>\n",
       "      <td>2025-01-16</td>\n",
       "      <td>0.952254</td>\n",
       "    </tr>\n",
       "    <tr>\n",
       "      <th>3</th>\n",
       "      <td>2</td>\n",
       "      <td>YR</td>\n",
       "      <td>2026-01-16</td>\n",
       "      <td>4.265320</td>\n",
       "      <td>Swap Rates</td>\n",
       "      <td>30I/360</td>\n",
       "      <td>2</td>\n",
       "      <td>NaN</td>\n",
       "      <td>2026-01-16</td>\n",
       "      <td>0.919041</td>\n",
       "    </tr>\n",
       "    <tr>\n",
       "      <th>4</th>\n",
       "      <td>3</td>\n",
       "      <td>YR</td>\n",
       "      <td>2027-01-19</td>\n",
       "      <td>4.003782</td>\n",
       "      <td>Swap Rates</td>\n",
       "      <td>30I/360</td>\n",
       "      <td>2</td>\n",
       "      <td>NaN</td>\n",
       "      <td>2027-01-19</td>\n",
       "      <td>0.887806</td>\n",
       "    </tr>\n",
       "  </tbody>\n",
       "</table>\n",
       "</div>"
      ],
      "text/plain": [
       "   Term Unit Maturity Date       Mid   Rate Type Daycount  Freq  Unnamed: 7  \\\n",
       "0     3   MO    2024-04-16  5.578140  Cash Rates  ACT/360     0         NaN   \n",
       "1     6   MO    2024-07-16  5.436519  Swap Rates  30I/360     2         NaN   \n",
       "2     1   YR    2025-01-16  4.925334  Swap Rates  30I/360     2         NaN   \n",
       "3     2   YR    2026-01-16  4.265320  Swap Rates  30I/360     2         NaN   \n",
       "4     3   YR    2027-01-19  4.003782  Swap Rates  30I/360     2         NaN   \n",
       "\n",
       "  Maturity Date.1  Discount  \n",
       "0      2024-04-16  0.985790  \n",
       "1      2024-07-16  0.973225  \n",
       "2      2025-01-16  0.952254  \n",
       "3      2026-01-16  0.919041  \n",
       "4      2027-01-19  0.887806  "
      ]
     },
     "execution_count": 3,
     "metadata": {},
     "output_type": "execute_result"
    }
   ],
   "source": [
    "# Print the table first to check what should we cleaning and preparing the data\n",
    "data.head()"
   ]
  },
  {
   "cell_type": "code",
   "execution_count": 4,
   "metadata": {},
   "outputs": [],
   "source": [
    "# Removing unnecessary rows and renaming columns for clarity\n",
    "# Renaming the columns, dropping unnecessary columns and the first row which contains headers\n",
    "\n",
    "cleaned_data = data\n",
    "\n",
    "# Renaming the columns\n",
    "cleaned_data.columns = ['Term', 'Unit', 'Maturity Date', 'Mid', 'Rate Type', 'Daycount', 'Freq', 'Column7', 'Maturity Date 2', 'Discount']\n",
    "\n",
    "# dropping unnecessary columns and the first row which contains headers\n",
    "cleaned_data = cleaned_data.drop(columns = ['Column7', 'Maturity Date 2', 'Discount'])"
   ]
  },
  {
   "cell_type": "code",
   "execution_count": 927,
   "metadata": {},
   "outputs": [
    {
     "data": {
      "text/html": [
       "<div>\n",
       "<style scoped>\n",
       "    .dataframe tbody tr th:only-of-type {\n",
       "        vertical-align: middle;\n",
       "    }\n",
       "\n",
       "    .dataframe tbody tr th {\n",
       "        vertical-align: top;\n",
       "    }\n",
       "\n",
       "    .dataframe thead th {\n",
       "        text-align: right;\n",
       "    }\n",
       "</style>\n",
       "<table border=\"1\" class=\"dataframe\">\n",
       "  <thead>\n",
       "    <tr style=\"text-align: right;\">\n",
       "      <th></th>\n",
       "      <th>Term</th>\n",
       "      <th>Unit</th>\n",
       "      <th>Maturity Date</th>\n",
       "      <th>Mid</th>\n",
       "      <th>Rate Type</th>\n",
       "      <th>Daycount</th>\n",
       "      <th>Freq</th>\n",
       "    </tr>\n",
       "  </thead>\n",
       "  <tbody>\n",
       "    <tr>\n",
       "      <th>0</th>\n",
       "      <td>3</td>\n",
       "      <td>MO</td>\n",
       "      <td>2024-04-16</td>\n",
       "      <td>5.578140</td>\n",
       "      <td>Cash Rates</td>\n",
       "      <td>ACT/360</td>\n",
       "      <td>0</td>\n",
       "    </tr>\n",
       "    <tr>\n",
       "      <th>1</th>\n",
       "      <td>6</td>\n",
       "      <td>MO</td>\n",
       "      <td>2024-07-16</td>\n",
       "      <td>5.436519</td>\n",
       "      <td>Swap Rates</td>\n",
       "      <td>30I/360</td>\n",
       "      <td>2</td>\n",
       "    </tr>\n",
       "    <tr>\n",
       "      <th>2</th>\n",
       "      <td>1</td>\n",
       "      <td>YR</td>\n",
       "      <td>2025-01-16</td>\n",
       "      <td>4.925334</td>\n",
       "      <td>Swap Rates</td>\n",
       "      <td>30I/360</td>\n",
       "      <td>2</td>\n",
       "    </tr>\n",
       "    <tr>\n",
       "      <th>3</th>\n",
       "      <td>2</td>\n",
       "      <td>YR</td>\n",
       "      <td>2026-01-16</td>\n",
       "      <td>4.265320</td>\n",
       "      <td>Swap Rates</td>\n",
       "      <td>30I/360</td>\n",
       "      <td>2</td>\n",
       "    </tr>\n",
       "    <tr>\n",
       "      <th>4</th>\n",
       "      <td>3</td>\n",
       "      <td>YR</td>\n",
       "      <td>2027-01-19</td>\n",
       "      <td>4.003782</td>\n",
       "      <td>Swap Rates</td>\n",
       "      <td>30I/360</td>\n",
       "      <td>2</td>\n",
       "    </tr>\n",
       "  </tbody>\n",
       "</table>\n",
       "</div>"
      ],
      "text/plain": [
       "   Term Unit Maturity Date       Mid   Rate Type Daycount  Freq\n",
       "0     3   MO    2024-04-16  5.578140  Cash Rates  ACT/360     0\n",
       "1     6   MO    2024-07-16  5.436519  Swap Rates  30I/360     2\n",
       "2     1   YR    2025-01-16  4.925334  Swap Rates  30I/360     2\n",
       "3     2   YR    2026-01-16  4.265320  Swap Rates  30I/360     2\n",
       "4     3   YR    2027-01-19  4.003782  Swap Rates  30I/360     2"
      ]
     },
     "execution_count": 927,
     "metadata": {},
     "output_type": "execute_result"
    }
   ],
   "source": [
    "cleaned_data.head()"
   ]
  },
  {
   "cell_type": "markdown",
   "metadata": {},
   "source": [
    "### Make sure to convert all the dates to QuantLib Date format"
   ]
  },
  {
   "cell_type": "code",
   "execution_count": 5,
   "metadata": {},
   "outputs": [],
   "source": [
    "def convert_to_ql_date(date_str):\n",
    "    return ql.Date(date_str.day, date_str.month, date_str.year)\n",
    "\n",
    "cleaned_data['Maturity Date'] = cleaned_data['Maturity Date'].apply(convert_to_ql_date)"
   ]
  },
  {
   "cell_type": "code",
   "execution_count": 929,
   "metadata": {},
   "outputs": [
    {
     "data": {
      "text/html": [
       "<div>\n",
       "<style scoped>\n",
       "    .dataframe tbody tr th:only-of-type {\n",
       "        vertical-align: middle;\n",
       "    }\n",
       "\n",
       "    .dataframe tbody tr th {\n",
       "        vertical-align: top;\n",
       "    }\n",
       "\n",
       "    .dataframe thead th {\n",
       "        text-align: right;\n",
       "    }\n",
       "</style>\n",
       "<table border=\"1\" class=\"dataframe\">\n",
       "  <thead>\n",
       "    <tr style=\"text-align: right;\">\n",
       "      <th></th>\n",
       "      <th>Term</th>\n",
       "      <th>Unit</th>\n",
       "      <th>Maturity Date</th>\n",
       "      <th>Mid</th>\n",
       "      <th>Rate Type</th>\n",
       "      <th>Daycount</th>\n",
       "      <th>Freq</th>\n",
       "    </tr>\n",
       "  </thead>\n",
       "  <tbody>\n",
       "    <tr>\n",
       "      <th>0</th>\n",
       "      <td>3</td>\n",
       "      <td>MO</td>\n",
       "      <td>April 16th, 2024</td>\n",
       "      <td>5.578140</td>\n",
       "      <td>Cash Rates</td>\n",
       "      <td>ACT/360</td>\n",
       "      <td>0</td>\n",
       "    </tr>\n",
       "    <tr>\n",
       "      <th>1</th>\n",
       "      <td>6</td>\n",
       "      <td>MO</td>\n",
       "      <td>July 16th, 2024</td>\n",
       "      <td>5.436519</td>\n",
       "      <td>Swap Rates</td>\n",
       "      <td>30I/360</td>\n",
       "      <td>2</td>\n",
       "    </tr>\n",
       "    <tr>\n",
       "      <th>2</th>\n",
       "      <td>1</td>\n",
       "      <td>YR</td>\n",
       "      <td>January 16th, 2025</td>\n",
       "      <td>4.925334</td>\n",
       "      <td>Swap Rates</td>\n",
       "      <td>30I/360</td>\n",
       "      <td>2</td>\n",
       "    </tr>\n",
       "    <tr>\n",
       "      <th>3</th>\n",
       "      <td>2</td>\n",
       "      <td>YR</td>\n",
       "      <td>January 16th, 2026</td>\n",
       "      <td>4.265320</td>\n",
       "      <td>Swap Rates</td>\n",
       "      <td>30I/360</td>\n",
       "      <td>2</td>\n",
       "    </tr>\n",
       "    <tr>\n",
       "      <th>4</th>\n",
       "      <td>3</td>\n",
       "      <td>YR</td>\n",
       "      <td>January 19th, 2027</td>\n",
       "      <td>4.003782</td>\n",
       "      <td>Swap Rates</td>\n",
       "      <td>30I/360</td>\n",
       "      <td>2</td>\n",
       "    </tr>\n",
       "  </tbody>\n",
       "</table>\n",
       "</div>"
      ],
      "text/plain": [
       "   Term Unit       Maturity Date       Mid   Rate Type Daycount  Freq\n",
       "0     3   MO    April 16th, 2024  5.578140  Cash Rates  ACT/360     0\n",
       "1     6   MO     July 16th, 2024  5.436519  Swap Rates  30I/360     2\n",
       "2     1   YR  January 16th, 2025  4.925334  Swap Rates  30I/360     2\n",
       "3     2   YR  January 16th, 2026  4.265320  Swap Rates  30I/360     2\n",
       "4     3   YR  January 19th, 2027  4.003782  Swap Rates  30I/360     2"
      ]
     },
     "execution_count": 929,
     "metadata": {},
     "output_type": "execute_result"
    }
   ],
   "source": [
    "cleaned_data.head()"
   ]
  },
  {
   "cell_type": "markdown",
   "metadata": {},
   "source": [
    "### Calculate the discount factors for the first \"Cash\" assets. "
   ]
  },
  {
   "cell_type": "code",
   "execution_count": 44,
   "metadata": {},
   "outputs": [
    {
     "data": {
      "text/plain": [
       "93"
      ]
     },
     "execution_count": 44,
     "metadata": {},
     "output_type": "execute_result"
    }
   ],
   "source": [
    "calendar = ql.UnitedStates(ql.UnitedStates.GovernmentBond)\n",
    "\n",
    "start_date = ql.Date(14, 1, 2024)\n",
    "end_date = cleaned_data.loc[0,'Maturity Date']\n",
    "\n",
    "day_counter = ql.Actual360()\n",
    "day_count_3M = day_counter.dayCount(start_date, end_date)\n",
    "day_count_3M"
   ]
  },
  {
   "cell_type": "code",
   "execution_count": 7,
   "metadata": {},
   "outputs": [
    {
     "data": {
      "text/plain": [
       "1.4410195"
      ]
     },
     "execution_count": 7,
     "metadata": {},
     "output_type": "execute_result"
    }
   ],
   "source": [
    "market_rate = cleaned_data.loc[0, 'Mid']\n",
    "rate_3M = market_rate * day_count_3M / 360\n",
    "rate_3M"
   ]
  },
  {
   "cell_type": "code",
   "execution_count": 8,
   "metadata": {},
   "outputs": [
    {
     "data": {
      "text/plain": [
       "0.9857945088968669"
      ]
     },
     "execution_count": 8,
     "metadata": {},
     "output_type": "execute_result"
    }
   ],
   "source": [
    "discount_factor_3M = 1 / (1 + rate_3M / 100)\n",
    "discount_factor_3M"
   ]
  },
  {
   "cell_type": "markdown",
   "metadata": {},
   "source": [
    "### Calculate the 6M discount factor from 6M swap rate"
   ]
  },
  {
   "cell_type": "code",
   "execution_count": 9,
   "metadata": {},
   "outputs": [
    {
     "data": {
      "text/plain": [
       "182"
      ]
     },
     "execution_count": 9,
     "metadata": {},
     "output_type": "execute_result"
    }
   ],
   "source": [
    "# follow the calculation in the excel sheet\n",
    "start_date = ql.Date(14, 1, 2024)\n",
    "end_date = cleaned_data.loc[1,'Maturity Date']\n",
    "\n",
    "day_counter = ql.Thirty360(ql.Thirty360.USA)\n",
    "day_count_6M = day_counter.dayCount(start_date, end_date)\n",
    "day_count_6M"
   ]
  },
  {
   "cell_type": "code",
   "execution_count": 10,
   "metadata": {},
   "outputs": [
    {
     "data": {
      "text/plain": [
       "2.7484621353906964"
      ]
     },
     "execution_count": 10,
     "metadata": {},
     "output_type": "execute_result"
    }
   ],
   "source": [
    "market_rate = cleaned_data.loc[1, 'Mid']\n",
    "\n",
    "rate_6M = market_rate * day_count_6M / 360\n",
    "rate_6M"
   ]
  },
  {
   "cell_type": "code",
   "execution_count": 11,
   "metadata": {},
   "outputs": [
    {
     "data": {
      "text/plain": [
       "0.9732505764245009"
      ]
     },
     "execution_count": 11,
     "metadata": {},
     "output_type": "execute_result"
    }
   ],
   "source": [
    "discount_factor_6M = 1 / (1 + rate_6M / 100)\n",
    "discount_factor_6M"
   ]
  },
  {
   "cell_type": "markdown",
   "metadata": {},
   "source": [
    "### Calculate the 1Y discount factor from 1Y swap rate"
   ]
  },
  {
   "cell_type": "code",
   "execution_count": 936,
   "metadata": {},
   "outputs": [],
   "source": [
    "# follow the calculation in the excel sheet, note that the 6M discount factor is already known, \n",
    "# so we only need to use a solver (root finder) to iteratively find the discount factor \n",
    "# such that (the discount cash flow) - 1 = 0 as shown in the sheet"
   ]
  },
  {
   "cell_type": "code",
   "execution_count": 12,
   "metadata": {},
   "outputs": [
    {
     "data": {
      "text/plain": [
       "2.4900300703594755"
      ]
     },
     "execution_count": 12,
     "metadata": {},
     "output_type": "execute_result"
    }
   ],
   "source": [
    "market_rate = cleaned_data.loc[2, 'Mid']\n",
    "\n",
    "rate_firsthalf = market_rate * day_count_6M / 360\n",
    "rate_firsthalf"
   ]
  },
  {
   "cell_type": "code",
   "execution_count": 14,
   "metadata": {},
   "outputs": [
    {
     "data": {
      "text/plain": [
       "180"
      ]
     },
     "execution_count": 14,
     "metadata": {},
     "output_type": "execute_result"
    }
   ],
   "source": [
    "start_date = cleaned_data.loc[1,'Maturity Date']\n",
    "end_date = cleaned_data.loc[2,'Maturity Date']\n",
    "\n",
    "day_counter = ql.Thirty360(ql.Thirty360.USA)\n",
    "day_count_sechalf = day_counter.dayCount(start_date, end_date)\n",
    "day_count_sechalf"
   ]
  },
  {
   "cell_type": "code",
   "execution_count": 15,
   "metadata": {},
   "outputs": [
    {
     "data": {
      "text/plain": [
       "2.4626671025533273"
      ]
     },
     "execution_count": 15,
     "metadata": {},
     "output_type": "execute_result"
    }
   ],
   "source": [
    "rate_sechalf = market_rate * day_count_sechalf / 360\n",
    "rate_sechalf"
   ]
  },
  {
   "cell_type": "code",
   "execution_count": 16,
   "metadata": {},
   "outputs": [
    {
     "data": {
      "text/plain": [
       "0.9523134577498885"
      ]
     },
     "execution_count": 16,
     "metadata": {},
     "output_type": "execute_result"
    }
   ],
   "source": [
    "def func(discount_factor_1yr):\n",
    "    first_discount_cashflow = (rate_firsthalf / 100) * discount_factor_6M\n",
    "    second_discount_cashflow = (1 + rate_sechalf / 100) * discount_factor_1yr\n",
    "    return second_discount_cashflow + first_discount_cashflow - 1\n",
    "\n",
    "initial_guess = [0.95]\n",
    "discount_factor_1yr = fsolve(func, initial_guess)\n",
    "discount_factor_1yr[0]"
   ]
  },
  {
   "cell_type": "markdown",
   "metadata": {},
   "source": [
    "### Start from the 2Y Swap rate, calculate the 2Y spot rate and the discount factor"
   ]
  },
  {
   "cell_type": "code",
   "execution_count": 941,
   "metadata": {},
   "outputs": [],
   "source": [
    "#1. Calculate the 4 actual payment dates (use the modified following convention for handling weekend/holidays)\n",
    "\n",
    "#2. Calculate the 4 coupons on the 4 dates (using the 30/360 day count convention)\n",
    "\n",
    "#3. Guess an initial 2Y spot rate, which implies a 18M spot rate\n",
    "\n",
    "#4. With the 6M, 1M, 18M (depends on the 2Y spot rate), 2Y spot rate (variable), we can calculate the 4 discount factors and the cashflows\n",
    "\n",
    "#5. Use a solver to calculate the implied 2Y spot rate such the total cashflow is 0.  This would be the 2Y spot rate from the 2Y swap rate."
   ]
  },
  {
   "cell_type": "code",
   "execution_count": 17,
   "metadata": {},
   "outputs": [],
   "source": [
    "start_date = ql.Date(14, 1, 2024)\n",
    "end_date = cleaned_data.loc[18, 'Maturity Date']\n",
    "tenor = ql.Period(ql.Semiannual)\n",
    "calendar = ql.UnitedStates(ql.UnitedStates.GovernmentBond)\n",
    "bussinessConvention = ql.ModifiedFollowing\n",
    "terminationBussinessConvention = ql.ModifiedFollowing\n",
    "dateGeneration = ql.DateGeneration.Backward\n",
    "monthEnd = False\n",
    "\n",
    "schedule = ql.Schedule (start_date, \n",
    "                        end_date, \n",
    "                        tenor, \n",
    "                        calendar, \n",
    "                        bussinessConvention, \n",
    "                        terminationBussinessConvention, \n",
    "                        dateGeneration, \n",
    "                        monthEnd)\n",
    "\n",
    "trading_date = pd.DataFrame({'Maturity Date': list(schedule)})\n",
    "trading_date.at[0, 'Maturity Date'] = start_date"
   ]
  },
  {
   "cell_type": "code",
   "execution_count": 29,
   "metadata": {},
   "outputs": [
    {
     "data": {
      "text/html": [
       "<div>\n",
       "<style scoped>\n",
       "    .dataframe tbody tr th:only-of-type {\n",
       "        vertical-align: middle;\n",
       "    }\n",
       "\n",
       "    .dataframe tbody tr th {\n",
       "        vertical-align: top;\n",
       "    }\n",
       "\n",
       "    .dataframe thead th {\n",
       "        text-align: right;\n",
       "    }\n",
       "</style>\n",
       "<table border=\"1\" class=\"dataframe\">\n",
       "  <thead>\n",
       "    <tr style=\"text-align: right;\">\n",
       "      <th></th>\n",
       "      <th>Maturity Date</th>\n",
       "    </tr>\n",
       "  </thead>\n",
       "  <tbody>\n",
       "    <tr>\n",
       "      <th>0</th>\n",
       "      <td>January 14th, 2024</td>\n",
       "    </tr>\n",
       "    <tr>\n",
       "      <th>1</th>\n",
       "      <td>July 16th, 2024</td>\n",
       "    </tr>\n",
       "    <tr>\n",
       "      <th>2</th>\n",
       "      <td>January 16th, 2025</td>\n",
       "    </tr>\n",
       "    <tr>\n",
       "      <th>3</th>\n",
       "      <td>July 16th, 2025</td>\n",
       "    </tr>\n",
       "    <tr>\n",
       "      <th>4</th>\n",
       "      <td>January 16th, 2026</td>\n",
       "    </tr>\n",
       "    <tr>\n",
       "      <th>...</th>\n",
       "      <td>...</td>\n",
       "    </tr>\n",
       "    <tr>\n",
       "      <th>96</th>\n",
       "      <td>January 19th, 2072</td>\n",
       "    </tr>\n",
       "    <tr>\n",
       "      <th>97</th>\n",
       "      <td>July 18th, 2072</td>\n",
       "    </tr>\n",
       "    <tr>\n",
       "      <th>98</th>\n",
       "      <td>January 17th, 2073</td>\n",
       "    </tr>\n",
       "    <tr>\n",
       "      <th>99</th>\n",
       "      <td>July 17th, 2073</td>\n",
       "    </tr>\n",
       "    <tr>\n",
       "      <th>100</th>\n",
       "      <td>January 16th, 2074</td>\n",
       "    </tr>\n",
       "  </tbody>\n",
       "</table>\n",
       "<p>101 rows × 1 columns</p>\n",
       "</div>"
      ],
      "text/plain": [
       "          Maturity Date\n",
       "0    January 14th, 2024\n",
       "1       July 16th, 2024\n",
       "2    January 16th, 2025\n",
       "3       July 16th, 2025\n",
       "4    January 16th, 2026\n",
       "..                  ...\n",
       "96   January 19th, 2072\n",
       "97      July 18th, 2072\n",
       "98   January 17th, 2073\n",
       "99      July 17th, 2073\n",
       "100  January 16th, 2074\n",
       "\n",
       "[101 rows x 1 columns]"
      ]
     },
     "execution_count": 29,
     "metadata": {},
     "output_type": "execute_result"
    }
   ],
   "source": [
    "trading_date"
   ]
  },
  {
   "cell_type": "code",
   "execution_count": 30,
   "metadata": {},
   "outputs": [],
   "source": [
    "df = pd.merge(trading_date, cleaned_data, on='Maturity Date', how='outer')\n",
    "\n",
    "last_row = df.iloc[-1:]\n",
    "df = df.iloc[:-1]\n",
    "df = pd.concat([df.iloc[:1], last_row, df.iloc[1:]]).reset_index(drop=True)\n",
    "df = df.reset_index(drop=True)"
   ]
  },
  {
   "cell_type": "code",
   "execution_count": 32,
   "metadata": {},
   "outputs": [
    {
     "data": {
      "text/plain": [
       "Int64Index([1, 2, 3, 5, 7, 9, 11, 13, 15, 17, 19, 21, 25, 31, 41, 51, 61, 81,\n",
       "            101],\n",
       "           dtype='int64')"
      ]
     },
     "execution_count": 32,
     "metadata": {},
     "output_type": "execute_result"
    }
   ],
   "source": [
    "requirement = df.dropna().index\n",
    "requirement"
   ]
  },
  {
   "cell_type": "code",
   "execution_count": 35,
   "metadata": {},
   "outputs": [],
   "source": [
    "for i in df.index[1:]:\n",
    "    df.loc[i, 'Tenor'] = ql.Thirty360(0).dayCount(start_date,df.loc[i,'Maturity Date'])/360\n",
    "    df.loc[i,'Day Count']=ql.Thirty360(0).dayCount(df.loc[i-1,'Maturity Date'],df.loc[i,'Maturity Date'])"
   ]
  },
  {
   "cell_type": "code",
   "execution_count": 37,
   "metadata": {},
   "outputs": [],
   "source": [
    "for i in df.index:\n",
    "    if df.loc[i,'Rate Type']=='Cash Rates':\n",
    "        daycount=ql.Actual360().dayCount(df.loc[i - 1, 'Maturity Date'], df.loc[i,'Maturity Date'])\n",
    "        df.loc[i,'Day Count'] = daycount\n",
    "        rate=df.loc[i,'Mid']*daycount/360\n",
    "        discount=1/(1+rate/100)\n",
    "        tenor=daycount/360\n",
    "        spot=2*((1/discount)**(0.5/tenor)-1)\n",
    "        df.loc[i,'Discount']=discount\n",
    "        df.loc[i,'Spot']=spot"
   ]
  },
  {
   "cell_type": "code",
   "execution_count": 39,
   "metadata": {},
   "outputs": [],
   "source": [
    "for i in df.index:\n",
    "    if i == 2:\n",
    "        daycount = df.loc[i,'Day Count']\n",
    "        coupon=df.loc[i,'Mid'] * df.loc[i,'Tenor']\n",
    "        discount=1/(1+coupon/100)\n",
    "        spot=2*((1/discount)**(0.5/df.loc[i,'Tenor'])-1)\n",
    "        df.loc[i,'Discount']=discount\n",
    "        df.loc[i,'Spot']=spot\n",
    "\n",
    "    if i == 3:\n",
    "        spot = 2*((1/discount_factor_1yr[0])**(0.5/df.loc[i,'Tenor'])-1)\n",
    "        df.loc[i,'Discount'] = discount_factor_1yr[0]\n",
    "        df.loc[i,'Spot']=spot"
   ]
  },
  {
   "cell_type": "code",
   "execution_count": 41,
   "metadata": {},
   "outputs": [
    {
     "name": "stderr",
     "output_type": "stream",
     "text": [
      "C:\\ProgramData\\Anaconda3\\lib\\site-packages\\scipy\\optimize\\minpack.py:175: RuntimeWarning: The iteration is not making good progress, as measured by the \n",
      "  improvement from the last ten iterations.\n",
      "  warnings.warn(msg, RuntimeWarning)\n"
     ]
    }
   ],
   "source": [
    "current_index = 2 # Start at 6 month index [2] b/c it is the first swap rate Maturity date\n",
    "\n",
    "def f(x):\n",
    "    for n in range(i - current_index):\n",
    "        df.loc[i - n,'Spot'] = (x * (df.loc[i - n,'Tenor'] - df.loc[current_index,'Tenor']) + df.loc[current_index,'Spot'] * (df.loc[i,'Tenor'] - df.loc[i - n,'Tenor'])) / (df.loc[i,'Tenor'] - df.loc[current_index,'Tenor'])\n",
    "    df['Discount'] = 1 / (1 + df['Spot'] / 2) ** (df['Tenor']*2)\n",
    "    df['DCF'] = df['Discount'] * df['Coupon']\n",
    "    return 100-df.loc[1:i,'DCF'].sum()\n",
    "\n",
    "for i in df.index[1:]:\n",
    "    if df.loc[i,'Mid']>0:\n",
    "        df.loc[:i,'Coupon'] = df['Day Count']/360*df.loc[i,'Mid']\n",
    "        df.loc[i,'Coupon'] = df.loc[i,'Coupon']+100\n",
    "        rate=fsolve(f,df.loc[i,'Mid']/100)\n",
    "        current_index = i"
   ]
  },
  {
   "cell_type": "markdown",
   "metadata": {},
   "source": [
    "### Iteratively repeat the process to solve for the 3Y-50Y spot rates and discount factors"
   ]
  },
  {
   "cell_type": "code",
   "execution_count": 43,
   "metadata": {},
   "outputs": [
    {
     "data": {
      "text/html": [
       "<div>\n",
       "<style scoped>\n",
       "    .dataframe tbody tr th:only-of-type {\n",
       "        vertical-align: middle;\n",
       "    }\n",
       "\n",
       "    .dataframe tbody tr th {\n",
       "        vertical-align: top;\n",
       "    }\n",
       "\n",
       "    .dataframe thead th {\n",
       "        text-align: right;\n",
       "    }\n",
       "</style>\n",
       "<table border=\"1\" class=\"dataframe\">\n",
       "  <thead>\n",
       "    <tr style=\"text-align: right;\">\n",
       "      <th></th>\n",
       "      <th>Maturity Date</th>\n",
       "      <th>Spot</th>\n",
       "      <th>Discount</th>\n",
       "    </tr>\n",
       "  </thead>\n",
       "  <tbody>\n",
       "    <tr>\n",
       "      <th>1</th>\n",
       "      <td>April 16th, 2024</td>\n",
       "      <td>0.056157</td>\n",
       "      <td>0.985946</td>\n",
       "    </tr>\n",
       "    <tr>\n",
       "      <th>2</th>\n",
       "      <td>July 16th, 2024</td>\n",
       "      <td>0.055027</td>\n",
       "      <td>0.972930</td>\n",
       "    </tr>\n",
       "    <tr>\n",
       "      <th>3</th>\n",
       "      <td>January 16th, 2025</td>\n",
       "      <td>0.049490</td>\n",
       "      <td>0.952030</td>\n",
       "    </tr>\n",
       "    <tr>\n",
       "      <th>5</th>\n",
       "      <td>January 16th, 2026</td>\n",
       "      <td>0.042594</td>\n",
       "      <td>0.918946</td>\n",
       "    </tr>\n",
       "    <tr>\n",
       "      <th>7</th>\n",
       "      <td>January 19th, 2027</td>\n",
       "      <td>0.039889</td>\n",
       "      <td>0.887775</td>\n",
       "    </tr>\n",
       "    <tr>\n",
       "      <th>9</th>\n",
       "      <td>January 18th, 2028</td>\n",
       "      <td>0.038719</td>\n",
       "      <td>0.857425</td>\n",
       "    </tr>\n",
       "    <tr>\n",
       "      <th>11</th>\n",
       "      <td>January 16th, 2029</td>\n",
       "      <td>0.038213</td>\n",
       "      <td>0.827394</td>\n",
       "    </tr>\n",
       "    <tr>\n",
       "      <th>13</th>\n",
       "      <td>January 16th, 2030</td>\n",
       "      <td>0.038027</td>\n",
       "      <td>0.797533</td>\n",
       "    </tr>\n",
       "    <tr>\n",
       "      <th>15</th>\n",
       "      <td>January 16th, 2031</td>\n",
       "      <td>0.037985</td>\n",
       "      <td>0.768274</td>\n",
       "    </tr>\n",
       "    <tr>\n",
       "      <th>17</th>\n",
       "      <td>January 16th, 2032</td>\n",
       "      <td>0.038027</td>\n",
       "      <td>0.739659</td>\n",
       "    </tr>\n",
       "    <tr>\n",
       "      <th>19</th>\n",
       "      <td>January 18th, 2033</td>\n",
       "      <td>0.038148</td>\n",
       "      <td>0.711402</td>\n",
       "    </tr>\n",
       "    <tr>\n",
       "      <th>21</th>\n",
       "      <td>January 17th, 2034</td>\n",
       "      <td>0.038292</td>\n",
       "      <td>0.684124</td>\n",
       "    </tr>\n",
       "    <tr>\n",
       "      <th>25</th>\n",
       "      <td>January 16th, 2036</td>\n",
       "      <td>0.038655</td>\n",
       "      <td>0.631505</td>\n",
       "    </tr>\n",
       "    <tr>\n",
       "      <th>31</th>\n",
       "      <td>January 18th, 2039</td>\n",
       "      <td>0.039095</td>\n",
       "      <td>0.559230</td>\n",
       "    </tr>\n",
       "    <tr>\n",
       "      <th>41</th>\n",
       "      <td>January 19th, 2044</td>\n",
       "      <td>0.039034</td>\n",
       "      <td>0.461307</td>\n",
       "    </tr>\n",
       "    <tr>\n",
       "      <th>51</th>\n",
       "      <td>January 19th, 2049</td>\n",
       "      <td>0.037954</td>\n",
       "      <td>0.390436</td>\n",
       "    </tr>\n",
       "    <tr>\n",
       "      <th>61</th>\n",
       "      <td>January 16th, 2054</td>\n",
       "      <td>0.036719</td>\n",
       "      <td>0.335616</td>\n",
       "    </tr>\n",
       "    <tr>\n",
       "      <th>81</th>\n",
       "      <td>January 16th, 2064</td>\n",
       "      <td>0.033496</td>\n",
       "      <td>0.264763</td>\n",
       "    </tr>\n",
       "    <tr>\n",
       "      <th>101</th>\n",
       "      <td>January 16th, 2074</td>\n",
       "      <td>0.029874</td>\n",
       "      <td>0.227002</td>\n",
       "    </tr>\n",
       "  </tbody>\n",
       "</table>\n",
       "</div>"
      ],
      "text/plain": [
       "          Maturity Date      Spot  Discount\n",
       "1      April 16th, 2024  0.056157  0.985946\n",
       "2       July 16th, 2024  0.055027  0.972930\n",
       "3    January 16th, 2025  0.049490  0.952030\n",
       "5    January 16th, 2026  0.042594  0.918946\n",
       "7    January 19th, 2027  0.039889  0.887775\n",
       "9    January 18th, 2028  0.038719  0.857425\n",
       "11   January 16th, 2029  0.038213  0.827394\n",
       "13   January 16th, 2030  0.038027  0.797533\n",
       "15   January 16th, 2031  0.037985  0.768274\n",
       "17   January 16th, 2032  0.038027  0.739659\n",
       "19   January 18th, 2033  0.038148  0.711402\n",
       "21   January 17th, 2034  0.038292  0.684124\n",
       "25   January 16th, 2036  0.038655  0.631505\n",
       "31   January 18th, 2039  0.039095  0.559230\n",
       "41   January 19th, 2044  0.039034  0.461307\n",
       "51   January 19th, 2049  0.037954  0.390436\n",
       "61   January 16th, 2054  0.036719  0.335616\n",
       "81   January 16th, 2064  0.033496  0.264763\n",
       "101  January 16th, 2074  0.029874  0.227002"
      ]
     },
     "execution_count": 43,
     "metadata": {},
     "output_type": "execute_result"
    }
   ],
   "source": [
    "df_data = cleaned_df[['Maturity Date', 'Spot', 'Discount']]\n",
    "df_data"
   ]
  },
  {
   "cell_type": "code",
   "execution_count": 958,
   "metadata": {},
   "outputs": [],
   "source": [
    "df_data.to_excel('output_result.xlsx', index=False)"
   ]
  }
 ],
 "metadata": {
  "kernelspec": {
   "display_name": "Python 3",
   "language": "python",
   "name": "python3"
  },
  "language_info": {
   "codemirror_mode": {
    "name": "ipython",
    "version": 3
   },
   "file_extension": ".py",
   "mimetype": "text/x-python",
   "name": "python",
   "nbconvert_exporter": "python",
   "pygments_lexer": "ipython3",
   "version": "3.8.8"
  }
 },
 "nbformat": 4,
 "nbformat_minor": 2
}
