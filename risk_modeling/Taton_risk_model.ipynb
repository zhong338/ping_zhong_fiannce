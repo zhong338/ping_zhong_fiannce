{
 "cells": [
  {
   "cell_type": "code",
   "execution_count": 7,
   "id": "14d8f3d2",
   "metadata": {},
   "outputs": [],
   "source": [
    "#pip install scipy"
   ]
  },
  {
   "cell_type": "code",
   "execution_count": 8,
   "id": "bd13b187",
   "metadata": {},
   "outputs": [],
   "source": [
    "import numpy as np\n",
    "import pandas as pd\n",
    "import random \n",
    "from scipy.stats import gamma \n",
    "import matplotlib.pyplot as plt # do not use import matplotlib as plt\n",
    "%matplotlib inline"
   ]
  },
  {
   "cell_type": "code",
   "execution_count": 9,
   "id": "996c92af",
   "metadata": {},
   "outputs": [],
   "source": [
    "#community structure graphon\n",
    "def graphon(x,y):\n",
    "    upper = [0.75,1.0] # upper bounds for community intervals, assumed to be an increasing list of positive reals terminating with one\n",
    "    #print(upper)\n",
    "    len_upper = len(upper)\n",
    "    #print(len_upper)\n",
    "    g_in = 0.8 # partnership probability for members of the same community\n",
    "    g_out = 0.1 # partnership probability for members of different communities\n",
    "    #lower = [0.;upper[1:end-1]] # corresponding lower bounds for community intervals\n",
    "    lower = [0.0,upper[-1-1]] # corresponding lower bounds for community intervals\n",
    "    #print(lower)\n",
    "    for k in range(len_upper):\n",
    "        if x >= lower[k] and x < upper[k] and y >= lower[k] and y < upper[k]:\n",
    "           return g_in\n",
    "    return g_out"
   ]
  },
  {
   "cell_type": "code",
   "execution_count": 10,
   "id": "4b1937a5",
   "metadata": {},
   "outputs": [
    {
     "name": "stdout",
     "output_type": "stream",
     "text": [
      "0.8\n",
      "0.8\n",
      "0.1\n"
     ]
    }
   ],
   "source": [
    "# test\n",
    "print(graphon(0.1,0.2))\n",
    "print(graphon(0.1,0.1))\n",
    "print(graphon(0.1,0.9))"
   ]
  },
  {
   "cell_type": "markdown",
   "id": "e78dec99",
   "metadata": {},
   "source": [
    "Set up a new community structure graphon, no matter 2 agents are in the same community or different communities, the probability of trading is 0.8. "
   ]
  },
  {
   "cell_type": "code",
   "execution_count": 11,
   "id": "728633eb",
   "metadata": {},
   "outputs": [],
   "source": [
    "# new community structure graphon\n",
    "def graphon(x,y):\n",
    "    upper = [0.75,1.0] # upper bounds for community intervals, assumed to be an increasing list of positive reals terminating with one\n",
    "    #print(upper)\n",
    "    len_upper = len(upper)\n",
    "    #print(len_upper)\n",
    "    g_in = 0.8 # partnership probability for members of the same community\n",
    "    g_out = 0.1 # partnership probability for members of different communities\n",
    "    #lower = [0.;upper[1:end-1]] # corresponding lower bounds for community intervals\n",
    "    lower = [0.0,upper[-1-1]] # corresponding lower bounds for community intervals\n",
    "    #print(lower)\n",
    "    for k in range(len_upper):\n",
    "        if x >= lower[k] and x < upper[k] and y >= lower[k] and y < upper[k]:\n",
    "           return g_in\n",
    "    return g_out"
   ]
  },
  {
   "cell_type": "code",
   "execution_count": 12,
   "id": "a539de85",
   "metadata": {},
   "outputs": [
    {
     "name": "stdout",
     "output_type": "stream",
     "text": [
      "0.8\n",
      "0.8\n",
      "0.1\n"
     ]
    }
   ],
   "source": [
    "print(graphon(0.1,0.2))\n",
    "print(graphon(0.1,0.1))\n",
    "print(graphon(0.1,0.9))"
   ]
  },
  {
   "cell_type": "markdown",
   "id": "e50f6969",
   "metadata": {},
   "source": [
    "## set up"
   ]
  },
  {
   "cell_type": "code",
   "execution_count": 13,
   "id": "2cff201a",
   "metadata": {},
   "outputs": [
    {
     "data": {
      "text/plain": [
       "array([ 0,  1,  2,  3,  4,  5,  6,  7,  8,  9, 10, 11, 12, 13, 14, 15, 16,\n",
       "       17, 18, 19])"
      ]
     },
     "execution_count": 13,
     "metadata": {},
     "output_type": "execute_result"
    }
   ],
   "source": [
    "# identifiers for agents (graph vertices)\n",
    "agents =  np.arange(20)\n",
    "#agents = agents[1:]\n",
    "agents\n",
    "#len(agents) hnn"
   ]
  },
  {
   "cell_type": "code",
   "execution_count": 14,
   "id": "a6d2d2d3",
   "metadata": {},
   "outputs": [],
   "source": [
    "import csv"
   ]
  },
  {
   "cell_type": "code",
   "execution_count": 15,
   "id": "948a23e7",
   "metadata": {},
   "outputs": [],
   "source": [
    "#agents\n",
    "x = agents\n",
    "np.savetxt('agents.csv',x, delimiter= ',')"
   ]
  },
  {
   "cell_type": "code",
   "execution_count": 16,
   "id": "22cf6ed1",
   "metadata": {},
   "outputs": [
    {
     "data": {
      "text/html": [
       "<div>\n",
       "<style scoped>\n",
       "    .dataframe tbody tr th:only-of-type {\n",
       "        vertical-align: middle;\n",
       "    }\n",
       "\n",
       "    .dataframe tbody tr th {\n",
       "        vertical-align: top;\n",
       "    }\n",
       "\n",
       "    .dataframe thead th {\n",
       "        text-align: right;\n",
       "    }\n",
       "</style>\n",
       "<table border=\"1\" class=\"dataframe\">\n",
       "  <thead>\n",
       "    <tr style=\"text-align: right;\">\n",
       "      <th></th>\n",
       "      <th>0.000000000000000000e+00</th>\n",
       "    </tr>\n",
       "  </thead>\n",
       "  <tbody>\n",
       "    <tr>\n",
       "      <th>0</th>\n",
       "      <td>1.0</td>\n",
       "    </tr>\n",
       "    <tr>\n",
       "      <th>1</th>\n",
       "      <td>2.0</td>\n",
       "    </tr>\n",
       "    <tr>\n",
       "      <th>2</th>\n",
       "      <td>3.0</td>\n",
       "    </tr>\n",
       "    <tr>\n",
       "      <th>3</th>\n",
       "      <td>4.0</td>\n",
       "    </tr>\n",
       "    <tr>\n",
       "      <th>4</th>\n",
       "      <td>5.0</td>\n",
       "    </tr>\n",
       "    <tr>\n",
       "      <th>5</th>\n",
       "      <td>6.0</td>\n",
       "    </tr>\n",
       "    <tr>\n",
       "      <th>6</th>\n",
       "      <td>7.0</td>\n",
       "    </tr>\n",
       "    <tr>\n",
       "      <th>7</th>\n",
       "      <td>8.0</td>\n",
       "    </tr>\n",
       "    <tr>\n",
       "      <th>8</th>\n",
       "      <td>9.0</td>\n",
       "    </tr>\n",
       "    <tr>\n",
       "      <th>9</th>\n",
       "      <td>10.0</td>\n",
       "    </tr>\n",
       "    <tr>\n",
       "      <th>10</th>\n",
       "      <td>11.0</td>\n",
       "    </tr>\n",
       "    <tr>\n",
       "      <th>11</th>\n",
       "      <td>12.0</td>\n",
       "    </tr>\n",
       "    <tr>\n",
       "      <th>12</th>\n",
       "      <td>13.0</td>\n",
       "    </tr>\n",
       "    <tr>\n",
       "      <th>13</th>\n",
       "      <td>14.0</td>\n",
       "    </tr>\n",
       "    <tr>\n",
       "      <th>14</th>\n",
       "      <td>15.0</td>\n",
       "    </tr>\n",
       "    <tr>\n",
       "      <th>15</th>\n",
       "      <td>16.0</td>\n",
       "    </tr>\n",
       "    <tr>\n",
       "      <th>16</th>\n",
       "      <td>17.0</td>\n",
       "    </tr>\n",
       "    <tr>\n",
       "      <th>17</th>\n",
       "      <td>18.0</td>\n",
       "    </tr>\n",
       "    <tr>\n",
       "      <th>18</th>\n",
       "      <td>19.0</td>\n",
       "    </tr>\n",
       "  </tbody>\n",
       "</table>\n",
       "</div>"
      ],
      "text/plain": [
       "    0.000000000000000000e+00\n",
       "0                        1.0\n",
       "1                        2.0\n",
       "2                        3.0\n",
       "3                        4.0\n",
       "4                        5.0\n",
       "5                        6.0\n",
       "6                        7.0\n",
       "7                        8.0\n",
       "8                        9.0\n",
       "9                       10.0\n",
       "10                      11.0\n",
       "11                      12.0\n",
       "12                      13.0\n",
       "13                      14.0\n",
       "14                      15.0\n",
       "15                      16.0\n",
       "16                      17.0\n",
       "17                      18.0\n",
       "18                      19.0"
      ]
     },
     "execution_count": 16,
     "metadata": {},
     "output_type": "execute_result"
    }
   ],
   "source": [
    "x = pd.read_csv('agents.csv')\n",
    "x"
   ]
  },
  {
   "cell_type": "code",
   "execution_count": 17,
   "id": "977c2f47",
   "metadata": {},
   "outputs": [
    {
     "data": {
      "text/plain": [
       "20"
      ]
     },
     "execution_count": 17,
     "metadata": {},
     "output_type": "execute_result"
    }
   ],
   "source": [
    "len_agents = len(agents)\n",
    "len_agents"
   ]
  },
  {
   "cell_type": "code",
   "execution_count": 18,
   "id": "d3d07f49",
   "metadata": {},
   "outputs": [
    {
     "data": {
      "text/plain": [
       "[(0, 1),\n",
       " (0, 2),\n",
       " (0, 3),\n",
       " (0, 4),\n",
       " (0, 5),\n",
       " (0, 6),\n",
       " (0, 7),\n",
       " (0, 8),\n",
       " (0, 9),\n",
       " (0, 10),\n",
       " (0, 11),\n",
       " (0, 12),\n",
       " (0, 13),\n",
       " (0, 14),\n",
       " (0, 15),\n",
       " (0, 16),\n",
       " (0, 17),\n",
       " (0, 18),\n",
       " (0, 19),\n",
       " (1, 2),\n",
       " (1, 3),\n",
       " (1, 4),\n",
       " (1, 5),\n",
       " (1, 6),\n",
       " (1, 7),\n",
       " (1, 8),\n",
       " (1, 9),\n",
       " (1, 10),\n",
       " (1, 11),\n",
       " (1, 12),\n",
       " (1, 13),\n",
       " (1, 14),\n",
       " (1, 15),\n",
       " (1, 16),\n",
       " (1, 17),\n",
       " (1, 18),\n",
       " (1, 19),\n",
       " (2, 3),\n",
       " (2, 4),\n",
       " (2, 5),\n",
       " (2, 6),\n",
       " (2, 7),\n",
       " (2, 8),\n",
       " (2, 9),\n",
       " (2, 10),\n",
       " (2, 11),\n",
       " (2, 12),\n",
       " (2, 13),\n",
       " (2, 14),\n",
       " (2, 15),\n",
       " (2, 16),\n",
       " (2, 17),\n",
       " (2, 18),\n",
       " (2, 19),\n",
       " (3, 4),\n",
       " (3, 5),\n",
       " (3, 6),\n",
       " (3, 7),\n",
       " (3, 8),\n",
       " (3, 9),\n",
       " (3, 10),\n",
       " (3, 11),\n",
       " (3, 12),\n",
       " (3, 13),\n",
       " (3, 14),\n",
       " (3, 15),\n",
       " (3, 16),\n",
       " (3, 17),\n",
       " (3, 18),\n",
       " (3, 19),\n",
       " (4, 5),\n",
       " (4, 6),\n",
       " (4, 7),\n",
       " (4, 8),\n",
       " (4, 9),\n",
       " (4, 10),\n",
       " (4, 11),\n",
       " (4, 12),\n",
       " (4, 13),\n",
       " (4, 14),\n",
       " (4, 15),\n",
       " (4, 16),\n",
       " (4, 17),\n",
       " (4, 18),\n",
       " (4, 19),\n",
       " (5, 6),\n",
       " (5, 7),\n",
       " (5, 8),\n",
       " (5, 9),\n",
       " (5, 10),\n",
       " (5, 11),\n",
       " (5, 12),\n",
       " (5, 13),\n",
       " (5, 14),\n",
       " (5, 15),\n",
       " (5, 16),\n",
       " (5, 17),\n",
       " (5, 18),\n",
       " (5, 19),\n",
       " (6, 7),\n",
       " (6, 8),\n",
       " (6, 9),\n",
       " (6, 10),\n",
       " (6, 11),\n",
       " (6, 12),\n",
       " (6, 13),\n",
       " (6, 14),\n",
       " (6, 15),\n",
       " (6, 16),\n",
       " (6, 17),\n",
       " (6, 18),\n",
       " (6, 19),\n",
       " (7, 8),\n",
       " (7, 9),\n",
       " (7, 10),\n",
       " (7, 11),\n",
       " (7, 12),\n",
       " (7, 13),\n",
       " (7, 14),\n",
       " (7, 15),\n",
       " (7, 16),\n",
       " (7, 17),\n",
       " (7, 18),\n",
       " (7, 19),\n",
       " (8, 9),\n",
       " (8, 10),\n",
       " (8, 11),\n",
       " (8, 12),\n",
       " (8, 13),\n",
       " (8, 14),\n",
       " (8, 15),\n",
       " (8, 16),\n",
       " (8, 17),\n",
       " (8, 18),\n",
       " (8, 19),\n",
       " (9, 10),\n",
       " (9, 11),\n",
       " (9, 12),\n",
       " (9, 13),\n",
       " (9, 14),\n",
       " (9, 15),\n",
       " (9, 16),\n",
       " (9, 17),\n",
       " (9, 18),\n",
       " (9, 19),\n",
       " (10, 11),\n",
       " (10, 12),\n",
       " (10, 13),\n",
       " (10, 14),\n",
       " (10, 15),\n",
       " (10, 16),\n",
       " (10, 17),\n",
       " (10, 18),\n",
       " (10, 19),\n",
       " (11, 12),\n",
       " (11, 13),\n",
       " (11, 14),\n",
       " (11, 15),\n",
       " (11, 16),\n",
       " (11, 17),\n",
       " (11, 18),\n",
       " (11, 19),\n",
       " (12, 13),\n",
       " (12, 14),\n",
       " (12, 15),\n",
       " (12, 16),\n",
       " (12, 17),\n",
       " (12, 18),\n",
       " (12, 19),\n",
       " (13, 14),\n",
       " (13, 15),\n",
       " (13, 16),\n",
       " (13, 17),\n",
       " (13, 18),\n",
       " (13, 19),\n",
       " (14, 15),\n",
       " (14, 16),\n",
       " (14, 17),\n",
       " (14, 18),\n",
       " (14, 19),\n",
       " (15, 16),\n",
       " (15, 17),\n",
       " (15, 18),\n",
       " (15, 19),\n",
       " (16, 17),\n",
       " (16, 18),\n",
       " (16, 19),\n",
       " (17, 18),\n",
       " (17, 19),\n",
       " (18, 19)]"
      ]
     },
     "execution_count": 18,
     "metadata": {},
     "output_type": "execute_result"
    }
   ],
   "source": [
    "#all tuples of agent indexes\n",
    "pairs = []\n",
    "for i in range(len_agents):\n",
    "    for j in range(i+1,len_agents):\n",
    "        pairs.append((i,j))\n",
    "        \n",
    "pairs"
   ]
  },
  {
   "cell_type": "code",
   "execution_count": 19,
   "id": "8ae286c6",
   "metadata": {},
   "outputs": [
    {
     "data": {
      "text/plain": [
       "190"
      ]
     },
     "execution_count": 19,
     "metadata": {},
     "output_type": "execute_result"
    }
   ],
   "source": [
    "len_pairs = len(pairs)\n",
    "len_pairs"
   ]
  },
  {
   "cell_type": "code",
   "execution_count": 20,
   "id": "6aabe800",
   "metadata": {},
   "outputs": [
    {
     "data": {
      "text/plain": [
       "(0, 1)"
      ]
     },
     "execution_count": 20,
     "metadata": {},
     "output_type": "execute_result"
    }
   ],
   "source": [
    "pairs[0] # the first one"
   ]
  },
  {
   "cell_type": "code",
   "execution_count": 21,
   "id": "27707f32",
   "metadata": {},
   "outputs": [
    {
     "data": {
      "text/plain": [
       "(18, 19)"
      ]
     },
     "execution_count": 21,
     "metadata": {},
     "output_type": "execute_result"
    }
   ],
   "source": [
    "pairs[len_pairs-1] # the last one"
   ]
  },
  {
   "cell_type": "code",
   "execution_count": 22,
   "id": "d947f11d",
   "metadata": {},
   "outputs": [
    {
     "name": "stdout",
     "output_type": "stream",
     "text": [
      "20\n"
     ]
    },
    {
     "data": {
      "text/plain": [
       "[0.25,\n",
       " 0.25,\n",
       " 0.25,\n",
       " 0.25,\n",
       " 0.25,\n",
       " 0.25,\n",
       " 0.25,\n",
       " 0.25,\n",
       " 0.25,\n",
       " 0.25,\n",
       " 0.75,\n",
       " 0.75,\n",
       " 0.75,\n",
       " 0.75,\n",
       " 0.75,\n",
       " 0.75,\n",
       " 0.75,\n",
       " 0.75,\n",
       " 0.75,\n",
       " 0.75]"
      ]
     },
     "execution_count": 22,
     "metadata": {},
     "output_type": "execute_result"
    }
   ],
   "source": [
    "# \"addresses of agents\"\n",
    "# generate 20 points from [0,1] \n",
    "location = []\n",
    "n = 0.25\n",
    "for i in range(10):\n",
    "    location.append(n)\n",
    "for i in range(10,20):\n",
    "    location.append(0.75)\n",
    "\n",
    "print(len(location))\n",
    "location\n"
   ]
  },
  {
   "cell_type": "code",
   "execution_count": 23,
   "id": "ebf8b2f9",
   "metadata": {},
   "outputs": [
    {
     "data": {
      "text/plain": [
       "20"
      ]
     },
     "execution_count": 23,
     "metadata": {},
     "output_type": "execute_result"
    }
   ],
   "source": [
    "len_location = len(location)\n",
    "len_location"
   ]
  },
  {
   "cell_type": "code",
   "execution_count": 24,
   "id": "6648981a",
   "metadata": {},
   "outputs": [
    {
     "data": {
      "text/plain": [
       "array([0., 0., 1., 0., 0., 0., 0., 0., 0., 1., 1., 1., 1., 1., 1., 1., 1.,\n",
       "       1., 1., 0., 0., 0., 0., 0., 0., 0., 1., 1., 0., 1., 1., 1., 1., 1.,\n",
       "       1., 1., 1., 0., 0., 1., 0., 0., 0., 0., 1., 1., 1., 1., 1., 1., 0.,\n",
       "       1., 1., 1., 0., 0., 1., 0., 1., 0., 1., 1., 1., 0., 1., 1., 1., 1.,\n",
       "       0., 1., 0., 1., 0., 0., 0., 1., 0., 1., 1., 1., 1., 1., 1., 1., 1.,\n",
       "       1., 1., 0., 0., 1., 1., 1., 1., 1., 1., 1., 1., 1., 1., 0., 0., 0.,\n",
       "       1., 1., 1., 1., 1., 1., 1., 1., 0., 0., 0., 0., 1., 1., 0., 1., 1.,\n",
       "       1., 1., 0., 0., 0., 0., 1., 1., 1., 0., 0., 1., 1., 1., 1., 1., 1.,\n",
       "       1., 1., 1., 1., 1., 1., 1., 1., 1., 0., 0., 0., 0., 0., 0., 0., 0.,\n",
       "       0., 1., 0., 1., 0., 1., 0., 0., 0., 0., 0., 0., 0., 1., 0., 0., 0.,\n",
       "       1., 0., 0., 0., 0., 0., 0., 1., 1., 1., 0., 0., 0., 1., 1., 0., 1.,\n",
       "       0., 0., 0.])"
      ]
     },
     "execution_count": 24,
     "metadata": {},
     "output_type": "execute_result"
    }
   ],
   "source": [
    "# trading partners (graph edges) as defined by the graphon\n",
    "partnersQ = np.zeros(len_pairs)\n",
    "k=0\n",
    "for pair in pairs:\n",
    "    #print(pair[0],pair[1])\n",
    "    random_value = np.random.uniform(low=0.0, high=1.0) # uniform random variates in the interval [0,1)\n",
    "    graphon_output = graphon(location[pair[0]],location[pair[1]])\n",
    "    if graphon_output < random_value:\n",
    "        partnersQ[k] = 1\n",
    "        \n",
    "    #print(location[pair[0]],location[pair[1]], random_value, graphon_output, partnersQ[k])\n",
    "    k=k+1\n",
    "partnersQ"
   ]
  },
  {
   "cell_type": "code",
   "execution_count": 25,
   "id": "47973ef7",
   "metadata": {},
   "outputs": [
    {
     "data": {
      "text/plain": [
       "array([1., 1., 0., 0., 1., 0., 0., 1., 0., 1., 1., 1., 0., 1., 1., 1., 1.,\n",
       "       1., 1., 0., 0., 0., 0., 0., 0., 0., 1., 1., 1., 1., 1., 1., 0., 1.,\n",
       "       1., 1., 1., 0., 0., 0., 0., 0., 1., 0., 1., 1., 1., 1., 1., 0., 1.,\n",
       "       1., 1., 1., 0., 1., 0., 0., 0., 0., 1., 1., 1., 1., 1., 1., 1., 1.,\n",
       "       1., 1., 1., 0., 0., 0., 1., 0., 1., 1., 1., 0., 1., 1., 1., 1., 1.,\n",
       "       0., 0., 0., 1., 1., 1., 1., 1., 0., 1., 1., 1., 0., 1., 1., 0., 1.,\n",
       "       0., 1., 1., 1., 1., 1., 1., 1., 0., 0., 1., 1., 1., 1., 1., 1., 1.,\n",
       "       1., 1., 1., 0., 1., 0., 1., 1., 1., 1., 1., 1., 1., 1., 0., 0., 1.,\n",
       "       0., 1., 1., 1., 1., 1., 1., 1., 1., 0., 0., 0., 1., 0., 0., 0., 0.,\n",
       "       0., 0., 0., 0., 0., 0., 0., 0., 0., 0., 1., 0., 0., 0., 1., 0., 0.,\n",
       "       0., 0., 0., 1., 0., 1., 0., 0., 0., 0., 0., 0., 0., 1., 0., 0., 0.,\n",
       "       0., 1., 1.])"
      ]
     },
     "execution_count": 25,
     "metadata": {},
     "output_type": "execute_result"
    }
   ],
   "source": [
    "# trading partners (graph edges) as defined by the graphon\n",
    "partnersQ = np.zeros(len_pairs)\n",
    "k=0\n",
    "for pair in pairs:\n",
    "    #print(pair[0],pair[1])\n",
    "    random_value = np.random.uniform(low=0.0, high=1.0) # uniform random variates in the interval [0,1)\n",
    "    graphon_output = graphon(location[pair[0]],location[pair[1]])\n",
    "    if graphon_output < random_value:\n",
    "        partnersQ[k] = 1\n",
    "        \n",
    "    #print(location[pair[0]],location[pair[1]], random_value, graphon_output, partnersQ[k])\n",
    "    k=k+1\n",
    "partnersQ"
   ]
  },
  {
   "cell_type": "code",
   "execution_count": 26,
   "id": "2572e148",
   "metadata": {},
   "outputs": [
    {
     "data": {
      "text/plain": [
       "array([0., 0., 0., 0., 0., 0., 0., 0., 0., 0., 0., 0., 0., 0., 0., 0., 0.,\n",
       "       0., 0., 0., 0., 0., 0., 0., 0., 0., 0., 0., 0., 0., 0., 0., 0., 0.,\n",
       "       0., 0., 0., 0., 0., 0., 0., 0., 0., 0., 0., 0., 0., 0., 0., 0., 0.,\n",
       "       0., 0., 0., 0., 0., 0., 0., 0., 0., 0., 0., 0., 0., 0., 0., 0., 0.,\n",
       "       0., 0., 0., 0., 0., 0., 0., 0., 0., 0., 0., 0., 0., 0., 0., 0., 0.,\n",
       "       0., 0., 0., 0., 0., 0., 0., 0., 0., 0., 0., 0., 0., 0., 0., 0., 0.,\n",
       "       0., 0., 0., 0., 0., 0., 0., 0., 0., 0., 0., 0., 0., 0., 0., 0., 0.,\n",
       "       0., 0., 0., 0., 0., 0., 0., 0., 0., 0., 0., 0., 0., 0., 0., 0., 0.,\n",
       "       0., 0., 0., 0., 0., 0., 0., 0., 0., 0., 0., 0., 0., 0., 0., 0., 0.,\n",
       "       0., 0., 0., 0., 0., 0., 0., 0., 0., 0., 0., 0., 0., 0., 0., 0., 0.,\n",
       "       0., 0., 0., 0., 0., 0., 0., 0., 0., 0., 0., 0., 0., 0., 0., 0., 0.,\n",
       "       0., 0., 0.])"
      ]
     },
     "execution_count": 26,
     "metadata": {},
     "output_type": "execute_result"
    }
   ],
   "source": [
    "partnersQ1 = np.zeros(len_pairs)\n",
    "partnersQ1"
   ]
  },
  {
   "cell_type": "code",
   "execution_count": 27,
   "id": "8dbdffd0",
   "metadata": {},
   "outputs": [
    {
     "data": {
      "text/plain": [
       "190"
      ]
     },
     "execution_count": 27,
     "metadata": {},
     "output_type": "execute_result"
    }
   ],
   "source": [
    "len_partnersQ = len_pairs\n",
    "len_partnersQ"
   ]
  },
  {
   "cell_type": "markdown",
   "id": "4d354112",
   "metadata": {},
   "source": [
    "We have 190 trading partners intotal. "
   ]
  },
  {
   "cell_type": "code",
   "execution_count": 28,
   "id": "2915f27c",
   "metadata": {},
   "outputs": [
    {
     "data": {
      "text/plain": [
       "[(0, 1),\n",
       " (0, 2),\n",
       " (0, 5),\n",
       " (0, 8),\n",
       " (0, 10),\n",
       " (0, 11),\n",
       " (0, 12),\n",
       " (0, 14),\n",
       " (0, 15),\n",
       " (0, 16),\n",
       " (0, 17),\n",
       " (0, 18),\n",
       " (0, 19),\n",
       " (1, 9),\n",
       " (1, 10),\n",
       " (1, 11),\n",
       " (1, 12),\n",
       " (1, 13),\n",
       " (1, 14),\n",
       " (1, 16),\n",
       " (1, 17),\n",
       " (1, 18),\n",
       " (1, 19),\n",
       " (2, 8),\n",
       " (2, 10),\n",
       " (2, 11),\n",
       " (2, 12),\n",
       " (2, 13),\n",
       " (2, 14),\n",
       " (2, 16),\n",
       " (2, 17),\n",
       " (2, 18),\n",
       " (2, 19),\n",
       " (3, 5),\n",
       " (3, 10),\n",
       " (3, 11),\n",
       " (3, 12),\n",
       " (3, 13),\n",
       " (3, 14),\n",
       " (3, 15),\n",
       " (3, 16),\n",
       " (3, 17),\n",
       " (3, 18),\n",
       " (3, 19),\n",
       " (4, 5),\n",
       " (4, 9),\n",
       " (4, 11),\n",
       " (4, 12),\n",
       " (4, 13),\n",
       " (4, 15),\n",
       " (4, 16),\n",
       " (4, 17),\n",
       " (4, 18),\n",
       " (4, 19),\n",
       " (5, 9),\n",
       " (5, 10),\n",
       " (5, 11),\n",
       " (5, 12),\n",
       " (5, 13),\n",
       " (5, 15),\n",
       " (5, 16),\n",
       " (5, 17),\n",
       " (5, 19),\n",
       " (6, 7),\n",
       " (6, 9),\n",
       " (6, 11),\n",
       " (6, 12),\n",
       " (6, 13),\n",
       " (6, 14),\n",
       " (6, 15),\n",
       " (6, 16),\n",
       " (6, 17),\n",
       " (7, 8),\n",
       " (7, 9),\n",
       " (7, 10),\n",
       " (7, 11),\n",
       " (7, 12),\n",
       " (7, 13),\n",
       " (7, 14),\n",
       " (7, 15),\n",
       " (7, 16),\n",
       " (7, 17),\n",
       " (7, 19),\n",
       " (8, 10),\n",
       " (8, 11),\n",
       " (8, 12),\n",
       " (8, 13),\n",
       " (8, 14),\n",
       " (8, 15),\n",
       " (8, 16),\n",
       " (8, 17),\n",
       " (9, 10),\n",
       " (9, 12),\n",
       " (9, 13),\n",
       " (9, 14),\n",
       " (9, 15),\n",
       " (9, 16),\n",
       " (9, 17),\n",
       " (9, 18),\n",
       " (9, 19),\n",
       " (10, 14),\n",
       " (12, 14),\n",
       " (12, 18),\n",
       " (13, 18),\n",
       " (14, 15),\n",
       " (15, 19),\n",
       " (17, 19),\n",
       " (18, 19)]"
      ]
     },
     "execution_count": 28,
     "metadata": {},
     "output_type": "execute_result"
    }
   ],
   "source": [
    "trading_pairs = []\n",
    "for k in range(len_partnersQ):\n",
    "    if partnersQ[k] > 0.0:\n",
    "        trading_pairs.append(pairs[k])\n",
    "\n",
    "trading_pairs"
   ]
  },
  {
   "cell_type": "code",
   "execution_count": 29,
   "id": "b09860f6",
   "metadata": {},
   "outputs": [
    {
     "data": {
      "text/plain": [
       "108"
      ]
     },
     "execution_count": 29,
     "metadata": {},
     "output_type": "execute_result"
    }
   ],
   "source": [
    "len_trading_pairs = len(trading_pairs)\n",
    "len_trading_pairs"
   ]
  },
  {
   "cell_type": "code",
   "execution_count": 30,
   "id": "0fea94ab",
   "metadata": {},
   "outputs": [],
   "source": [
    "first_data = []\n",
    "for pair in trading_pairs:\n",
    "    first_data.append(pair[0])"
   ]
  },
  {
   "cell_type": "code",
   "execution_count": 31,
   "id": "0da49e39",
   "metadata": {},
   "outputs": [],
   "source": [
    "last_data = []\n",
    "for pair in trading_pairs:\n",
    "    last_data.append(pair[1])"
   ]
  },
  {
   "cell_type": "code",
   "execution_count": 32,
   "id": "9fa75e2d",
   "metadata": {},
   "outputs": [
    {
     "data": {
      "text/plain": [
       "[13, 11, 11, 11, 10, 12, 9, 12, 11, 14, 9, 9, 12, 10, 11, 10, 10, 11, 9, 11]"
      ]
     },
     "execution_count": 32,
     "metadata": {},
     "output_type": "execute_result"
    }
   ],
   "source": [
    "# method-1\n",
    "first_data = list(first_data) \n",
    "last_data = list(last_data)\n",
    "all_data = first_data + last_data\n",
    "\n",
    "# \"number of trading partners for each agent\"\n",
    "partners_count = [sum([i == agent for i in all_data]) for agent in agents]\n",
    "partners_count"
   ]
  },
  {
   "cell_type": "code",
   "execution_count": 33,
   "id": "1469a343",
   "metadata": {},
   "outputs": [
    {
     "data": {
      "text/plain": [
       "[13, 11, 11, 11, 10, 12, 9, 12, 11, 14, 9, 9, 12, 10, 11, 10, 10, 11, 9, 11]"
      ]
     },
     "execution_count": 33,
     "metadata": {},
     "output_type": "execute_result"
    }
   ],
   "source": [
    "# method-2\n",
    "partners_count = []\n",
    "for agent in agents:\n",
    "    count_times = 0\n",
    "    for pair in trading_pairs:\n",
    "        if pair[0] == agent or pair[1] == agent:\n",
    "            count_times = count_times + 1\n",
    "            \n",
    "    partners_count.append(count_times)\n",
    " \n",
    "partners_count  "
   ]
  },
  {
   "cell_type": "code",
   "execution_count": 34,
   "id": "b05767f8",
   "metadata": {},
   "outputs": [
    {
     "data": {
      "text/plain": [
       "False"
      ]
     },
     "execution_count": 34,
     "metadata": {},
     "output_type": "execute_result"
    }
   ],
   "source": [
    "# \"are there any isolated agents?\"\n",
    "defectiveQ = min(partners_count) == 0;\n",
    "defectiveQ"
   ]
  },
  {
   "cell_type": "markdown",
   "id": "686565c1",
   "metadata": {},
   "source": [
    "We don't have any isolated agents. "
   ]
  },
  {
   "cell_type": "code",
   "execution_count": 35,
   "id": "94d18886",
   "metadata": {},
   "outputs": [
    {
     "name": "stdout",
     "output_type": "stream",
     "text": [
      "0\n",
      "[[0, 0, 0, 0, 0, 0, 0, 0, 0, 0, 0, 0, 0, 0, 0, 0, 0, 0, 0, 0], [0, 0, 0, 0, 0, 0, 0, 0, 0, 0, 0, 0, 0, 0, 0, 0, 0, 0, 0, 0], [0, 0, 0, 0, 0, 0, 0, 0, 0, 0, 0, 0, 0, 0, 0, 0, 0, 0, 0, 0], [0, 0, 0, 0, 0, 0, 0, 0, 0, 0, 0, 0, 0, 0, 0, 0, 0, 0, 0, 0], [0, 0, 0, 0, 0, 0, 0, 0, 0, 0, 0, 0, 0, 0, 0, 0, 0, 0, 0, 0], [0, 0, 0, 0, 0, 0, 0, 0, 0, 0, 0, 0, 0, 0, 0, 0, 0, 0, 0, 0], [0, 0, 0, 0, 0, 0, 0, 0, 0, 0, 0, 0, 0, 0, 0, 0, 0, 0, 0, 0], [0, 0, 0, 0, 0, 0, 0, 0, 0, 0, 0, 0, 0, 0, 0, 0, 0, 0, 0, 0], [0, 0, 0, 0, 0, 0, 0, 0, 0, 0, 0, 0, 0, 0, 0, 0, 0, 0, 0, 0], [0, 0, 0, 0, 0, 0, 0, 0, 0, 0, 0, 0, 0, 0, 0, 0, 0, 0, 0, 0], [0, 0, 0, 0, 0, 0, 0, 0, 0, 0, 0, 0, 0, 0, 0, 0, 0, 0, 0, 0], [0, 0, 0, 0, 0, 0, 0, 0, 0, 0, 0, 0, 0, 0, 0, 0, 0, 0, 0, 0], [0, 0, 0, 0, 0, 0, 0, 0, 0, 0, 0, 0, 0, 0, 0, 0, 0, 0, 0, 0], [0, 0, 0, 0, 0, 0, 0, 0, 0, 0, 0, 0, 0, 0, 0, 0, 0, 0, 0, 0], [0, 0, 0, 0, 0, 0, 0, 0, 0, 0, 0, 0, 0, 0, 0, 0, 0, 0, 0, 0], [0, 0, 0, 0, 0, 0, 0, 0, 0, 0, 0, 0, 0, 0, 0, 0, 0, 0, 0, 0], [0, 0, 0, 0, 0, 0, 0, 0, 0, 0, 0, 0, 0, 0, 0, 0, 0, 0, 0, 0], [0, 0, 0, 0, 0, 0, 0, 0, 0, 0, 0, 0, 0, 0, 0, 0, 0, 0, 0, 0], [0, 0, 0, 0, 0, 0, 0, 0, 0, 0, 0, 0, 0, 0, 0, 0, 0, 0, 0, 0], [0, 0, 0, 0, 0, 0, 0, 0, 0, 0, 0, 0, 0, 0, 0, 0, 0, 0, 0, 0]]\n"
     ]
    }
   ],
   "source": [
    "#adjacency = [[0]*len_agents]*len_agents\n",
    "adjacency = [[0 for i in range(len_agents)] for j in range(len_agents)]\n",
    "print(adjacency[0][2])\n",
    "print(adjacency)"
   ]
  },
  {
   "cell_type": "code",
   "execution_count": 36,
   "id": "86975595",
   "metadata": {},
   "outputs": [
    {
     "name": "stdout",
     "output_type": "stream",
     "text": [
      "[[0, 1, 1, 0, 0, 1, 0, 0, 1, 0, 1, 1, 1, 0, 1, 1, 1, 1, 1, 1], [1, 0, 0, 0, 0, 0, 0, 0, 0, 1, 1, 1, 1, 1, 1, 0, 1, 1, 1, 1], [1, 0, 0, 0, 0, 0, 0, 0, 1, 0, 1, 1, 1, 1, 1, 0, 1, 1, 1, 1], [0, 0, 0, 0, 0, 1, 0, 0, 0, 0, 1, 1, 1, 1, 1, 1, 1, 1, 1, 1], [0, 0, 0, 0, 0, 1, 0, 0, 0, 1, 0, 1, 1, 1, 0, 1, 1, 1, 1, 1], [1, 0, 0, 1, 1, 0, 0, 0, 0, 1, 1, 1, 1, 1, 0, 1, 1, 1, 0, 1], [0, 0, 0, 0, 0, 0, 0, 1, 0, 1, 0, 1, 1, 1, 1, 1, 1, 1, 0, 0], [0, 0, 0, 0, 0, 0, 1, 0, 1, 1, 1, 1, 1, 1, 1, 1, 1, 1, 0, 1], [1, 0, 1, 0, 0, 0, 0, 1, 0, 0, 1, 1, 1, 1, 1, 1, 1, 1, 0, 0], [0, 1, 0, 0, 1, 1, 1, 1, 0, 0, 1, 0, 1, 1, 1, 1, 1, 1, 1, 1], [1, 1, 1, 1, 0, 1, 0, 1, 1, 1, 0, 0, 0, 0, 1, 0, 0, 0, 0, 0], [1, 1, 1, 1, 1, 1, 1, 1, 1, 0, 0, 0, 0, 0, 0, 0, 0, 0, 0, 0], [1, 1, 1, 1, 1, 1, 1, 1, 1, 1, 0, 0, 0, 0, 1, 0, 0, 0, 1, 0], [0, 1, 1, 1, 1, 1, 1, 1, 1, 1, 0, 0, 0, 0, 0, 0, 0, 0, 1, 0], [1, 1, 1, 1, 0, 0, 1, 1, 1, 1, 1, 0, 1, 0, 0, 1, 0, 0, 0, 0], [1, 0, 0, 1, 1, 1, 1, 1, 1, 1, 0, 0, 0, 0, 1, 0, 0, 0, 0, 1], [1, 1, 1, 1, 1, 1, 1, 1, 1, 1, 0, 0, 0, 0, 0, 0, 0, 0, 0, 0], [1, 1, 1, 1, 1, 1, 1, 1, 1, 1, 0, 0, 0, 0, 0, 0, 0, 0, 0, 1], [1, 1, 1, 1, 1, 0, 0, 0, 0, 1, 0, 0, 1, 1, 0, 0, 0, 0, 0, 1], [1, 1, 1, 1, 1, 1, 0, 1, 0, 1, 0, 0, 0, 0, 0, 1, 0, 1, 1, 0]]\n"
     ]
    }
   ],
   "source": [
    "for trading_pair in trading_pairs:\n",
    "    row = trading_pair[0]\n",
    "    col = trading_pair[1]\n",
    "    adjacency[row][col] = 1\n",
    "    adjacency[col][row] = 1\n",
    "\n",
    "print(adjacency)"
   ]
  },
  {
   "cell_type": "code",
   "execution_count": 37,
   "id": "57653e75",
   "metadata": {},
   "outputs": [
    {
     "name": "stdout",
     "output_type": "stream",
     "text": [
      "E-value: [10.94276278 -6.90083004  2.74225787 -3.1135671   2.32304802 -2.69044985\n",
      " -2.23191096 -2.02165285  1.5746396   1.30027442 -1.48704522  0.82063753\n",
      "  0.66061552  0.48443152  0.22564931 -0.9887904  -0.09689186 -0.19967217\n",
      " -0.60032188 -0.74318423]\n",
      "20\n"
     ]
    }
   ],
   "source": [
    "from numpy.linalg import eig\n",
    "\n",
    "w,v=eig(adjacency)\n",
    "print('E-value:', w)\n",
    "#print('E-vector', v)\n",
    "print(len(w))"
   ]
  },
  {
   "cell_type": "code",
   "execution_count": 38,
   "id": "b309f0a1",
   "metadata": {},
   "outputs": [
    {
     "data": {
      "text/plain": [
       "array([[[ 0.88110067,  0.35084217, -0.46116476,  0.83192907,\n",
       "         -0.68709543, -0.7596943 , -0.70465312, -2.03701671,\n",
       "         -0.1109915 ,  0.79790566, -0.60357146, -0.35134983,\n",
       "         -0.25468599,  0.77527252, -0.08867938, -1.81748116,\n",
       "         -0.95297014, -0.32785703,  0.75134821, -0.56620914],\n",
       "        [-1.08225341, -0.34587404,  1.51669855,  0.09968527,\n",
       "          1.5226851 ,  0.76873024, -0.88619563, -0.02532994,\n",
       "          0.99387748,  1.66238717, -0.69474654,  1.3365572 ,\n",
       "          0.58490959,  1.12407375, -1.55902039,  0.41732164,\n",
       "         -0.17789895,  0.60357271, -1.91651286, -0.21304088]],\n",
       "\n",
       "       [[ 0.26662525,  0.51419255, -0.17721681,  1.15213111,\n",
       "          0.18584232, -0.44304295,  0.60838388, -0.6463122 ,\n",
       "         -2.35889702, -2.08438892,  1.41865306,  0.15360759,\n",
       "         -1.13071873, -1.65626697,  1.58119237,  0.06200624,\n",
       "         -0.90324853, -0.25919221,  1.05772251,  0.77753181],\n",
       "        [ 0.25460425, -0.2324302 , -0.48222119,  0.43232975,\n",
       "          0.35626844,  0.24713531,  0.54909976, -0.85520404,\n",
       "         -1.25282519,  0.90124436, -2.06403366, -1.35000341,\n",
       "         -1.03697714,  0.64833456, -0.77509355,  1.56462753,\n",
       "          1.09701968,  0.15813372,  1.64845363, -0.34852904]],\n",
       "\n",
       "       [[-0.07429388,  1.17315896, -0.15121291,  1.33385688,\n",
       "         -0.79909115,  0.91549992, -0.74484857,  0.71220845,\n",
       "          0.247574  ,  0.07843097, -0.6261629 , -2.15748346,\n",
       "         -2.19577189, -1.76159476,  0.23108306,  1.1326447 ,\n",
       "         -0.63807302, -1.38224596, -0.04749799,  0.02314903],\n",
       "        [-0.44265743, -0.38557952, -0.51918782, -1.24558048,\n",
       "          1.59272891,  1.85276223, -0.94670751, -1.4646351 ,\n",
       "          0.05056688, -0.21022184,  1.43466115,  1.0127874 ,\n",
       "          0.59557195,  0.57295797,  0.09740874,  0.72441396,\n",
       "          0.45532535,  1.15813802, -0.63734624,  1.66353255]],\n",
       "\n",
       "       [[-0.41164803, -1.80175574,  0.22070473,  0.53952136,\n",
       "          1.42103407, -1.55800211,  0.44835321, -0.3891159 ,\n",
       "          0.67668168,  1.25130256,  0.56793895, -0.70599881,\n",
       "         -0.23269107,  0.13593777, -0.13758941,  1.7456436 ,\n",
       "          1.05517178, -0.25557566, -0.59572242,  0.45895141],\n",
       "        [ 0.04036411, -1.04408191,  1.29457413, -0.03351662,\n",
       "         -1.0249542 ,  0.59788766, -0.46685654, -2.2844082 ,\n",
       "          0.67609473, -0.02696984,  1.82189337,  1.77531126,\n",
       "          0.49536752, -0.78203645,  1.30427582,  1.03401224,\n",
       "         -1.62322272, -0.11025011, -0.01728475,  0.02173987]]])"
      ]
     },
     "execution_count": 38,
     "metadata": {},
     "output_type": "execute_result"
    }
   ],
   "source": [
    "# gamma_rv = sum(randn(2,length(location),4).^2,dims=3)\n",
    "r_v = np.random.standard_normal((4, 2,len(location))) # 4 matrix with 2X20\n",
    "r_v "
   ]
  },
  {
   "cell_type": "code",
   "execution_count": 39,
   "id": "00fd3354",
   "metadata": {},
   "outputs": [
    {
     "data": {
      "text/plain": [
       "array([[ 1.0224011 ,  5.01010991,  0.31565466,  4.08976953,  3.16452197,\n",
       "         4.03893314,  1.62248694,  5.22580861,  6.09590523,  6.55324013,\n",
       "         3.09150963,  5.3002112 ,  6.21894911,  6.46596295,  2.58036356,\n",
       "         7.63723813,  3.24453466,  2.15059365,  2.04044229,  1.13632078],\n",
       "       [ 1.43367063,  1.41243126,  4.47838993,  1.74944026,  6.03281363,\n",
       "         4.44221959,  2.20106336,  8.09569237,  3.0170245 ,  3.62069308,\n",
       "        10.12045576,  7.78636272,  2.01753575,  2.62374134,  4.74193845,\n",
       "         4.21617357,  4.07727339,  1.74274506,  6.7969299 ,  2.93467208]])"
      ]
     },
     "execution_count": 39,
     "metadata": {},
     "output_type": "execute_result"
    }
   ],
   "source": [
    "gamma_rv = np.sum(np.square(r_v), axis = 0)\n",
    "gamma_rv # two arrays of random variates from Gamma(2,2)"
   ]
  },
  {
   "cell_type": "code",
   "execution_count": 40,
   "id": "be943e70",
   "metadata": {},
   "outputs": [],
   "source": [
    "# allocation of complementary commodities, with initial endownments\n",
    "allocation_A = gamma_rv[0]/np.sum(gamma_rv[0])\n",
    "allocation_B = gamma_rv[1]/np.sum(gamma_rv[1])"
   ]
  },
  {
   "cell_type": "code",
   "execution_count": 41,
   "id": "9058a6a3",
   "metadata": {},
   "outputs": [
    {
     "data": {
      "text/plain": [
       "0.6699164071560053"
      ]
     },
     "execution_count": 41,
     "metadata": {},
     "output_type": "execute_result"
    }
   ],
   "source": [
    "sum(np.minimum(allocation_A,allocation_B)) # aggregate utility"
   ]
  },
  {
   "cell_type": "code",
   "execution_count": 42,
   "id": "23d045d3",
   "metadata": {},
   "outputs": [
    {
     "data": {
      "text/plain": [
       "(5, 13)"
      ]
     },
     "execution_count": 42,
     "metadata": {},
     "output_type": "execute_result"
    }
   ],
   "source": [
    "trading_pair = random.choice(trading_pairs) #random.choice(trading_pairs) #random.sample(trading_pairs, 1)\n",
    "trading_pair"
   ]
  },
  {
   "cell_type": "code",
   "execution_count": 43,
   "id": "ea3469f9",
   "metadata": {},
   "outputs": [],
   "source": [
    "#\"storage for simulation results\"\n",
    "buyer_A=[]\n",
    "buyer_B=[]\n",
    "\n",
    "quantity_A=[]\n",
    "quantity_B=[]\n",
    "agg_util=[]\n"
   ]
  },
  {
   "cell_type": "markdown",
   "id": "fd6deccd",
   "metadata": {},
   "source": [
    "### main loop"
   ]
  },
  {
   "cell_type": "code",
   "execution_count": 44,
   "id": "485fac3e",
   "metadata": {},
   "outputs": [
    {
     "name": "stdout",
     "output_type": "stream",
     "text": [
      "count = 373\n",
      "N = 9999\n"
     ]
    }
   ],
   "source": [
    "count = 0\n",
    "N=0\n",
    "for N in range(10000):\n",
    "#for N in range(10):\n",
    "    trading_pair = random.choice(trading_pairs) # randomly select a trading pair\n",
    "    if allocation_A[trading_pair[0]] > allocation_B[trading_pair[0]] and allocation_A[trading_pair[1]] < allocation_B[trading_pair[1]]:\n",
    "        Δ = 1\n",
    "        l = np.minimum(allocation_A[trading_pair[0]]-allocation_B[trading_pair[0]],allocation_B[trading_pair[1]]-allocation_A[trading_pair[1]])\n",
    "    elif allocation_A[trading_pair[0]] < allocation_B[trading_pair[0]] and allocation_A[trading_pair[1]] > allocation_B[trading_pair[1]]:\n",
    "        Δ = -1\n",
    "        l = np.maximum(allocation_A[trading_pair[0]]-allocation_B[trading_pair[0]],allocation_B[trading_pair[1]]-allocation_A[trading_pair[1]])\n",
    "    else:\n",
    "        Δ = 0\n",
    "        \n",
    "    #print(\"trading_pair=\",trading_pair)\n",
    "    #print(\"l=\",l)\n",
    "    #print(\"Δ=\",Δ)\n",
    "    \n",
    "    if Δ != 0:\n",
    "        u1,u2 = np.random.rand(2)\n",
    "        if u1 + u2 > 1:\n",
    "            u1 = 1 - u1\n",
    "            u2 = 1 - u2\n",
    "        \n",
    "        ΔA = l*u1\n",
    "        ΔB = l*u2\n",
    "        allocation_A[trading_pair[0]] -= ΔA\n",
    "        allocation_A[trading_pair[1]] += ΔA\n",
    "        allocation_B[trading_pair[0]] += ΔB\n",
    "        allocation_B[trading_pair[1]] -= ΔB\n",
    "        \n",
    "        if Δ > 0:\n",
    "            buyer_A.append(trading_pair[1])\n",
    "            buyer_B.append(trading_pair[0])\n",
    "        else:\n",
    "            buyer_A.append(trading_pair[0])\n",
    "            buyer_B.append(trading_pair[1])\n",
    "        \n",
    "        quantity_A.append(Δ*ΔA)\n",
    "        quantity_B.append(Δ*ΔB)\n",
    "        agg_util.append(sum(np.minimum(allocation_A,allocation_B)))  # aggregate utility\n",
    "        #df = df.append(buyer_A,buyer_B,quantity_A,quantity_B,agg_util)\n",
    "        \n",
    "        count += 1\n",
    "        #print(N)\n",
    "\n",
    "print(\"count =\",count)\n",
    "print(\"N =\",N)"
   ]
  },
  {
   "cell_type": "code",
   "execution_count": 45,
   "id": "5d6f379b",
   "metadata": {},
   "outputs": [
    {
     "name": "stdout",
     "output_type": "stream",
     "text": [
      "     buyer_A  buyer_B    quantity_A    quantity_B  agg_util\n",
      "0          7       12  1.495681e-02  6.828339e-03  0.691702\n",
      "1         14        3  1.217957e-02  5.679818e-03  0.709561\n",
      "2         18       12  1.491166e-02  1.468213e-02  0.739155\n",
      "3          6        9  3.054771e-03  7.482093e-04  0.742958\n",
      "4          0       15  1.450802e-03  9.746895e-04  0.745383\n",
      "..       ...      ...           ...           ...       ...\n",
      "368        0       15  2.184473e-16  1.741231e-15  0.959516\n",
      "369        0       15  8.187745e-17  1.962228e-17  0.959516\n",
      "370        0       15  1.243892e-18  4.361832e-18  0.959516\n",
      "371        0       15  6.429138e-19  6.782989e-19  0.959516\n",
      "372        0       15  6.254799e-18  1.358233e-18  0.959516\n",
      "\n",
      "[373 rows x 5 columns]\n"
     ]
    }
   ],
   "source": [
    "d = {\"buyer_A\": buyer_A,\"buyer_B\": buyer_B,\"quantity_A\":quantity_A,\"quantity_B\": quantity_B,\"agg_util\": agg_util}\n",
    "df = pd.DataFrame(data = d)\n",
    "print(df)"
   ]
  },
  {
   "cell_type": "code",
   "execution_count": 46,
   "id": "bc2464a3",
   "metadata": {},
   "outputs": [
    {
     "data": {
      "text/plain": [
       "(373, 5)"
      ]
     },
     "execution_count": 46,
     "metadata": {},
     "output_type": "execute_result"
    }
   ],
   "source": [
    "# Get the size of the dataframe\n",
    "df.shape"
   ]
  },
  {
   "cell_type": "markdown",
   "id": "6e0f5e44",
   "metadata": {},
   "source": [
    "### convergence study"
   ]
  },
  {
   "cell_type": "code",
   "execution_count": 47,
   "id": "596f1227",
   "metadata": {},
   "outputs": [
    {
     "data": {
      "text/html": [
       "<div>\n",
       "<style scoped>\n",
       "    .dataframe tbody tr th:only-of-type {\n",
       "        vertical-align: middle;\n",
       "    }\n",
       "\n",
       "    .dataframe tbody tr th {\n",
       "        vertical-align: top;\n",
       "    }\n",
       "\n",
       "    .dataframe thead th {\n",
       "        text-align: right;\n",
       "    }\n",
       "</style>\n",
       "<table border=\"1\" class=\"dataframe\">\n",
       "  <thead>\n",
       "    <tr style=\"text-align: right;\">\n",
       "      <th></th>\n",
       "      <th>buyer_A</th>\n",
       "      <th>buyer_B</th>\n",
       "      <th>quantity_A</th>\n",
       "      <th>quantity_B</th>\n",
       "      <th>agg_util</th>\n",
       "    </tr>\n",
       "  </thead>\n",
       "  <tbody>\n",
       "    <tr>\n",
       "      <th>323</th>\n",
       "      <td>18</td>\n",
       "      <td>9</td>\n",
       "      <td>1.164320e-07</td>\n",
       "      <td>6.201981e-07</td>\n",
       "      <td>0.959515</td>\n",
       "    </tr>\n",
       "    <tr>\n",
       "      <th>324</th>\n",
       "      <td>4</td>\n",
       "      <td>15</td>\n",
       "      <td>2.219925e-13</td>\n",
       "      <td>6.506988e-15</td>\n",
       "      <td>0.959515</td>\n",
       "    </tr>\n",
       "    <tr>\n",
       "      <th>325</th>\n",
       "      <td>4</td>\n",
       "      <td>13</td>\n",
       "      <td>9.910388e-15</td>\n",
       "      <td>5.431414e-14</td>\n",
       "      <td>0.959515</td>\n",
       "    </tr>\n",
       "    <tr>\n",
       "      <th>326</th>\n",
       "      <td>4</td>\n",
       "      <td>13</td>\n",
       "      <td>8.869917e-16</td>\n",
       "      <td>1.561595e-16</td>\n",
       "      <td>0.959515</td>\n",
       "    </tr>\n",
       "    <tr>\n",
       "      <th>327</th>\n",
       "      <td>10</td>\n",
       "      <td>9</td>\n",
       "      <td>6.580854e-08</td>\n",
       "      <td>2.555726e-07</td>\n",
       "      <td>0.959516</td>\n",
       "    </tr>\n",
       "    <tr>\n",
       "      <th>328</th>\n",
       "      <td>4</td>\n",
       "      <td>15</td>\n",
       "      <td>1.081311e-15</td>\n",
       "      <td>1.164595e-15</td>\n",
       "      <td>0.959516</td>\n",
       "    </tr>\n",
       "    <tr>\n",
       "      <th>329</th>\n",
       "      <td>18</td>\n",
       "      <td>13</td>\n",
       "      <td>2.713089e-11</td>\n",
       "      <td>1.116066e-11</td>\n",
       "      <td>0.959516</td>\n",
       "    </tr>\n",
       "    <tr>\n",
       "      <th>330</th>\n",
       "      <td>4</td>\n",
       "      <td>15</td>\n",
       "      <td>2.687573e-15</td>\n",
       "      <td>8.000658e-16</td>\n",
       "      <td>0.959516</td>\n",
       "    </tr>\n",
       "    <tr>\n",
       "      <th>331</th>\n",
       "      <td>4</td>\n",
       "      <td>13</td>\n",
       "      <td>7.214170e-17</td>\n",
       "      <td>4.945419e-16</td>\n",
       "      <td>0.959516</td>\n",
       "    </tr>\n",
       "    <tr>\n",
       "      <th>332</th>\n",
       "      <td>4</td>\n",
       "      <td>15</td>\n",
       "      <td>3.473384e-17</td>\n",
       "      <td>1.367059e-16</td>\n",
       "      <td>0.959516</td>\n",
       "    </tr>\n",
       "    <tr>\n",
       "      <th>333</th>\n",
       "      <td>18</td>\n",
       "      <td>9</td>\n",
       "      <td>6.294943e-09</td>\n",
       "      <td>4.013343e-08</td>\n",
       "      <td>0.959516</td>\n",
       "    </tr>\n",
       "    <tr>\n",
       "      <th>334</th>\n",
       "      <td>4</td>\n",
       "      <td>15</td>\n",
       "      <td>2.600621e-17</td>\n",
       "      <td>2.023462e-17</td>\n",
       "      <td>0.959516</td>\n",
       "    </tr>\n",
       "    <tr>\n",
       "      <th>335</th>\n",
       "      <td>2</td>\n",
       "      <td>13</td>\n",
       "      <td>1.905364e-11</td>\n",
       "      <td>7.008229e-12</td>\n",
       "      <td>0.959516</td>\n",
       "    </tr>\n",
       "    <tr>\n",
       "      <th>336</th>\n",
       "      <td>0</td>\n",
       "      <td>15</td>\n",
       "      <td>1.247865e-10</td>\n",
       "      <td>1.883865e-10</td>\n",
       "      <td>0.959516</td>\n",
       "    </tr>\n",
       "    <tr>\n",
       "      <th>337</th>\n",
       "      <td>18</td>\n",
       "      <td>13</td>\n",
       "      <td>3.992261e-13</td>\n",
       "      <td>1.280914e-12</td>\n",
       "      <td>0.959516</td>\n",
       "    </tr>\n",
       "    <tr>\n",
       "      <th>338</th>\n",
       "      <td>2</td>\n",
       "      <td>13</td>\n",
       "      <td>5.753690e-14</td>\n",
       "      <td>1.718183e-13</td>\n",
       "      <td>0.959516</td>\n",
       "    </tr>\n",
       "    <tr>\n",
       "      <th>339</th>\n",
       "      <td>10</td>\n",
       "      <td>9</td>\n",
       "      <td>8.774139e-08</td>\n",
       "      <td>5.317130e-08</td>\n",
       "      <td>0.959516</td>\n",
       "    </tr>\n",
       "    <tr>\n",
       "      <th>340</th>\n",
       "      <td>18</td>\n",
       "      <td>13</td>\n",
       "      <td>6.764411e-13</td>\n",
       "      <td>3.364830e-13</td>\n",
       "      <td>0.959516</td>\n",
       "    </tr>\n",
       "    <tr>\n",
       "      <th>341</th>\n",
       "      <td>0</td>\n",
       "      <td>15</td>\n",
       "      <td>1.115449e-11</td>\n",
       "      <td>1.082892e-12</td>\n",
       "      <td>0.959516</td>\n",
       "    </tr>\n",
       "    <tr>\n",
       "      <th>342</th>\n",
       "      <td>10</td>\n",
       "      <td>9</td>\n",
       "      <td>1.264652e-07</td>\n",
       "      <td>6.385408e-08</td>\n",
       "      <td>0.959516</td>\n",
       "    </tr>\n",
       "    <tr>\n",
       "      <th>343</th>\n",
       "      <td>18</td>\n",
       "      <td>9</td>\n",
       "      <td>5.421108e-09</td>\n",
       "      <td>1.331258e-08</td>\n",
       "      <td>0.959516</td>\n",
       "    </tr>\n",
       "    <tr>\n",
       "      <th>344</th>\n",
       "      <td>2</td>\n",
       "      <td>13</td>\n",
       "      <td>1.745853e-14</td>\n",
       "      <td>7.906808e-15</td>\n",
       "      <td>0.959516</td>\n",
       "    </tr>\n",
       "    <tr>\n",
       "      <th>345</th>\n",
       "      <td>18</td>\n",
       "      <td>13</td>\n",
       "      <td>1.179695e-15</td>\n",
       "      <td>4.271372e-15</td>\n",
       "      <td>0.959516</td>\n",
       "    </tr>\n",
       "    <tr>\n",
       "      <th>346</th>\n",
       "      <td>18</td>\n",
       "      <td>9</td>\n",
       "      <td>1.176555e-10</td>\n",
       "      <td>2.744228e-10</td>\n",
       "      <td>0.959516</td>\n",
       "    </tr>\n",
       "    <tr>\n",
       "      <th>347</th>\n",
       "      <td>10</td>\n",
       "      <td>9</td>\n",
       "      <td>2.139261e-11</td>\n",
       "      <td>2.672079e-11</td>\n",
       "      <td>0.959516</td>\n",
       "    </tr>\n",
       "    <tr>\n",
       "      <th>348</th>\n",
       "      <td>10</td>\n",
       "      <td>9</td>\n",
       "      <td>9.595830e-12</td>\n",
       "      <td>1.841938e-11</td>\n",
       "      <td>0.959516</td>\n",
       "    </tr>\n",
       "    <tr>\n",
       "      <th>349</th>\n",
       "      <td>2</td>\n",
       "      <td>13</td>\n",
       "      <td>1.926703e-16</td>\n",
       "      <td>2.076478e-16</td>\n",
       "      <td>0.959516</td>\n",
       "    </tr>\n",
       "    <tr>\n",
       "      <th>350</th>\n",
       "      <td>18</td>\n",
       "      <td>13</td>\n",
       "      <td>2.273654e-17</td>\n",
       "      <td>6.419944e-17</td>\n",
       "      <td>0.959516</td>\n",
       "    </tr>\n",
       "    <tr>\n",
       "      <th>351</th>\n",
       "      <td>0</td>\n",
       "      <td>15</td>\n",
       "      <td>1.488931e-12</td>\n",
       "      <td>1.765740e-12</td>\n",
       "      <td>0.959516</td>\n",
       "    </tr>\n",
       "    <tr>\n",
       "      <th>352</th>\n",
       "      <td>10</td>\n",
       "      <td>9</td>\n",
       "      <td>5.846854e-13</td>\n",
       "      <td>1.017796e-13</td>\n",
       "      <td>0.959516</td>\n",
       "    </tr>\n",
       "    <tr>\n",
       "      <th>353</th>\n",
       "      <td>18</td>\n",
       "      <td>9</td>\n",
       "      <td>5.143391e-15</td>\n",
       "      <td>1.080215e-13</td>\n",
       "      <td>0.959516</td>\n",
       "    </tr>\n",
       "    <tr>\n",
       "      <th>354</th>\n",
       "      <td>10</td>\n",
       "      <td>9</td>\n",
       "      <td>6.823370e-16</td>\n",
       "      <td>2.101782e-15</td>\n",
       "      <td>0.959516</td>\n",
       "    </tr>\n",
       "    <tr>\n",
       "      <th>355</th>\n",
       "      <td>2</td>\n",
       "      <td>13</td>\n",
       "      <td>1.862124e-17</td>\n",
       "      <td>1.363022e-16</td>\n",
       "      <td>0.959516</td>\n",
       "    </tr>\n",
       "    <tr>\n",
       "      <th>356</th>\n",
       "      <td>2</td>\n",
       "      <td>13</td>\n",
       "      <td>6.435930e-18</td>\n",
       "      <td>2.150675e-17</td>\n",
       "      <td>0.959516</td>\n",
       "    </tr>\n",
       "    <tr>\n",
       "      <th>357</th>\n",
       "      <td>18</td>\n",
       "      <td>9</td>\n",
       "      <td>5.795075e-16</td>\n",
       "      <td>3.118082e-16</td>\n",
       "      <td>0.959516</td>\n",
       "    </tr>\n",
       "    <tr>\n",
       "      <th>358</th>\n",
       "      <td>18</td>\n",
       "      <td>13</td>\n",
       "      <td>5.631581e-19</td>\n",
       "      <td>1.576714e-18</td>\n",
       "      <td>0.959516</td>\n",
       "    </tr>\n",
       "    <tr>\n",
       "      <th>359</th>\n",
       "      <td>0</td>\n",
       "      <td>15</td>\n",
       "      <td>4.310337e-12</td>\n",
       "      <td>8.875115e-13</td>\n",
       "      <td>0.959516</td>\n",
       "    </tr>\n",
       "    <tr>\n",
       "      <th>360</th>\n",
       "      <td>18</td>\n",
       "      <td>9</td>\n",
       "      <td>1.488902e-18</td>\n",
       "      <td>1.006562e-17</td>\n",
       "      <td>0.959516</td>\n",
       "    </tr>\n",
       "    <tr>\n",
       "      <th>361</th>\n",
       "      <td>18</td>\n",
       "      <td>9</td>\n",
       "      <td>3.546599e-18</td>\n",
       "      <td>3.772409e-18</td>\n",
       "      <td>0.959516</td>\n",
       "    </tr>\n",
       "    <tr>\n",
       "      <th>362</th>\n",
       "      <td>0</td>\n",
       "      <td>15</td>\n",
       "      <td>6.390441e-12</td>\n",
       "      <td>4.974961e-13</td>\n",
       "      <td>0.959516</td>\n",
       "    </tr>\n",
       "    <tr>\n",
       "      <th>363</th>\n",
       "      <td>0</td>\n",
       "      <td>15</td>\n",
       "      <td>9.561820e-14</td>\n",
       "      <td>3.061677e-13</td>\n",
       "      <td>0.959516</td>\n",
       "    </tr>\n",
       "    <tr>\n",
       "      <th>364</th>\n",
       "      <td>18</td>\n",
       "      <td>13</td>\n",
       "      <td>2.894225e-18</td>\n",
       "      <td>1.955176e-18</td>\n",
       "      <td>0.959516</td>\n",
       "    </tr>\n",
       "    <tr>\n",
       "      <th>365</th>\n",
       "      <td>2</td>\n",
       "      <td>13</td>\n",
       "      <td>7.084789e-19</td>\n",
       "      <td>5.045913e-18</td>\n",
       "      <td>0.959516</td>\n",
       "    </tr>\n",
       "    <tr>\n",
       "      <th>366</th>\n",
       "      <td>0</td>\n",
       "      <td>15</td>\n",
       "      <td>9.072230e-14</td>\n",
       "      <td>2.824730e-13</td>\n",
       "      <td>0.959516</td>\n",
       "    </tr>\n",
       "    <tr>\n",
       "      <th>367</th>\n",
       "      <td>0</td>\n",
       "      <td>15</td>\n",
       "      <td>4.972504e-15</td>\n",
       "      <td>3.464446e-16</td>\n",
       "      <td>0.959516</td>\n",
       "    </tr>\n",
       "    <tr>\n",
       "      <th>368</th>\n",
       "      <td>0</td>\n",
       "      <td>15</td>\n",
       "      <td>2.184473e-16</td>\n",
       "      <td>1.741231e-15</td>\n",
       "      <td>0.959516</td>\n",
       "    </tr>\n",
       "    <tr>\n",
       "      <th>369</th>\n",
       "      <td>0</td>\n",
       "      <td>15</td>\n",
       "      <td>8.187745e-17</td>\n",
       "      <td>1.962228e-17</td>\n",
       "      <td>0.959516</td>\n",
       "    </tr>\n",
       "    <tr>\n",
       "      <th>370</th>\n",
       "      <td>0</td>\n",
       "      <td>15</td>\n",
       "      <td>1.243892e-18</td>\n",
       "      <td>4.361832e-18</td>\n",
       "      <td>0.959516</td>\n",
       "    </tr>\n",
       "    <tr>\n",
       "      <th>371</th>\n",
       "      <td>0</td>\n",
       "      <td>15</td>\n",
       "      <td>6.429138e-19</td>\n",
       "      <td>6.782989e-19</td>\n",
       "      <td>0.959516</td>\n",
       "    </tr>\n",
       "    <tr>\n",
       "      <th>372</th>\n",
       "      <td>0</td>\n",
       "      <td>15</td>\n",
       "      <td>6.254799e-18</td>\n",
       "      <td>1.358233e-18</td>\n",
       "      <td>0.959516</td>\n",
       "    </tr>\n",
       "  </tbody>\n",
       "</table>\n",
       "</div>"
      ],
      "text/plain": [
       "     buyer_A  buyer_B    quantity_A    quantity_B  agg_util\n",
       "323       18        9  1.164320e-07  6.201981e-07  0.959515\n",
       "324        4       15  2.219925e-13  6.506988e-15  0.959515\n",
       "325        4       13  9.910388e-15  5.431414e-14  0.959515\n",
       "326        4       13  8.869917e-16  1.561595e-16  0.959515\n",
       "327       10        9  6.580854e-08  2.555726e-07  0.959516\n",
       "328        4       15  1.081311e-15  1.164595e-15  0.959516\n",
       "329       18       13  2.713089e-11  1.116066e-11  0.959516\n",
       "330        4       15  2.687573e-15  8.000658e-16  0.959516\n",
       "331        4       13  7.214170e-17  4.945419e-16  0.959516\n",
       "332        4       15  3.473384e-17  1.367059e-16  0.959516\n",
       "333       18        9  6.294943e-09  4.013343e-08  0.959516\n",
       "334        4       15  2.600621e-17  2.023462e-17  0.959516\n",
       "335        2       13  1.905364e-11  7.008229e-12  0.959516\n",
       "336        0       15  1.247865e-10  1.883865e-10  0.959516\n",
       "337       18       13  3.992261e-13  1.280914e-12  0.959516\n",
       "338        2       13  5.753690e-14  1.718183e-13  0.959516\n",
       "339       10        9  8.774139e-08  5.317130e-08  0.959516\n",
       "340       18       13  6.764411e-13  3.364830e-13  0.959516\n",
       "341        0       15  1.115449e-11  1.082892e-12  0.959516\n",
       "342       10        9  1.264652e-07  6.385408e-08  0.959516\n",
       "343       18        9  5.421108e-09  1.331258e-08  0.959516\n",
       "344        2       13  1.745853e-14  7.906808e-15  0.959516\n",
       "345       18       13  1.179695e-15  4.271372e-15  0.959516\n",
       "346       18        9  1.176555e-10  2.744228e-10  0.959516\n",
       "347       10        9  2.139261e-11  2.672079e-11  0.959516\n",
       "348       10        9  9.595830e-12  1.841938e-11  0.959516\n",
       "349        2       13  1.926703e-16  2.076478e-16  0.959516\n",
       "350       18       13  2.273654e-17  6.419944e-17  0.959516\n",
       "351        0       15  1.488931e-12  1.765740e-12  0.959516\n",
       "352       10        9  5.846854e-13  1.017796e-13  0.959516\n",
       "353       18        9  5.143391e-15  1.080215e-13  0.959516\n",
       "354       10        9  6.823370e-16  2.101782e-15  0.959516\n",
       "355        2       13  1.862124e-17  1.363022e-16  0.959516\n",
       "356        2       13  6.435930e-18  2.150675e-17  0.959516\n",
       "357       18        9  5.795075e-16  3.118082e-16  0.959516\n",
       "358       18       13  5.631581e-19  1.576714e-18  0.959516\n",
       "359        0       15  4.310337e-12  8.875115e-13  0.959516\n",
       "360       18        9  1.488902e-18  1.006562e-17  0.959516\n",
       "361       18        9  3.546599e-18  3.772409e-18  0.959516\n",
       "362        0       15  6.390441e-12  4.974961e-13  0.959516\n",
       "363        0       15  9.561820e-14  3.061677e-13  0.959516\n",
       "364       18       13  2.894225e-18  1.955176e-18  0.959516\n",
       "365        2       13  7.084789e-19  5.045913e-18  0.959516\n",
       "366        0       15  9.072230e-14  2.824730e-13  0.959516\n",
       "367        0       15  4.972504e-15  3.464446e-16  0.959516\n",
       "368        0       15  2.184473e-16  1.741231e-15  0.959516\n",
       "369        0       15  8.187745e-17  1.962228e-17  0.959516\n",
       "370        0       15  1.243892e-18  4.361832e-18  0.959516\n",
       "371        0       15  6.429138e-19  6.782989e-19  0.959516\n",
       "372        0       15  6.254799e-18  1.358233e-18  0.959516"
      ]
     },
     "execution_count": 47,
     "metadata": {},
     "output_type": "execute_result"
    }
   ],
   "source": [
    "df.tail(50) # show the last 20 rows"
   ]
  },
  {
   "cell_type": "markdown",
   "id": "e2dfbdf0",
   "metadata": {},
   "source": [
    "We can see for 10 agents of 190 trading pairs, the aggregate utility is converging to 0.959516. "
   ]
  },
  {
   "cell_type": "code",
   "execution_count": 48,
   "id": "91478db5",
   "metadata": {},
   "outputs": [
    {
     "data": {
      "text/plain": [
       "[[2, 0.03611676624866937, 0.04196867478738057],\n",
       " [10, 0.05710825818742655, 0.08779145142852914],\n",
       " [11, 0.07757296566058682, 0.08062436006634179],\n",
       " [15, 0.09540892052726532, 0.054924917037233616],\n",
       " [18, 0.056835278180234594, 0.057732785484697645]]"
      ]
     },
     "execution_count": 48,
     "metadata": {},
     "output_type": "execute_result"
    }
   ],
   "source": [
    "# [agents allocation_A allocation_B][abs.(allocation_A-allocation_B).>1e-4,:]\n",
    "cnt = 0\n",
    "for i in range(len_agents):\n",
    "    if abs(allocation_A[i]-allocation_B[i]) > 1e-4:\n",
    "        cnt += 1\n",
    "\n",
    "arr6=[[0 for i in range(3)] for j in range(cnt)]\n",
    "\n",
    "k = 0\n",
    "for i in range(len_agents):\n",
    "    if abs(allocation_A[i]-allocation_B[i]) > 1e-4:\n",
    "        arr6[k][0] = agents[i]\n",
    "        arr6[k][1] = allocation_A[i]\n",
    "        arr6[k][2] = allocation_B[i]\n",
    "        k += 1\n",
    "        \n",
    "arr6"
   ]
  },
  {
   "cell_type": "code",
   "execution_count": 49,
   "id": "4cddc635",
   "metadata": {},
   "outputs": [],
   "source": [
    "# (adjacency^1)[abs.(allocation_A-allocation_B).>1e-4,abs.(allocation_A-allocation_B).>1e-4]"
   ]
  },
  {
   "cell_type": "code",
   "execution_count": 50,
   "id": "8cdb6a78",
   "metadata": {},
   "outputs": [
    {
     "data": {
      "image/png": "[encoded data removed]",
      "text/plain": [
       "<Figure size 432x288 with 1 Axes>"
      ]
     },
     "metadata": {
      "needs_background": "light"
     },
     "output_type": "display_data"
    }
   ],
   "source": [
    "#df.plot(use_index=True, y='agg_util', kind = 'scatter')\n",
    "df['index'] = df.index # find the index of df\n",
    "#fig1 = plt.figure()\n",
    "fig1 = df.plot(x = 'index', y='agg_util', kind = 'scatter', xlabel = 'trade sequence number', ylabel = 'aggregate utility')\n",
    "plt.savefig(\"fig1.png\") # plt.savefig() needs to be called right above the plt.show()\n",
    "plt.show()"
   ]
  },
  {
   "cell_type": "code",
   "execution_count": 51,
   "id": "80327caa",
   "metadata": {},
   "outputs": [
    {
     "name": "stdout",
     "output_type": "stream",
     "text": [
      "The last value of agg_util is 0.9595159965099683\n"
     ]
    }
   ],
   "source": [
    "last_agg = list(df['agg_util'])[-1]\n",
    "print('The last value of agg_util is',last_agg)"
   ]
  },
  {
   "cell_type": "code",
   "execution_count": 52,
   "id": "f42e85cb",
   "metadata": {},
   "outputs": [
    {
     "name": "stdout",
     "output_type": "stream",
     "text": [
      "The number of last vaule is 4\n"
     ]
    }
   ],
   "source": [
    "num_last = list(df['agg_util']).count(last_agg)\n",
    "print('The number of last vaule is', num_last)"
   ]
  },
  {
   "cell_type": "code",
   "execution_count": 53,
   "id": "e0139f14",
   "metadata": {},
   "outputs": [
    {
     "data": {
      "text/plain": [
       "0.9574416561260345"
      ]
     },
     "execution_count": 53,
     "metadata": {},
     "output_type": "execute_result"
    }
   ],
   "source": [
    "list(df['agg_util'])[170]"
   ]
  },
  {
   "cell_type": "code",
   "execution_count": 54,
   "id": "ef133881",
   "metadata": {},
   "outputs": [],
   "source": [
    "# df2 = DataFrame(trade_count=Int64[],agg_util=Float64[]);\n",
    "trade_count = []\n",
    "agg_util = []"
   ]
  },
  {
   "cell_type": "code",
   "execution_count": 55,
   "id": "056a2e66",
   "metadata": {},
   "outputs": [],
   "source": [
    "# gamma_rv = sum(randn(2,length(location),4).^2,dims=3)\n",
    "def pz_gamma_rv(len_loc):\n",
    "    r_v = np.random.standard_normal((4, 2,len_loc)) # 4 matrix with 2X20\n",
    "    gamma_rv = np.sum(np.square(r_v), axis = 0)\n",
    "    return gamma_rv"
   ]
  },
  {
   "cell_type": "code",
   "execution_count": 56,
   "id": "ee06d5a7",
   "metadata": {},
   "outputs": [
    {
     "name": "stdout",
     "output_type": "stream",
     "text": [
      "count = 300\n",
      "N_runs = 9999\n"
     ]
    }
   ],
   "source": [
    "for N_runs in range(10000):\n",
    "    gamma_rv = pz_gamma_rv(len_location)\n",
    "    allocation_A = gamma_rv[0][:]/sum(gamma_rv[0][:])\n",
    "    allocation_B = gamma_rv[1][:]/sum(gamma_rv[1][:])\n",
    "    count = 0\n",
    "    for N_trades in range(1000):\n",
    "        trading_pair = random.choice(trading_pairs) # randomly select a trading pair\n",
    "        if allocation_A[trading_pair[0]] > allocation_B[trading_pair[0]] and allocation_A[trading_pair[1]] < allocation_B[trading_pair[1]]:\n",
    "            Δ = 1\n",
    "            l = np.minimum(allocation_A[trading_pair[0]]-allocation_B[trading_pair[0]],allocation_B[trading_pair[1]]-allocation_A[trading_pair[1]])\n",
    "        elif allocation_A[trading_pair[0]] < allocation_B[trading_pair[0]] and allocation_A[trading_pair[1]] > allocation_B[trading_pair[1]]:\n",
    "            Δ = -1\n",
    "            l = np.maximum(allocation_A[trading_pair[0]]-allocation_B[trading_pair[0]],allocation_B[trading_pair[1]]-allocation_A[trading_pair[1]])\n",
    "        else:\n",
    "            Δ = 0\n",
    "        \n",
    "        \n",
    "        if Δ != 0:\n",
    "            u1,u2 = np.random.rand(2)\n",
    "            if u1 + u2 > 1:\n",
    "                u1 = 1 - u1\n",
    "                u2 = 1 - u2\n",
    "        \n",
    "            ΔA = l*u1\n",
    "            ΔB = l*u2\n",
    "            allocation_A[trading_pair[0]] -= ΔA\n",
    "            allocation_A[trading_pair[1]] += ΔA\n",
    "            allocation_B[trading_pair[0]] += ΔB\n",
    "            allocation_B[trading_pair[1]] -= ΔB\n",
    "            count += 1\n",
    "       \n",
    "    trade_count.append(count)\n",
    "    agg_util.append(sum(np.minimum(allocation_A,allocation_B)))\n",
    "\n",
    "print(\"count =\",count)\n",
    "print(\"N_runs =\",N_runs)"
   ]
  },
  {
   "cell_type": "code",
   "execution_count": 57,
   "id": "ac8f56ed",
   "metadata": {},
   "outputs": [
    {
     "name": "stdout",
     "output_type": "stream",
     "text": [
      "      trade_count  agg_util\n",
      "0             298  0.922790\n",
      "1             309  0.971972\n",
      "2             318  0.992913\n",
      "3             303  0.979064\n",
      "4             315  0.941034\n",
      "...           ...       ...\n",
      "9995          331  0.986477\n",
      "9996          289  0.923283\n",
      "9997          303  0.973808\n",
      "9998          339  0.960823\n",
      "9999          300  0.878949\n",
      "\n",
      "[10000 rows x 2 columns]\n"
     ]
    }
   ],
   "source": [
    "d = {\"trade_count\": trade_count,\"agg_util\": agg_util}\n",
    "df2 = pd.DataFrame(data = d)\n",
    "print(df2)"
   ]
  },
  {
   "cell_type": "code",
   "execution_count": 58,
   "id": "73e20a5a",
   "metadata": {},
   "outputs": [
    {
     "name": "stdout",
     "output_type": "stream",
     "text": [
      "The last value of agg_util is 0.8789491849040696\n"
     ]
    }
   ],
   "source": [
    "last_agg = list(df2['agg_util'])[-1]\n",
    "print('The last value of agg_util is',last_agg)"
   ]
  },
  {
   "cell_type": "code",
   "execution_count": 59,
   "id": "24a054d8",
   "metadata": {},
   "outputs": [
    {
     "data": {
      "text/plain": [
       "pandas.core.series.Series"
      ]
     },
     "execution_count": 59,
     "metadata": {},
     "output_type": "execute_result"
    }
   ],
   "source": [
    "type(df2['agg_util'])"
   ]
  },
  {
   "cell_type": "code",
   "execution_count": 60,
   "id": "b7e39e21",
   "metadata": {},
   "outputs": [
    {
     "data": {
      "text/plain": [
       "0.9518714317263792"
      ]
     },
     "execution_count": 60,
     "metadata": {},
     "output_type": "execute_result"
    }
   ],
   "source": [
    "from statistics import mean\n",
    "\n",
    "mean(df2['agg_util'])"
   ]
  },
  {
   "cell_type": "code",
   "execution_count": 61,
   "id": "55b8b9d2",
   "metadata": {},
   "outputs": [
    {
     "data": {
      "text/plain": [
       "0.0335737810235876"
      ]
     },
     "execution_count": 61,
     "metadata": {},
     "output_type": "execute_result"
    }
   ],
   "source": [
    "from statistics import stdev\n",
    "\n",
    "\n",
    "stdev(df2['agg_util'])"
   ]
  },
  {
   "cell_type": "code",
   "execution_count": 62,
   "id": "3bd9453a",
   "metadata": {},
   "outputs": [
    {
     "data": {
      "image/png": "[encoded data removed]",
      "text/plain": [
       "<Figure size 432x288 with 1 Axes>"
      ]
     },
     "metadata": {
      "needs_background": "light"
     },
     "output_type": "display_data"
    }
   ],
   "source": [
    "# df2['index'] = df2.index # find the index of df\n",
    "fig2 = df2.plot(x = 'agg_util', kind = 'hist')\n",
    "plt.savefig(\"fig2.png\") # plt.savefig() needs to be called right above the plt.show()\n",
    "plt.show()"
   ]
  }
 ],
 "metadata": {
  "kernelspec": {
   "display_name": "Python 3.9.12 ('base')",
   "language": "python",
   "name": "python3"
  },
  "language_info": {
   "codemirror_mode": {
    "name": "ipython",
    "version": 3
   },
   "file_extension": ".py",
   "mimetype": "text/x-python",
   "name": "python",
   "nbconvert_exporter": "python",
   "pygments_lexer": "ipython3",
   "version": "3.9.12"
  },
  "vscode": {
   "interpreter": {
    "hash": "40d3a090f54c6569ab1632332b64b2c03c39dcf918b08424e98f38b5ae0af88f"
   }
  }
 },
 "nbformat": 4,
 "nbformat_minor": 5
}
